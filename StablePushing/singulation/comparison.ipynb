{
 "cells": [
  {
   "cell_type": "code",
   "execution_count": 1,
   "metadata": {},
   "outputs": [],
   "source": [
    "%matplotlib inline\n",
    "\n",
    "import json\n",
    "import numpy as np\n",
    "import matplotlib.pyplot as plt\n",
    "import os\n",
    "\n",
    "from helper import *"
   ]
  },
  {
   "cell_type": "code",
   "execution_count": 2,
   "metadata": {},
   "outputs": [
    {
     "data": {
      "text/plain": [
       "(208, 172, 170, 29326)"
      ]
     },
     "execution_count": 2,
     "metadata": {},
     "output_type": "execute_result"
    }
   ],
   "source": [
    "baseline = []\n",
    "select = []\n",
    "select2 = []\n",
    "distribution = []\n",
    "boundary_shear = []\n",
    "# non_slip = []\n",
    "\n",
    "for filename in os.listdir(\"comparison/baseline\"):\n",
    "    try:\n",
    "        if len(filename.split(\".\"))!=2 or filename.split(\".\")[1]!=\"json\":\n",
    "            continue\n",
    "        with open(\"comparison/baseline/\"+filename, 'r') as f:\n",
    "            dic = json.load(f)\n",
    "        baseline.append(dic['mean separation after push'] - dic['mean separation before push'])\n",
    "    except:\n",
    "        continue\n",
    "\n",
    "for filename in os.listdir(\"comparison/selected\"):\n",
    "    try:\n",
    "        if len(filename.split(\".\"))!=2 or filename.split(\".\")[1]!=\"json\":\n",
    "            continue\n",
    "        with open(\"comparison/selected/\"+filename, 'r') as f:\n",
    "            dic = json.load(f)\n",
    "        select.append(dic['mean separation after push'] - dic['mean separation before push'])\n",
    "    except:\n",
    "        continue\n",
    "\n",
    "for filename in os.listdir(\"comparison/selected2\"):\n",
    "    try:\n",
    "        if len(filename.split(\".\"))!=2 or filename.split(\".\")[1]!=\"json\":\n",
    "            continue\n",
    "        with open(\"comparison/selected2/\"+filename, 'r') as f:\n",
    "            dic = json.load(f)\n",
    "        select2.append(dic['mean separation after push'] - dic['mean separation before push'])\n",
    "    except:\n",
    "        continue\n",
    "\n",
    "for filename in os.listdir(\"comparison/distribution\"):\n",
    "    try:\n",
    "        if len(filename.split(\".\"))!=2 or filename.split(\".\")[1]!=\"json\":\n",
    "            continue\n",
    "        with open(\"comparison/distribution/\"+filename, 'r') as f:\n",
    "            dic = json.load(f)\n",
    "    #     if dic['first contact object'] != -1:\n",
    "    #         non_slip.append(dic['mean separation after push'] - dic['mean separation before push'])\n",
    "        distribution.append(dic['mean separation after push'] - dic['mean separation before push'])\n",
    "    except:\n",
    "        continue\n",
    "\n",
    "for filename in os.listdir(\"comparison/boundary_shear\"):\n",
    "    try:\n",
    "        if len(filename.split(\".\"))!=2 or filename.split(\".\")[1]!=\"json\":\n",
    "            continue\n",
    "        with open(\"comparison/boundary_shear/\"+filename, 'r') as f:\n",
    "            dic = json.load(f)\n",
    "        boundary_shear.append(dic['mean separation after push'] - dic['mean separation before push'])\n",
    "    except:\n",
    "        continue\n",
    "    \n",
    "len(baseline), len(select), len(select2), len(distribution)\n",
    "# boundary_shear"
   ]
  },
  {
   "cell_type": "code",
   "execution_count": 3,
   "metadata": {},
   "outputs": [
    {
     "data": {
      "text/plain": [
       "<matplotlib.legend.Legend at 0x10c676710>"
      ]
     },
     "execution_count": 3,
     "metadata": {},
     "output_type": "execute_result"
    },
    {
     "data": {
      "image/png": "[encoded data removed]",
      "text/plain": [
       "<Figure size 432x288 with 1 Axes>"
      ]
     },
     "metadata": {},
     "output_type": "display_data"
    }
   ],
   "source": [
    "weights = np.ones_like(distribution)/float(len(distribution))\n",
    "plt.hist(distribution, weights=weights, bins=np.arange(-1.3, 4.3, 0.2), alpha=0.4, label=\"overall distribution\")\n",
    "weights2 = np.ones_like(baseline)/float(len(baseline))\n",
    "plt.hist(baseline, weights=weights2, bins=np.arange(-1.3, 4.3, 0.2), alpha=0.4, label=\"baseline\")\n",
    "weights3 = np.ones_like(select)/float(len(select))\n",
    "plt.hist(select, weights=weights3, bins=np.arange(-1.3, 4.3, 0.2), alpha=0.4, label=\"select method 1\")\n",
    "weights4 = np.ones_like(select2)/float(len(select2))\n",
    "plt.hist(select2, weights=weights4, bins=np.arange(-1.3, 4.3, 0.2), alpha=0.4, label=\"select method 2\")\n",
    "weights1 = np.ones_like(boundary_shear)/float(len(boundary_shear))\n",
    "plt.hist(boundary_shear, weights=weights1, bins=np.arange(-1.3, 4.3, 0.2), alpha=0.4, label=\"boundary shear\")\n",
    "plt.legend(loc='upper left')\n"
   ]
  },
  {
   "cell_type": "code",
   "execution_count": 4,
   "metadata": {},
   "outputs": [
    {
     "data": {
      "text/plain": [
       "<matplotlib.legend.Legend at 0x10c5cbcc0>"
      ]
     },
     "execution_count": 4,
     "metadata": {},
     "output_type": "execute_result"
    },
    {
     "data": {
      "image/png": "[encoded data removed]",
      "text/plain": [
       "<Figure size 432x288 with 1 Axes>"
      ]
     },
     "metadata": {},
     "output_type": "display_data"
    }
   ],
   "source": [
    "weights1 = np.ones_like(boundary_shear)/float(len(boundary_shear))\n",
    "plt.hist(boundary_shear, weights=weights1, bins=np.arange(-0.1, 4.3, 0.2), alpha=0.4, label=\"boundary shear\")\n",
    "weights2 = np.ones_like(baseline)/float(len(baseline))\n",
    "plt.hist(baseline, weights=weights2, bins=np.arange(-0.1, 4.3, 0.2), alpha=0.4, label=\"baseline\")\n",
    "weights3 = np.ones_like(select)/float(len(select))\n",
    "plt.hist(select, weights=weights3, bins=np.arange(-0.1, 4.3, 0.2), alpha=0.4, label=\"select method 1\")\n",
    "weights4 = np.ones_like(select2)/float(len(select2))\n",
    "plt.hist(select2, weights=weights4, bins=np.arange(-0.1, 4.3, 0.2), alpha=0.4, label=\"select method 2\")\n",
    "plt.legend(loc='upper left')"
   ]
  },
  {
   "cell_type": "code",
   "execution_count": 5,
   "metadata": {},
   "outputs": [
    {
     "name": "stdout",
     "output_type": "stream",
     "text": [
      "89_1summary.json\n",
      "76_0summary.json\n",
      "10_1summary.json\n",
      "69_0summary.json\n",
      "38_1summary.json\n",
      "42_1summary.json\n"
     ]
    }
   ],
   "source": [
    "for filename in os.listdir(\"comparison/selected\"):\n",
    "    if len(filename.split(\".\"))!=2 or filename.split(\".\")[1]!=\"json\":\n",
    "        continue\n",
    "    with open(\"comparison/selected/\"+filename, 'r') as f:\n",
    "        dic = json.load(f)\n",
    "    if dic['mean separation after push'] - dic['mean separation before push'] < 1:\n",
    "        print(filename)"
   ]
  },
  {
   "cell_type": "code",
   "execution_count": 6,
   "metadata": {},
   "outputs": [
    {
     "name": "stdout",
     "output_type": "stream",
     "text": [
      "85_0summary.json\n",
      "20_1summary.json\n",
      "65_0summary.json\n",
      "113_0summary.json\n",
      "61_0summary.json\n",
      "17_1summary.json\n",
      "49_1summary.json\n",
      "143_0summary.json\n",
      "42_0summary.json\n",
      "19_0summary.json\n",
      "54_0summary.json\n",
      "136_0summary.json\n",
      "53_0summary.json\n",
      "89_0summary.json\n",
      "55_1summary.json\n",
      "90_0summary.json\n",
      "68_1summary.json\n",
      "74_0summary.json\n"
     ]
    }
   ],
   "source": [
    "for filename in os.listdir(\"comparison/baseline\"):\n",
    "    if len(filename.split(\".\"))!=2 or filename.split(\".\")[1]!=\"json\":\n",
    "        continue\n",
    "    with open(\"comparison/baseline/\"+filename, 'r') as f:\n",
    "        dic = json.load(f)\n",
    "    if dic['mean separation after push'] - dic['mean separation before push'] < 1:\n",
    "        print(filename)"
   ]
  },
  {
   "cell_type": "code",
   "execution_count": 7,
   "metadata": {},
   "outputs": [
    {
     "name": "stdout",
     "output_type": "stream",
     "text": [
      "89_1summary.json\n",
      "38_0summary.json\n",
      "79_1summary.json\n",
      "10_1summary.json\n",
      "76_1summary.json\n",
      "72_1summary.json\n",
      "50_0summary.json\n",
      "85_1summary.json\n",
      "42_1summary.json\n",
      "74_0summary.json\n",
      "56_1summary.json\n",
      "39_0summary.json\n"
     ]
    }
   ],
   "source": [
    "for filename in os.listdir(\"comparison/selected2\"):\n",
    "    if len(filename.split(\".\"))!=2 or filename.split(\".\")[1]!=\"json\":\n",
    "        continue\n",
    "    with open(\"comparison/selected2/\"+filename, 'r') as f:\n",
    "        dic = json.load(f)\n",
    "    if dic['mean separation after push'] - dic['mean separation before push'] < 1:\n",
    "        print(filename)"
   ]
  },
  {
   "cell_type": "code",
   "execution_count": 8,
   "metadata": {},
   "outputs": [
    {
     "name": "stdout",
     "output_type": "stream",
     "text": [
      "38_0summary.json\n",
      "69_0summary.json\n"
     ]
    }
   ],
   "source": [
    "for filename in os.listdir(\"comparison/boundary_shear\"):\n",
    "    if len(filename.split(\".\"))!=2 or filename.split(\".\")[1]!=\"json\":\n",
    "        continue\n",
    "    with open(\"comparison/boundary_shear/\"+filename, 'r') as f:\n",
    "        dic = json.load(f)\n",
    "    if dic['mean separation after push'] - dic['mean separation before push'] < 1:\n",
    "        print(filename)"
   ]
  },
  {
   "cell_type": "code",
   "execution_count": 9,
   "metadata": {},
   "outputs": [
    {
     "data": {
      "text/plain": [
       "(array([ 0.00961538,  0.        ,  0.00480769,  0.00961538,  0.01923077,\n",
       "         0.00480769,  0.00480769,  0.00961538,  0.00480769,  0.01923077,\n",
       "         0.01923077,  0.03365385,  0.01442308,  0.02884615,  0.01923077,\n",
       "         0.00961538,  0.00961538,  0.03846154,  0.02884615,  0.01442308,\n",
       "         0.01442308,  0.02884615,  0.05288462,  0.03846154,  0.05288462,\n",
       "         0.03365385,  0.04807692,  0.02403846,  0.05288462,  0.05288462,\n",
       "         0.07211538,  0.06730769,  0.03846154,  0.05769231,  0.02884615]),\n",
       " array([ 0. ,  0.1,  0.2,  0.3,  0.4,  0.5,  0.6,  0.7,  0.8,  0.9,  1. ,\n",
       "         1.1,  1.2,  1.3,  1.4,  1.5,  1.6,  1.7,  1.8,  1.9,  2. ,  2.1,\n",
       "         2.2,  2.3,  2.4,  2.5,  2.6,  2.7,  2.8,  2.9,  3. ,  3.1,  3.2,\n",
       "         3.3,  3.4,  3.5]),\n",
       " <a list of 35 Patch objects>)"
      ]
     },
     "execution_count": 9,
     "metadata": {},
     "output_type": "execute_result"
    },
    {
     "data": {
      "image/png": "[encoded data removed]",
      "text/plain": [
       "<Figure size 432x288 with 1 Axes>"
      ]
     },
     "metadata": {},
     "output_type": "display_data"
    }
   ],
   "source": [
    "weights2 = np.ones_like(baseline)/float(len(baseline))\n",
    "plt.hist(baseline, weights=weights2, bins=np.arange(0.0, 3.6, 0.1), alpha=0.4, label=\"baseline\")"
   ]
  },
  {
   "cell_type": "code",
   "execution_count": 10,
   "metadata": {},
   "outputs": [
    {
     "data": {
      "text/plain": [
       "(array([ 0.        ,  0.        ,  0.00581395,  0.        ,  0.00581395,\n",
       "         0.        ,  0.00581395,  0.01162791,  0.        ,  0.        ,\n",
       "         0.01744186,  0.        ,  0.03488372,  0.02906977,  0.01162791,\n",
       "         0.01162791,  0.03488372,  0.02906977,  0.02906977,  0.04651163,\n",
       "         0.02325581,  0.03488372,  0.06395349,  0.02325581,  0.05232558,\n",
       "         0.02325581,  0.05232558,  0.05232558,  0.04069767,  0.0755814 ,\n",
       "         0.06395349,  0.08139535,  0.04651163,  0.02906977,  0.02906977]),\n",
       " array([ 0. ,  0.1,  0.2,  0.3,  0.4,  0.5,  0.6,  0.7,  0.8,  0.9,  1. ,\n",
       "         1.1,  1.2,  1.3,  1.4,  1.5,  1.6,  1.7,  1.8,  1.9,  2. ,  2.1,\n",
       "         2.2,  2.3,  2.4,  2.5,  2.6,  2.7,  2.8,  2.9,  3. ,  3.1,  3.2,\n",
       "         3.3,  3.4,  3.5]),\n",
       " <a list of 35 Patch objects>)"
      ]
     },
     "execution_count": 10,
     "metadata": {},
     "output_type": "execute_result"
    },
    {
     "data": {
      "image/png": "[encoded data removed]",
      "text/plain": [
       "<Figure size 432x288 with 1 Axes>"
      ]
     },
     "metadata": {},
     "output_type": "display_data"
    }
   ],
   "source": [
    "weights3 = np.ones_like(select)/float(len(select))\n",
    "plt.hist(select, weights=weights3, bins=np.arange(0.0, 3.6, 0.1), alpha=0.4, label=\"select method 1\")"
   ]
  },
  {
   "cell_type": "code",
   "execution_count": 11,
   "metadata": {},
   "outputs": [
    {
     "data": {
      "text/plain": [
       "(array([ 0.        ,  0.        ,  0.00588235,  0.        ,  0.        ,\n",
       "         0.        ,  0.01176471,  0.01764706,  0.03529412,  0.        ,\n",
       "         0.01176471,  0.01764706,  0.04117647,  0.02941176,  0.01764706,\n",
       "         0.        ,  0.04705882,  0.03529412,  0.02352941,  0.02941176,\n",
       "         0.04705882,  0.04705882,  0.07058824,  0.04117647,  0.05294118,\n",
       "         0.04705882,  0.05294118,  0.02352941,  0.03529412,  0.04705882,\n",
       "         0.06470588,  0.07647059,  0.01764706,  0.02941176,  0.01176471]),\n",
       " array([ 0. ,  0.1,  0.2,  0.3,  0.4,  0.5,  0.6,  0.7,  0.8,  0.9,  1. ,\n",
       "         1.1,  1.2,  1.3,  1.4,  1.5,  1.6,  1.7,  1.8,  1.9,  2. ,  2.1,\n",
       "         2.2,  2.3,  2.4,  2.5,  2.6,  2.7,  2.8,  2.9,  3. ,  3.1,  3.2,\n",
       "         3.3,  3.4,  3.5]),\n",
       " <a list of 35 Patch objects>)"
      ]
     },
     "execution_count": 11,
     "metadata": {},
     "output_type": "execute_result"
    },
    {
     "data": {
      "image/png": "[encoded data removed]",
      "text/plain": [
       "<Figure size 432x288 with 1 Axes>"
      ]
     },
     "metadata": {},
     "output_type": "display_data"
    }
   ],
   "source": [
    "weights4 = np.ones_like(select2)/float(len(select2))\n",
    "plt.hist(select2, weights=weights4, bins=np.arange(0.0, 3.6, 0.1), alpha=0.4, label=\"select method 2\")"
   ]
  },
  {
   "cell_type": "code",
   "execution_count": 12,
   "metadata": {},
   "outputs": [
    {
     "data": {
      "text/plain": [
       "(array([ 0.01176471,  0.        ,  0.        ,  0.        ,  0.        ,\n",
       "         0.        ,  0.01176471,  0.        ,  0.        ,  0.        ,\n",
       "         0.        ,  0.        ,  0.01176471,  0.07058824,  0.04705882,\n",
       "         0.03529412,  0.02352941,  0.03529412,  0.02352941,  0.03529412,\n",
       "         0.01176471,  0.05882353,  0.04705882,  0.04705882,  0.05882353,\n",
       "         0.04705882,  0.03529412,  0.03529412,  0.03529412,  0.05882353,\n",
       "         0.02352941,  0.05882353,  0.05882353,  0.05882353,  0.01176471]),\n",
       " array([ 0. ,  0.1,  0.2,  0.3,  0.4,  0.5,  0.6,  0.7,  0.8,  0.9,  1. ,\n",
       "         1.1,  1.2,  1.3,  1.4,  1.5,  1.6,  1.7,  1.8,  1.9,  2. ,  2.1,\n",
       "         2.2,  2.3,  2.4,  2.5,  2.6,  2.7,  2.8,  2.9,  3. ,  3.1,  3.2,\n",
       "         3.3,  3.4,  3.5]),\n",
       " <a list of 35 Patch objects>)"
      ]
     },
     "execution_count": 12,
     "metadata": {},
     "output_type": "execute_result"
    },
    {
     "data": {
      "image/png": "[encoded data removed]",
      "text/plain": [
       "<Figure size 432x288 with 1 Axes>"
      ]
     },
     "metadata": {},
     "output_type": "display_data"
    }
   ],
   "source": [
    "weights4 = np.ones_like(boundary_shear)/float(len(boundary_shear))\n",
    "plt.hist(boundary_shear, weights=weights4, bins=np.arange(0.0, 3.6, 0.1), alpha=0.4, label=\"select method 2\")"
   ]
  },
  {
   "cell_type": "code",
   "execution_count": 13,
   "metadata": {},
   "outputs": [
    {
     "data": {
      "text/plain": [
       "<BarContainer object of 5 artists>"
      ]
     },
     "execution_count": 13,
     "metadata": {},
     "output_type": "execute_result"
    },
    {
     "data": {
      "image/png": "[encoded data removed]",
      "text/plain": [
       "<Figure size 432x288 with 1 Axes>"
      ]
     },
     "metadata": {},
     "output_type": "display_data"
    }
   ],
   "source": [
    "means = (np.mean(baseline), np.mean(select), np.mean(select2), np.mean(boundary_shear), np.mean(distribution))\n",
    "std = (np.std(baseline), np.std(select), np.std(select2), np.std(boundary_shear), np.std(distribution))\n",
    "\n",
    "plt.bar((10, 20, 30, 40, 50), means, yerr=std, width=4)"
   ]
  },
  {
   "cell_type": "code",
   "execution_count": 14,
   "metadata": {},
   "outputs": [],
   "source": [
    "baseline_best = {}\n",
    "for filename in os.listdir(\"comparison/baseline\"):\n",
    "    try:\n",
    "        if len(filename.split(\".\"))!=2 or filename.split(\".\")[1]!=\"json\":\n",
    "            continue\n",
    "        with open(\"comparison/baseline/\"+filename, 'r') as f:\n",
    "            dic = json.load(f)\n",
    "        push_object = -1\n",
    "        max_dist = 0\n",
    "        for obj_ind in range(2):\n",
    "            for obj_ind_2 in range(1, 3):\n",
    "                if euclidean_dist(dic[str(obj_ind)+\" original pos\"], dic[str(obj_ind_2)+\" original pos\"]) > max_dist:\n",
    "                    max_dist = euclidean_dist(dic[str(obj_ind)+\" original pos\"], dic[str(obj_ind_2)+\" original pos\"])\n",
    "                    push_object = 3 - obj_ind - obj_ind_2\n",
    "        if push_object == -1 or push_object != dic[\"first contact object\"]:\n",
    "            continue\n",
    "        key = filename.split(\"_\")[0]\n",
    "        if not key in baseline_best.keys():\n",
    "            baseline_best[key] = [dic[str(push_object)+\" change of pos\"], dic['mean separation after push'] - dic['mean separation before push'], filename]\n",
    "        elif baseline_best[key][1] < dic['mean separation after push'] - dic['mean separation before push']:\n",
    "            baseline_best[key] = [dic[str(push_object)+\" change of pos\"], dic['mean separation after push'] - dic['mean separation before push'], filename]\n",
    "    except:\n",
    "        continue\n",
    "\n",
    "        \n",
    "baseline_final = [baseline_best[key][1] for key in baseline_best.keys()]"
   ]
  },
  {
   "cell_type": "code",
   "execution_count": 15,
   "metadata": {},
   "outputs": [],
   "source": [
    "selected_best = {}\n",
    "for filename in os.listdir(\"comparison/selected\"):\n",
    "    try:\n",
    "        if len(filename.split(\".\"))!=2 or filename.split(\".\")[1]!=\"json\":\n",
    "            continue\n",
    "        with open(\"comparison/selected/\"+filename, 'r') as f:\n",
    "            dic = json.load(f)\n",
    "        push_object = -1\n",
    "        max_dist = 0\n",
    "        for obj_ind in range(2):\n",
    "            for obj_ind_2 in range(1, 3):\n",
    "                if euclidean_dist(dic[str(obj_ind)+\" original pos\"], dic[str(obj_ind_2)+\" original pos\"]) > max_dist:\n",
    "                    max_dist = euclidean_dist(dic[str(obj_ind)+\" original pos\"], dic[str(obj_ind_2)+\" original pos\"])\n",
    "                    push_object = 3 - obj_ind - obj_ind_2\n",
    "        if push_object == -1 or push_object != dic[\"first contact object\"]:\n",
    "            continue\n",
    "        key = filename.split(\"_\")[0]\n",
    "        if not key in selected_best.keys():\n",
    "            selected_best[key] = [dic[str(push_object)+\" change of pos\"], dic['mean separation after push'] - dic['mean separation before push'], filename]\n",
    "        elif selected_best[key][1] < dic['mean separation after push'] - dic['mean separation before push']:\n",
    "            selected_best[key] = [dic[str(push_object)+\" change of pos\"], dic['mean separation after push'] - dic['mean separation before push'], filename]\n",
    "    except:\n",
    "        continue\n",
    "        \n",
    "selected_final = [selected_best[key][1] for key in selected_best.keys()]"
   ]
  },
  {
   "cell_type": "code",
   "execution_count": 16,
   "metadata": {},
   "outputs": [],
   "source": [
    "selected2_best = {}\n",
    "for filename in os.listdir(\"comparison/selected2\"):\n",
    "    try:\n",
    "        if len(filename.split(\".\"))!=2 or filename.split(\".\")[1]!=\"json\":\n",
    "            continue\n",
    "        with open(\"comparison/selected2/\"+filename, 'r') as f:\n",
    "            dic = json.load(f)\n",
    "        push_object = -1\n",
    "        max_dist = 0\n",
    "        for obj_ind in range(2):\n",
    "            for obj_ind_2 in range(1, 3):\n",
    "                if euclidean_dist(dic[str(obj_ind)+\" original pos\"], dic[str(obj_ind_2)+\" original pos\"]) > max_dist:\n",
    "                    max_dist = euclidean_dist(dic[str(obj_ind)+\" original pos\"], dic[str(obj_ind_2)+\" original pos\"])\n",
    "                    push_object = 3 - obj_ind - obj_ind_2\n",
    "        if push_object == -1 or push_object != dic[\"first contact object\"]:\n",
    "            continue\n",
    "        key = filename.split(\"_\")[0]\n",
    "        if not key in selected2_best.keys():\n",
    "            selected2_best[key] = [dic[str(push_object)+\" change of pos\"], dic['mean separation after push'] - dic['mean separation before push'], filename]\n",
    "        elif selected2_best[key][1] < dic['mean separation after push'] - dic['mean separation before push']:\n",
    "            selected2_best[key] = [dic[str(push_object)+\" change of pos\"], dic['mean separation after push'] - dic['mean separation before push'], filename]\n",
    "    except:\n",
    "        continue\n",
    "        \n",
    "selected2_final = [selected2_best[key][1] for key in selected2_best.keys()]"
   ]
  },
  {
   "cell_type": "code",
   "execution_count": 17,
   "metadata": {},
   "outputs": [],
   "source": [
    "boundary_shear_all = {}\n",
    "\n",
    "for filename in os.listdir(\"comparison/boundary_shear\"):\n",
    "    try:\n",
    "        if len(filename.split(\".\"))!=2 or filename.split(\".\")[1]!=\"json\":\n",
    "            continue\n",
    "        with open(\"comparison/boundary_shear/\"+filename, 'r') as f:\n",
    "            dic = json.load(f)\n",
    "        key = filename.split(\"_\")[0]\n",
    "        if not key in boundary_shear_all.keys():\n",
    "            boundary_shear_all[key] = [dic[str(push_object)+\" change of pos\"], dic['mean separation after push'] - dic['mean separation before push'], filename]\n",
    "        elif boundary_shear_all[key][0] < dic[str(push_object)+\" change of pos\"]:\n",
    "            boundary_shear_all[key] = [dic[str(push_object)+\" change of pos\"], dic['mean separation after push'] - dic['mean separation before push'], filename]\n",
    "    except:\n",
    "        continue"
   ]
  },
  {
   "cell_type": "code",
   "execution_count": 18,
   "metadata": {},
   "outputs": [
    {
     "data": {
      "text/plain": [
       "<matplotlib.legend.Legend at 0x1155c3d68>"
      ]
     },
     "execution_count": 18,
     "metadata": {},
     "output_type": "execute_result"
    },
    {
     "data": {
      "image/png": "[encoded data removed]",
      "text/plain": [
       "<Figure size 432x288 with 1 Axes>"
      ]
     },
     "metadata": {},
     "output_type": "display_data"
    }
   ],
   "source": [
    "weights2 = np.ones_like(baseline_final)/float(len(baseline_final))\n",
    "plt.hist(baseline_final, weights=weights2, bins=np.arange(0.0, 4.3, 0.15), alpha=0.3, label=\"baseline\")\n",
    "weights3 = np.ones_like(selected_final)/float(len(selected_final))\n",
    "plt.hist(selected_final, weights=weights3, bins=np.arange(0.0, 4.3, 0.15), alpha=0.3, label=\"select method 1\")\n",
    "weights4 = np.ones_like(selected2_final)/float(len(selected2_final))\n",
    "plt.hist(selected2_final, weights=weights4, bins=np.arange(0.0, 4.3, 0.15), alpha=0.3, label=\"select method 2\")\n",
    "weights5 = np.ones_like(boundary_shear)/float(len(boundary_shear))\n",
    "plt.hist(boundary_shear, weights=weights5, bins=np.arange(0.0, 4.3, 0.15), alpha=0.3, label=\"boundary shear\")\n",
    "plt.legend(loc='upper left')"
   ]
  },
  {
   "cell_type": "code",
   "execution_count": 19,
   "metadata": {},
   "outputs": [
    {
     "data": {
      "text/plain": [
       "<BarContainer object of 5 artists>"
      ]
     },
     "execution_count": 19,
     "metadata": {},
     "output_type": "execute_result"
    },
    {
     "data": {
      "image/png": "[encoded data removed]",
      "text/plain": [
       "<Figure size 432x288 with 1 Axes>"
      ]
     },
     "metadata": {},
     "output_type": "display_data"
    }
   ],
   "source": [
    "plt.bar((10, 20, 30, 40, 50), means, yerr=std, width=4)\n",
    "means = (np.mean(baseline_final), np.mean(selected_final), np.mean(selected2_final), np.mean(boundary_shear), np.mean(distribution))\n",
    "std = (np.std(baseline_final), np.std(selected_final), np.std(selected2_final), np.std(boundary_shear), np.std(distribution))\n",
    "\n",
    "plt.bar((10, 20, 30, 40, 50), means, yerr=std, width=4)"
   ]
  },
  {
   "cell_type": "code",
   "execution_count": 20,
   "metadata": {},
   "outputs": [
    {
     "name": "stdout",
     "output_type": "stream",
     "text": [
      "113_0summary.json\n",
      "61_0summary.json\n",
      "49_1summary.json\n",
      "143_0summary.json\n",
      "136_0summary.json\n"
     ]
    }
   ],
   "source": [
    "for key in baseline_best.keys():\n",
    "    if baseline_best[key][1] < 1:\n",
    "        print(baseline_best[key][2])"
   ]
  },
  {
   "cell_type": "code",
   "execution_count": 21,
   "metadata": {},
   "outputs": [],
   "source": [
    "for key in selected_best.keys():\n",
    "    if selected_best[key][1] < 1:\n",
    "        print(selected_best[key][2])"
   ]
  },
  {
   "cell_type": "code",
   "execution_count": 22,
   "metadata": {},
   "outputs": [],
   "source": [
    "for key in selected2_best.keys():\n",
    "    if selected2_best[key][1] < 1:\n",
    "        print(selected2_best[key][2])"
   ]
  },
  {
   "cell_type": "code",
   "execution_count": 23,
   "metadata": {},
   "outputs": [],
   "source": [
    "overall = {}\n",
    "proposed_method = {}\n",
    "\n",
    "for key in baseline_best.keys():\n",
    "    if not key in overall.keys():\n",
    "        overall[key] = baseline_best[key]\n",
    "    elif overall[key][1] < baseline_best[key][1]:\n",
    "        overall[key] = baseline_best[key]\n",
    "    if not key in proposed_method.keys():\n",
    "        proposed_method[key] = baseline_best[key]\n",
    "    elif proposed_method[key][1] < baseline_best[key][1]:\n",
    "        proposed_method[key] = baseline_best[key]\n",
    "        \n",
    "for key in selected_best.keys():\n",
    "    if not key in overall.keys():\n",
    "        overall[key] = selected_best[key]\n",
    "    elif overall[key][1] < selected_best[key][1]:\n",
    "        overall[key] = selected_best[key]\n",
    "        \n",
    "for key in selected2_best.keys():\n",
    "    if not key in overall.keys():\n",
    "        overall[key] = selected2_best[key]\n",
    "    elif overall[key][1] < selected2_best[key][1]:\n",
    "        overall[key] = selected2_best[key]\n",
    "\n",
    "for key in boundary_shear_all.keys():\n",
    "    if not key in overall.keys():\n",
    "        overall[key] = boundary_shear_all[key]\n",
    "    elif overall[key][1] < boundary_shear_all[key][1]:\n",
    "        overall[key] = boundary_shear_all[key]\n",
    "    if not key in proposed_method.keys():\n",
    "        proposed_method[key] = boundary_shear_all[key]\n",
    "    elif proposed_method[key][1] < boundary_shear_all[key][1]:\n",
    "        proposed_method[key] = boundary_shear_all[key]\n",
    "\n",
    "overall_final = [overall[key][1] for key in overall.keys()]\n",
    "proposed_final = [proposed_method[key][1] for key in proposed_method.keys()]"
   ]
  },
  {
   "cell_type": "code",
   "execution_count": 24,
   "metadata": {},
   "outputs": [
    {
     "data": {
      "text/plain": [
       "(array([ 0.00877193,  0.        ,  0.00877193,  0.00877193,  0.        ,\n",
       "         0.        ,  0.        ,  0.        ,  0.        ,  0.        ,\n",
       "         0.00877193,  0.00877193,  0.        ,  0.01754386,  0.        ,\n",
       "         0.00877193,  0.00877193,  0.        ,  0.01754386,  0.01754386,\n",
       "         0.        ,  0.        ,  0.00877193,  0.01754386,  0.02631579,\n",
       "         0.01754386,  0.02631579,  0.04385965,  0.04385965,  0.06140351,\n",
       "         0.14035088,  0.13157895,  0.10526316,  0.11403509,  0.05263158]),\n",
       " array([ 0. ,  0.1,  0.2,  0.3,  0.4,  0.5,  0.6,  0.7,  0.8,  0.9,  1. ,\n",
       "         1.1,  1.2,  1.3,  1.4,  1.5,  1.6,  1.7,  1.8,  1.9,  2. ,  2.1,\n",
       "         2.2,  2.3,  2.4,  2.5,  2.6,  2.7,  2.8,  2.9,  3. ,  3.1,  3.2,\n",
       "         3.3,  3.4,  3.5]),\n",
       " <a list of 35 Patch objects>)"
      ]
     },
     "execution_count": 24,
     "metadata": {},
     "output_type": "execute_result"
    },
    {
     "data": {
      "image/png": "[encoded data removed]",
      "text/plain": [
       "<Figure size 432x288 with 1 Axes>"
      ]
     },
     "metadata": {},
     "output_type": "display_data"
    }
   ],
   "source": [
    "weights5 = np.ones_like(overall_final)/float(len(overall_final))\n",
    "plt.hist(overall_final, weights=weights5, bins=np.arange(0.0, 3.6, 0.1), label=\"overall best\")"
   ]
  },
  {
   "cell_type": "code",
   "execution_count": 25,
   "metadata": {},
   "outputs": [],
   "source": [
    "optimal = {}\n",
    "for filename in os.listdir(\"comparison/distribution\"):\n",
    "    try:\n",
    "        if len(filename.split(\".\"))!=2 or filename.split(\".\")[1]!=\"json\":\n",
    "            continue\n",
    "        with open(\"comparison/distribution/\"+filename, 'r') as f:\n",
    "            dic = json.load(f)\n",
    "        key = filename.split(\"_\")[0]\n",
    "        if not key in optimal.keys():\n",
    "            optimal[key] = [dic['mean separation after push'] - dic['mean separation before push'], filename]\n",
    "        elif optimal[key][0] < dic['mean separation after push'] - dic['mean separation before push']:\n",
    "            optimal[key] = [dic['mean separation after push'] - dic['mean separation before push'], filename]\n",
    "    except:\n",
    "        continue"
   ]
  },
  {
   "cell_type": "code",
   "execution_count": 26,
   "metadata": {},
   "outputs": [],
   "source": [
    "optimal_final = [optimal[key][0] for key in optimal.keys()]"
   ]
  },
  {
   "cell_type": "code",
   "execution_count": 27,
   "metadata": {},
   "outputs": [
    {
     "data": {
      "text/plain": [
       "<matplotlib.legend.Legend at 0x115ad2780>"
      ]
     },
     "execution_count": 27,
     "metadata": {},
     "output_type": "execute_result"
    },
    {
     "data": {
      "image/png": "[encoded data removed]",
      "text/plain": [
       "<Figure size 432x288 with 1 Axes>"
      ]
     },
     "metadata": {},
     "output_type": "display_data"
    }
   ],
   "source": [
    "weights2 = np.ones_like(baseline_final)/float(len(baseline_final))\n",
    "plt.hist(baseline_final, weights=weights2, bins=np.arange(0.0, 4.5, 0.15), alpha=0.3, label=\"baseline\")\n",
    "weights3 = np.ones_like(selected_final)/float(len(selected_final))\n",
    "plt.hist(selected_final, weights=weights3, bins=np.arange(0.0, 4.5, 0.15), alpha=0.3, label=\"select method 1\")\n",
    "weights4 = np.ones_like(selected2_final)/float(len(selected2_final))\n",
    "plt.hist(selected2_final, weights=weights4, bins=np.arange(0.0, 4.5, 0.15), alpha=0.3, label=\"select method 2\")\n",
    "weights5 = np.ones_like(boundary_shear)/float(len(boundary_shear))\n",
    "plt.hist(boundary_shear, weights=weights5, bins=np.arange(0.0, 4.5, 0.15), alpha=0.3, label=\"boundary shear\")\n",
    "weights6 = np.ones_like(optimal_final)/float(len(optimal_final))\n",
    "plt.hist(optimal_final, weights=weights6, bins=np.arange(0.0, 4.5, 0.15), alpha=1, label=\"overall best\")\n",
    "plt.legend(loc='upper left')"
   ]
  },
  {
   "cell_type": "code",
   "execution_count": 28,
   "metadata": {},
   "outputs": [
    {
     "data": {
      "text/plain": [
       "<matplotlib.legend.Legend at 0x115a46780>"
      ]
     },
     "execution_count": 28,
     "metadata": {},
     "output_type": "execute_result"
    },
    {
     "data": {
      "image/png": "[encoded data removed]",
      "text/plain": [
       "<Figure size 432x288 with 1 Axes>"
      ]
     },
     "metadata": {},
     "output_type": "display_data"
    }
   ],
   "source": [
    "weights5 = np.ones_like(overall_final)/float(len(overall_final))\n",
    "plt.hist(overall_final, weights=weights5, bins=np.arange(1.5, 4, 0.1), alpha=0.4, label=\"ensemble\")\n",
    "weights4 = np.ones_like(proposed_final)/float(len(proposed_final))\n",
    "plt.hist(proposed_final, weights=weights4, bins=np.arange(1.5, 4, 0.1), alpha=0.4, label=\"proposed\")\n",
    "weights6 = np.ones_like(optimal_final)/float(len(optimal_final))\n",
    "plt.hist(optimal_final, weights=weights6, bins=np.arange(1.5, 4, 0.1), alpha=0.4, label=\"optimal over 300\")\n",
    "plt.legend(loc='upper left')"
   ]
  },
  {
   "cell_type": "code",
   "execution_count": 29,
   "metadata": {},
   "outputs": [],
   "source": [
    "overall = {}\n",
    "# baseline_best[\"0\"], selected_best[\"0\"], selected2_best[\"0\"], boundary_shear_all[\"0\"]\n",
    "\n",
    "for key in baseline_best.keys():\n",
    "    if not key in overall.keys():\n",
    "        overall[key] = [baseline_best[key], 0]\n",
    "    elif overall[key][0][1] < baseline_best[key][1]:\n",
    "        overall[key] = [baseline_best[key], 0]\n",
    "        \n",
    "for key in selected_best.keys():\n",
    "    if not key in overall.keys():\n",
    "        overall[key] = [selected_best[key], 1]\n",
    "    elif overall[key][0][1] < selected_best[key][1]:\n",
    "        overall[key] = [selected_best[key], 1]\n",
    "        \n",
    "for key in selected2_best.keys():\n",
    "    if not key in overall.keys():\n",
    "        overall[key] = [selected2_best[key], 2]\n",
    "    elif overall[key][0][1] < selected2_best[key][1]:\n",
    "        overall[key] = [selected2_best[key], 2]\n",
    "\n",
    "for key in boundary_shear_all.keys():\n",
    "    if not key in overall.keys():\n",
    "        overall[key] = [boundary_shear_all[key], 3]\n",
    "    elif overall[key][0][1] < boundary_shear_all[key][1]:\n",
    "        overall[key] = [boundary_shear_all[key], 3]"
   ]
  },
  {
   "cell_type": "code",
   "execution_count": 30,
   "metadata": {},
   "outputs": [],
   "source": [
    "counts = [0, 0, 0, 0]\n",
    "for key in overall.keys():\n",
    "    counts[overall[key][1]] += 1"
   ]
  },
  {
   "cell_type": "code",
   "execution_count": 31,
   "metadata": {},
   "outputs": [
    {
     "data": {
      "text/plain": [
       "[54, 34, 11, 15]"
      ]
     },
     "execution_count": 31,
     "metadata": {},
     "output_type": "execute_result"
    }
   ],
   "source": [
    "counts"
   ]
  },
  {
   "cell_type": "code",
   "execution_count": 32,
   "metadata": {},
   "outputs": [
    {
     "name": "stdout",
     "output_type": "stream",
     "text": [
      "113_0summary.json\n",
      "61_0summary.json\n",
      "49_1summary.json\n",
      "143_0summary.json\n",
      "136_0summary.json\n"
     ]
    }
   ],
   "source": [
    "for key in baseline_best.keys():\n",
    "    if baseline_best[key][1] < 1:\n",
    "        print(baseline_best[key][2])"
   ]
  },
  {
   "cell_type": "code",
   "execution_count": 33,
   "metadata": {},
   "outputs": [],
   "source": [
    "for key in selected_best.keys():\n",
    "    if selected_best[key][1] < 1:\n",
    "        print(selected_best[key][2])"
   ]
  },
  {
   "cell_type": "code",
   "execution_count": 34,
   "metadata": {},
   "outputs": [],
   "source": [
    "a = {}\n",
    "for key in optimal.keys():\n",
    "    slips = []\n",
    "    if key in selected_best.keys():\n",
    "        slips.append(selected_best[key][1])\n",
    "    if key in selected2_best.keys():\n",
    "        slips.append(selected2_best[key][1])\n",
    "    if key in baseline_best.keys():\n",
    "        slips.append(baseline_best[key][1])\n",
    "    if len(slips) != 0:\n",
    "        optimal_slip = max(slips)\n",
    "        a[key] = (optimal_slip / optimal[key][0])\n",
    "    "
   ]
  },
  {
   "cell_type": "code",
   "execution_count": 35,
   "metadata": {},
   "outputs": [],
   "source": [
    "slip_env = [a[key] for key in a.keys()]"
   ]
  },
  {
   "cell_type": "code",
   "execution_count": 36,
   "metadata": {},
   "outputs": [
    {
     "data": {
      "text/plain": [
       "(array([ 0.        ,  0.00877193,  0.02631579,  0.01754386,  0.01754386,\n",
       "         0.01754386,  0.02631579,  0.00877193,  0.07017544,  0.02631579,\n",
       "         0.05263158,  0.07017544,  0.07017544,  0.14035088,  0.19298246,\n",
       "         0.12280702,  0.03508772,  0.        ]),\n",
       " array([ 0.55,  0.58,  0.61,  0.64,  0.67,  0.7 ,  0.73,  0.76,  0.79,\n",
       "         0.82,  0.85,  0.88,  0.91,  0.94,  0.97,  1.  ,  1.03,  1.06,  1.09]),\n",
       " <a list of 18 Patch objects>)"
      ]
     },
     "execution_count": 36,
     "metadata": {},
     "output_type": "execute_result"
    },
    {
     "data": {
      "image/png": "[encoded data removed]",
      "text/plain": [
       "<Figure size 432x288 with 1 Axes>"
      ]
     },
     "metadata": {},
     "output_type": "display_data"
    }
   ],
   "source": [
    "weights6 = np.ones_like(slip_env)/float(len(slip_env))\n",
    "plt.hist(slip_env, weights=weights6, bins=np.arange(0.55, 1.1, 0.03), alpha=1, label=\"optimal over 300\")"
   ]
  },
  {
   "cell_type": "code",
   "execution_count": 37,
   "metadata": {},
   "outputs": [],
   "source": [
    "b = {}\n",
    "for key in optimal.keys():\n",
    "    if key in boundary_shear_all.keys():\n",
    "        mean_sep = boundary_shear_all[key][1]\n",
    "        b[key] = (mean_sep / optimal[key][0])"
   ]
  },
  {
   "cell_type": "code",
   "execution_count": 38,
   "metadata": {},
   "outputs": [
    {
     "data": {
      "text/plain": [
       "(array([ 0.        ,  0.01176471,  0.        ,  0.02352941,  0.03529412,\n",
       "         0.04705882,  0.01176471,  0.04705882,  0.05882353,  0.03529412,\n",
       "         0.03529412,  0.02352941,  0.05882353,  0.05882353,  0.03529412,\n",
       "         0.03529412,  0.05882353,  0.01176471,  0.04705882,  0.05882353,\n",
       "         0.08235294,  0.05882353,  0.05882353,  0.03529412,  0.03529412,\n",
       "         0.01176471,  0.        ]),\n",
       " array([ 0.28,  0.31,  0.34,  0.37,  0.4 ,  0.43,  0.46,  0.49,  0.52,\n",
       "         0.55,  0.58,  0.61,  0.64,  0.67,  0.7 ,  0.73,  0.76,  0.79,\n",
       "         0.82,  0.85,  0.88,  0.91,  0.94,  0.97,  1.  ,  1.03,  1.06,  1.09]),\n",
       " <a list of 27 Patch objects>)"
      ]
     },
     "execution_count": 38,
     "metadata": {},
     "output_type": "execute_result"
    },
    {
     "data": {
      "image/png": "[encoded data removed]",
      "text/plain": [
       "<Figure size 432x288 with 1 Axes>"
      ]
     },
     "metadata": {},
     "output_type": "display_data"
    }
   ],
   "source": [
    "single_sep_env = [b[key] for key in b.keys()]\n",
    "weights6 = np.ones_like(single_sep_env)/float(len(single_sep_env))\n",
    "plt.hist(single_sep_env, weights=weights6, bins=np.arange(0.28, 1.1, 0.03), alpha=1, label=\"optimal over 300\")"
   ]
  },
  {
   "cell_type": "code",
   "execution_count": 39,
   "metadata": {},
   "outputs": [],
   "source": [
    "overall_ratio = {}\n",
    "for key in optimal.keys():\n",
    "    optimal_ratio = 0\n",
    "    if key in a.keys():\n",
    "        optimal_ratio = a[key]\n",
    "    if key in b.keys():\n",
    "        optimal_ratio = max(optimal_ratio, b[key])\n",
    "    overall_ratio[key] = optimal_ratio"
   ]
  },
  {
   "cell_type": "code",
   "execution_count": 40,
   "metadata": {},
   "outputs": [
    {
     "data": {
      "text/plain": [
       "(array([ 0.        ,  0.        ,  0.01503759,  0.0075188 ,  0.01503759,\n",
       "         0.01503759,  0.02255639,  0.01503759,  0.05263158,  0.03007519,\n",
       "         0.04511278,  0.04511278,  0.07518797,  0.12030075,  0.17293233,\n",
       "         0.12030075,  0.03007519,  0.        ]),\n",
       " array([ 0.55,  0.58,  0.61,  0.64,  0.67,  0.7 ,  0.73,  0.76,  0.79,\n",
       "         0.82,  0.85,  0.88,  0.91,  0.94,  0.97,  1.  ,  1.03,  1.06,  1.09]),\n",
       " <a list of 18 Patch objects>)"
      ]
     },
     "execution_count": 40,
     "metadata": {},
     "output_type": "execute_result"
    },
    {
     "data": {
      "image/png": "[encoded data removed]",
      "text/plain": [
       "<Figure size 432x288 with 1 Axes>"
      ]
     },
     "metadata": {},
     "output_type": "display_data"
    }
   ],
   "source": [
    "overall_ratio_distri = [overall_ratio[key] for key in overall_ratio.keys()]\n",
    "weights7 = np.ones_like(overall_ratio_distri)/float(len(overall_ratio_distri))\n",
    "plt.hist(overall_ratio_distri, weights=weights7, bins=np.arange(0.55, 1.1, 0.03), alpha=1, label=\"optimal over 300\")"
   ]
  },
  {
   "cell_type": "code",
   "execution_count": 41,
   "metadata": {},
   "outputs": [
    {
     "name": "stdout",
     "output_type": "stream",
     "text": [
      "109\n",
      "123\n",
      "143\n",
      "140\n",
      "96\n",
      "115\n",
      "136\n",
      "139\n",
      "113\n",
      "101\n",
      "114\n",
      "134\n",
      "111\n",
      "121\n",
      "141\n",
      "94\n",
      "116\n",
      "112\n",
      "106\n",
      "102\n",
      "129\n",
      "119\n",
      "122\n",
      "98\n",
      "125\n",
      "142\n"
     ]
    }
   ],
   "source": [
    "for key in overall_ratio.keys():\n",
    "    if overall_ratio[key] < 0.5:\n",
    "        print(key)\n",
    "# len(overall_ratio)"
   ]
  },
  {
   "cell_type": "code",
   "execution_count": 42,
   "metadata": {},
   "outputs": [],
   "source": [
    "slip_better_then_declutter = {}\n",
    "slip_worse_then_declutter = {}\n",
    "for key in optimal.keys():\n",
    "    if key in a.keys() and key in b.keys():\n",
    "        if a[key] > b[key]:\n",
    "            slip_better_then_declutter[key] = a[key] - b[key]\n",
    "        else:\n",
    "            slip_worse_then_declutter[key] = b[key] - a[key]"
   ]
  },
  {
   "cell_type": "code",
   "execution_count": 43,
   "metadata": {},
   "outputs": [
    {
     "name": "stdout",
     "output_type": "stream",
     "text": [
      "38\n",
      "69\n"
     ]
    }
   ],
   "source": [
    "for key in slip_better_then_declutter.keys():\n",
    "    if slip_better_then_declutter[key] > 0.7:\n",
    "        print(key)"
   ]
  },
  {
   "cell_type": "code",
   "execution_count": 44,
   "metadata": {},
   "outputs": [
    {
     "name": "stdout",
     "output_type": "stream",
     "text": [
      "65\n",
      "42\n"
     ]
    }
   ],
   "source": [
    "for key in slip_worse_then_declutter.keys():\n",
    "    if slip_worse_then_declutter[key] > 0.33:\n",
    "        print(key)"
   ]
  },
  {
   "cell_type": "code",
   "execution_count": 45,
   "metadata": {},
   "outputs": [
    {
     "name": "stdout",
     "output_type": "stream",
     "text": [
      "3.065132773024968 113\n",
      "2.820767570563418 143\n",
      "1.6326966369105906 134\n",
      "1.8456093430916602 141\n",
      "2.9559852588067783 121\n",
      "3.060485103109617 136\n",
      "2.276635238255641 94\n"
     ]
    }
   ],
   "source": [
    "lst = []\n",
    "for key in overall.keys():\n",
    "    if key in optimal.keys():\n",
    "        if overall[key][0][1] < optimal[key][0] - 1.5 and :\n",
    "            print(optimal[key][0] - overall[key][0][1], key)\n",
    "            lst.append(key)\n",
    "# optimal"
   ]
  },
  {
   "cell_type": "code",
   "execution_count": 46,
   "metadata": {},
   "outputs": [
    {
     "name": "stdout",
     "output_type": "stream",
     "text": [
      "113 0\n",
      "143 0\n",
      "134 0\n",
      "141 0\n",
      "121 0\n",
      "136 0\n",
      "94 0\n"
     ]
    }
   ],
   "source": [
    "for key in lst:\n",
    "    print(key, overall[key][1])"
   ]
  },
  {
   "cell_type": "code",
   "execution_count": null,
   "metadata": {},
   "outputs": [],
   "source": []
  }
 ],
 "metadata": {
  "kernelspec": {
   "display_name": "Python 3",
   "language": "python",
   "name": "python3"
  },
  "language_info": {
   "codemirror_mode": {
    "name": "ipython",
    "version": 3
   },
   "file_extension": ".py",
   "mimetype": "text/x-python",
   "name": "python",
   "nbconvert_exporter": "python",
   "pygments_lexer": "ipython3",
   "version": "3.6.6"
  }
 },
 "nbformat": 4,
 "nbformat_minor": 2
}
