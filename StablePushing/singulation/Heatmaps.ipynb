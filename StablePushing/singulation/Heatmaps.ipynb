{
 "cells": [
  {
   "cell_type": "code",
   "execution_count": 1,
   "metadata": {},
   "outputs": [],
   "source": [
    "%matplotlib inline\n",
    "\n",
    "import json\n",
    "import numpy as np\n",
    "import matplotlib.pyplot as plt\n",
    "import os\n",
    "plt.style.use('ggplot')"
   ]
  },
  {
   "cell_type": "code",
   "execution_count": 2,
   "metadata": {},
   "outputs": [],
   "source": [
    "overall = {}\n",
    "\n",
    "for obj_num in os.listdir(\"new_proposed/\"):\n",
    "    if os.path.isdir(\"new_proposed/\"+obj_num):\n",
    "        for group in os.listdir(\"new_proposed/\"+obj_num):\n",
    "            if group != \"4\":\n",
    "                if obj_num+\"_\"+group not in overall.keys():\n",
    "                    overall[obj_num+\"_\"+group] = {}\n",
    "                for folder in os.listdir(\"new_proposed/\"+obj_num+\"/\"+group):\n",
    "                    if folder not in overall[obj_num+\"_\"+group].keys():\n",
    "                        overall[obj_num+\"_\"+group][folder] = []\n",
    "                    if len(folder.split(\"_\")) == 2 and folder.split(\"_\")[1] == \"two\":\n",
    "                        for filename in os.listdir(\"new_proposed/\"+obj_num+\"/\"+group+\"/\"+folder+\"/\"):\n",
    "                            if filename.split(\"_\")[1][0] == \"6\":\n",
    "                                with open(\"new_proposed/\" + obj_num+\"/\"+group+\"/\"+folder+\"/\"+filename, 'r') as f:\n",
    "                                    dic = json.load(f)\n",
    "                                overall[obj_num+\"_\"+group][folder].append((dic['mean separation after push'] - dic['mean separation before push']))\n",
    "                    else:\n",
    "                        for filename in os.listdir(\"new_proposed/\"+obj_num+\"/\"+group+\"/\"+folder+\"/\"):\n",
    "                            with open(\"new_proposed/\" + obj_num+\"/\"+group+\"/\"+folder+\"/\"+filename, 'r') as f:\n",
    "                                dic = json.load(f)\n",
    "                            overall[obj_num+\"_\"+group][folder].append((dic['mean separation after push'] - dic['mean separation before push']))\n",
    "                            "
   ]
  },
  {
   "cell_type": "code",
   "execution_count": 3,
   "metadata": {},
   "outputs": [],
   "source": [
    "for obj_num in os.listdir(\"new_proposed/\"):\n",
    "    if os.path.isdir(\"new_proposed/\"+obj_num):\n",
    "        for group in os.listdir(\"new_proposed/\"+obj_num):\n",
    "            if group != \"4\":\n",
    "                optimal = {}\n",
    "                for filename in os.listdir(\"new_proposed/\"+obj_num+\"/\"+group+\"/distribution_stable\"):\n",
    "                    try:\n",
    "                        if len(filename.split(\".\"))!=2 or filename.split(\".\")[1]!=\"json\":\n",
    "                            continue\n",
    "                        with open(\"new_proposed/\"+obj_num+\"/\"+group+\"/distribution_stable/\"+filename, 'r') as f:\n",
    "                            dic = json.load(f)\n",
    "                        key = filename.split(\"_\")[0]\n",
    "                        if not key in optimal.keys():\n",
    "                            optimal[key] = [dic['mean separation after push'] - dic['mean separation before push'], filename]\n",
    "                        elif optimal[key][0] < dic['mean separation after push'] - dic['mean separation before push']:\n",
    "                            optimal[key] = [dic['mean separation after push'] - dic['mean separation before push'], filename]\n",
    "                    except:\n",
    "                        continue\n",
    "                optimal_final = [optimal[key][0] for key in optimal.keys()]\n",
    "                overall[obj_num+\"_\"+group][\"opt_mean\"] = np.mean(optimal_final)"
   ]
  },
  {
   "cell_type": "code",
   "execution_count": null,
   "metadata": {},
   "outputs": [],
   "source": [
    "for obj_num in os.listdir(\"new_proposed/\"):\n",
    "    if os.path.isdir(\"new_proposed/\"+obj_num):\n",
    "        for group in os.listdir(\"new_proposed/\"+obj_num):\n",
    "            if group != \"4\":\n",
    "                optimal = {}\n",
    "                for filename in os.listdir(\"new_proposed/\"+obj_num+\"/\"+group+\"/distribution_stable_two\"):\n",
    "                    try:\n",
    "                        if len(filename.split(\".\"))!=2 or filename.split(\".\")[1]!=\"json\":\n",
    "                            continue\n",
    "                        with open(\"new_proposed/\"+obj_num+\"/\"+group+\"/distribution_stable_two/\"+filename, 'r') as f:\n",
    "                            dic = json.load(f)\n",
    "                        key = filename.split(\"_\")[0]\n",
    "                        if not key in optimal.keys():\n",
    "                            optimal[key] = [dic['mean separation after push'] - dic['mean separation before push'], filename]\n",
    "                        elif optimal[key][0] < dic['mean separation after push'] - dic['mean separation before push']:\n",
    "                            optimal[key] = [dic['mean separation after push'] - dic['mean separation before push'], filename]\n",
    "                    except:\n",
    "                        continue\n",
    "                optimal_final = [optimal[key][0] for key in optimal.keys()]\n",
    "                overall[obj_num+\"_\"+group][\"opt_mean_two\"] = np.mean(optimal_final)"
   ]
  },
  {
   "cell_type": "code",
   "execution_count": 4,
   "metadata": {},
   "outputs": [
    {
     "name": "stdout",
     "output_type": "stream",
     "text": [
      "7_0 6.37979175466266 7.097018160757125 0.898939753309304\n",
      "7_1 6.031750234456116 7.129630384952722 0.846011631568768\n",
      "7_3 5.267379169219636 6.8519729875161985 0.7687390447709618\n",
      "7_2 5.853117328095427 7.03692568555033 0.831771939856386\n",
      "6_0 5.009982631080371 5.6877088852079885 0.8808437161947268\n",
      "6_1 5.230704992790814 5.891036393308907 0.8879091289831271\n",
      "6_3 4.7582989383858525 5.791958299383333 0.8215354276449929\n",
      "6_2 4.848508123283498 5.738686897966974 0.8448811042472387\n",
      "8_0 7.206195106908055 8.196120955657241 0.8792202001282198\n",
      "4_0 2.884930614522678 3.204204595824279 0.9003578043306975\n",
      "4_1 2.960705208880419 3.2785129187802062 0.9030634565813974\n",
      "4_3 2.486711533024072 3.3316247961462153 0.7463960335210981\n",
      "4_2 2.654742053582808 3.267908560979791 0.812367299771343\n",
      "3_0 2.0012542021548314 2.105383869352014 0.9505412439446345\n",
      "3_1 2.07141210764287 2.1866192940612454 0.9473126452641882\n",
      "3_3 1.7935584299134757 2.2545048233890905 0.7955442859586808\n",
      "3_2 2.0458943648218018 2.258415002050855 0.9058983238084832\n",
      "5_0 4.308045594932756 4.611585903797443 0.9341787586316598\n",
      "5_1 4.151882997030674 4.590378471140199 0.9044750935317523\n",
      "5_3 3.509472819265003 4.56075720299675 0.7694934553760117\n",
      "5_2 4.100325017051345 4.673784000047536 0.8773030625740603\n"
     ]
    }
   ],
   "source": [
    "single_point_heatmap = {}\n",
    "for config in overall.keys():\n",
    "    single_point_heatmap[config] = [np.mean(overall[config][\"proposed9\"])/overall[config][\"opt_mean\"], (np.mean(overall[config][\"proposed9\"]) - np.mean(overall[config][\"distribution_stable\"]))/np.std(overall[config][\"distribution_stable\"])]\n",
    "    print(config, np.mean(overall[config][\"proposed9\"]), overall[config][\"opt_mean\"], np.mean(overall[config][\"proposed9\"])/overall[config][\"opt_mean\"])\n",
    "    "
   ]
  },
  {
   "cell_type": "code",
   "execution_count": null,
   "metadata": {},
   "outputs": [],
   "source": [
    "cluster_point_heatmap = {}\n",
    "for config in overall.keys():\n",
    "    cluster_point_heatmap[config] = [np.mean(overall[config][\"clusterDiffusion\"])/overall[config][\"opt_mean\"], (np.mean(overall[config][\"clusterDiffusion\"]) - np.mean(overall[config][\"distribution_stable\"]))/np.std(overall[config][\"distribution_stable\"])]\n",
    "    print(config, np.mean(overall[config][\"clusterDiffusion\"]), overall[config][\"opt_mean\"], np.mean(overall[config][\"clusterDiffusion\"])/overall[config][\"opt_mean\"])\n",
    "    "
   ]
  },
  {
   "cell_type": "code",
   "execution_count": null,
   "metadata": {},
   "outputs": [],
   "source": [
    "diff = []\n",
    "for config in overall.keys():\n",
    "    if int(config.split(\"_\")[0]) > 6:\n",
    "        diff.append((single_point_heatmap[config][0] - cluster_point_heatmap[config][0])/cluster_point_heatmap[config][0])\n",
    "np.mean(diff)"
   ]
  },
  {
   "cell_type": "code",
   "execution_count": 5,
   "metadata": {},
   "outputs": [
    {
     "name": "stdout",
     "output_type": "stream",
     "text": [
      "7_0 [0.9111982496294908, 1.470898914030863]\n",
      "7_1 [0.8941574792076296, 1.3704808330170093]\n",
      "7_3 [0.8691122849515028, 1.3671847258699337]\n",
      "7_2 [0.888457396706946, 1.3598800064068863]\n",
      "6_0 [0.9106103202336474, 1.3345836592720777]\n",
      "6_1 [0.9188869859267635, 1.3538002478352715]\n",
      "6_3 [0.8833296988186489, 1.3045775125600836]\n",
      "6_2 [0.8993908137695714, 1.26013788354868]\n",
      "8_0 [0.8885863944523295, 1.4083977581740879]\n",
      "4_0 [0.9097604929655682, 0.9030807322853779]\n",
      "4_1 [0.9266706038524918, 0.9826778107264671]\n",
      "4_3 [0.82728921869799, 0.8680651299899255]\n",
      "4_2 [0.8828264887022891, 0.8642953684049023]\n",
      "3_0 [0.9628258569862944, 0.9886862751815029]\n",
      "3_1 [0.967244316319207, 1.0049568862922547]\n",
      "3_3 [0.9132184098355838, 1.0095176147226594]\n",
      "3_2 [0.9493088139666592, 1.0201824922760083]\n",
      "5_0 [0.9535401865816353, 1.35906157492466]\n",
      "5_1 [0.9554187777729718, 1.3150287340829672]\n",
      "5_3 [0.8708971582732987, 1.0998559164518547]\n",
      "5_2 [0.9288264541920367, 1.220608125724045]\n"
     ]
    }
   ],
   "source": [
    "area_point_heatmap = {}\n",
    "for config in overall.keys():\n",
    "    area_point_heatmap[config] = [np.mean(overall[config][\"proposed9_area\"])/overall[config][\"opt_mean\"], (np.mean(overall[config][\"proposed9_area\"]) - np.mean(overall[config][\"distribution_stable\"]))/np.std(overall[config][\"distribution_stable\"])]\n",
    "    print(config, [np.mean(overall[config][\"proposed9_area\"])/overall[config][\"opt_mean\"], (np.mean(overall[config][\"proposed9_area\"]) - np.mean(overall[config][\"distribution_stable\"]))/np.std(overall[config][\"distribution_stable\"])])\n",
    "    "
   ]
  },
  {
   "cell_type": "code",
   "execution_count": null,
   "metadata": {},
   "outputs": [],
   "source": [
    "cluster_area_point_heatmap = {}\n",
    "for config in overall.keys():\n",
    "    cluster_area_point_heatmap[config] = [np.mean(overall[config][\"clusterDiffusion_area\"])/overall[config][\"opt_mean\"], (np.mean(overall[config][\"clusterDiffusion_area\"]) - np.mean(overall[config][\"distribution_stable\"]))/np.std(overall[config][\"distribution_stable\"])]\n",
    "    print(config, [np.mean(overall[config][\"clusterDiffusion_area\"])/overall[config][\"opt_mean\"], (np.mean(overall[config][\"clusterDiffusion_area\"]) - np.mean(overall[config][\"distribution_stable\"]))/np.std(overall[config][\"distribution_stable\"])])\n",
    "    "
   ]
  },
  {
   "cell_type": "code",
   "execution_count": 6,
   "metadata": {},
   "outputs": [
    {
     "name": "stdout",
     "output_type": "stream",
     "text": [
      "7_0 [0.8994299673046939, 1.4276387576089815]\n",
      "7_1 [0.8935799999554107, 1.3684952627297384]\n",
      "7_3 [0.8622190261655125, 1.3483103576429074]\n",
      "7_2 [0.8821237799477322, 1.34057224358054]\n",
      "6_0 [0.8995873881559544, 1.2935152346280672]\n",
      "6_1 [0.91095245234198, 1.3271067144030493]\n",
      "6_3 [0.8691898346732554, 1.2659530363388232]\n",
      "6_2 [0.8900915125062936, 1.2328886891206694]\n",
      "8_0 [0.8910516477284587, 1.4169714115840144]\n",
      "4_0 [0.8999283704403646, 0.8695657108857727]\n",
      "4_1 [0.920015086468572, 0.961611467316227]\n",
      "4_3 [0.862521465526003, 0.9570158410282281]\n",
      "4_2 [0.8832203516957973, 0.8654069924589299]\n",
      "3_0 [0.9619075060090041, 0.9858159993687761]\n",
      "3_1 [0.9693345663425796, 1.0113675776329394]\n",
      "3_3 [0.928217230279744, 1.0457890434281851]\n",
      "3_2 [0.9575764746187705, 1.044071249155476]\n",
      "5_0 [0.9449717146353064, 1.326805333381282]\n",
      "5_1 [0.9406716536442598, 1.263961010142117]\n",
      "5_3 [0.8798712092383421, 1.1239054028934972]\n",
      "5_2 [0.9244151939628308, 1.2068222787334548]\n"
     ]
    }
   ],
   "source": [
    "two_points_heatmap = {}\n",
    "for config in overall.keys():\n",
    "    two_points_heatmap[config] = [np.mean(overall[config][\"proposed9_two\"])/overall[config][\"opt_mean\"], (np.mean(overall[config][\"proposed9_two\"]) - np.mean(overall[config][\"distribution_stable\"]))/np.std(overall[config][\"distribution_stable\"])]\n",
    "    print(config, [np.mean(overall[config][\"proposed9_two\"])/overall[config][\"opt_mean\"], (np.mean(overall[config][\"proposed9_two\"]) - np.mean(overall[config][\"distribution_stable\"]))/np.std(overall[config][\"distribution_stable\"])])"
   ]
  },
  {
   "cell_type": "code",
   "execution_count": null,
   "metadata": {},
   "outputs": [],
   "source": [
    "cluster_two_points_heatmap = {}\n",
    "for config in overall.keys():\n",
    "    cluster_two_points_heatmap[config] = [np.mean(overall[config][\"clusterDiffusion_two\"])/overall[config][\"opt_mean\"], (np.mean(overall[config][\"clusterDiffusion_two\"]) - np.mean(overall[config][\"distribution_stable\"]))/np.std(overall[config][\"distribution_stable\"])]\n",
    "    print(config, [np.mean(overall[config][\"clusterDiffusion_two\"])/overall[config][\"opt_mean\"], (np.mean(overall[config][\"clusterDiffusion_two\"]) - np.mean(overall[config][\"distribution_stable\"]))/np.std(overall[config][\"distribution_stable\"])])"
   ]
  },
  {
   "cell_type": "code",
   "execution_count": null,
   "metadata": {},
   "outputs": [],
   "source": [
    "groups = [\"disk\", \"semi-disk\", \"semi-slice\", \"slice\"]\n",
    "num_objs = [\"3 objects\", \"4 objects\", \"5 objects\", \"6 objects\", \"7 objects\"]\n",
    "\n"
   ]
  },
  {
   "cell_type": "code",
   "execution_count": null,
   "metadata": {},
   "outputs": [],
   "source": [
    "import matplotlib\n",
    "def heatmap(data, row_labels, col_labels, ax=None,\n",
    "            cbar_kw={}, cbarlabel=\"\", **kwargs):\n",
    "    \"\"\"\n",
    "    Create a heatmap from a numpy array and two lists of labels.\n",
    "\n",
    "    Arguments:\n",
    "        data       : A 2D numpy array of shape (N,M)\n",
    "        row_labels : A list or array of length N with the labels\n",
    "                     for the rows\n",
    "        col_labels : A list or array of length M with the labels\n",
    "                     for the columns\n",
    "    Optional arguments:\n",
    "        ax         : A matplotlib.axes.Axes instance to which the heatmap\n",
    "                     is plotted. If not provided, use current axes or\n",
    "                     create a new one.\n",
    "        cbar_kw    : A dictionary with arguments to\n",
    "                     :meth:`matplotlib.Figure.colorbar`.\n",
    "        cbarlabel  : The label for the colorbar\n",
    "    All other arguments are directly passed on to the imshow call.\n",
    "    \"\"\"\n",
    "\n",
    "    if not ax:\n",
    "        ax = plt.gca()\n",
    "\n",
    "    # Plot the heatmap\n",
    "    im = ax.imshow(data, **kwargs)\n",
    "\n",
    "    # Create colorbar\n",
    "#     cbar = None\n",
    "    cbar = ax.figure.colorbar(im, ax=ax, **cbar_kw)\n",
    "    cbar.ax.set_ylabel(cbarlabel, rotation=-90, va=\"bottom\")\n",
    "\n",
    "    # We want to show all ticks...\n",
    "    ax.set_xticks(np.arange(data.shape[1]))\n",
    "    ax.set_yticks(np.arange(data.shape[0]))\n",
    "    # ... and label them with the respective list entries.\n",
    "    ax.set_xticklabels(col_labels)\n",
    "    ax.set_yticklabels(row_labels)\n",
    "\n",
    "    # Let the horizontal axes labeling appear on top.\n",
    "#     ax.tick_params(top=True, bottom=False,\n",
    "#                    labeltop=True, labelbottom=False)\n",
    "\n",
    "    # Rotate the tick labels and set their alignment.\n",
    "    plt.setp(ax.get_xticklabels(), rotation=30, ha=\"right\",\n",
    "             rotation_mode=\"anchor\")\n",
    "\n",
    "    # Turn spines off and create white grid.\n",
    "    for edge, spine in ax.spines.items():\n",
    "        spine.set_visible(False)\n",
    "\n",
    "    ax.set_xticks(np.arange(data.shape[1]+1)-.5, minor=True)\n",
    "    ax.set_yticks(np.arange(data.shape[0]+1)-.5, minor=True)\n",
    "    ax.grid(which=\"minor\", color=\"w\", linestyle='-', linewidth=3)\n",
    "    ax.tick_params(which=\"minor\", bottom=False, left=False)\n",
    "\n",
    "    return im, cbar\n",
    "\n",
    "\n",
    "def annotate_heatmap(im, data=None, valfmt=\"{x:.2f}\",\n",
    "                     textcolors=[\"black\", \"white\"],\n",
    "                     threshold=None, **textkw):\n",
    "    \"\"\"\n",
    "    A function to annotate a heatmap.\n",
    "\n",
    "    Arguments:\n",
    "        im         : The AxesImage to be labeled.\n",
    "    Optional arguments:\n",
    "        data       : Data used to annotate. If None, the image's data is used.\n",
    "        valfmt     : The format of the annotations inside the heatmap.\n",
    "                     This should either use the string format method, e.g.\n",
    "                     \"$ {x:.2f}\", or be a :class:`matplotlib.ticker.Formatter`.\n",
    "        textcolors : A list or array of two color specifications. The first is\n",
    "                     used for values below a threshold, the second for those\n",
    "                     above.\n",
    "        threshold  : Value in data units according to which the colors from\n",
    "                     textcolors are applied. If None (the default) uses the\n",
    "                     middle of the colormap as separation.\n",
    "\n",
    "    Further arguments are passed on to the created text labels.\n",
    "    \"\"\"\n",
    "\n",
    "    if not isinstance(data, (list, np.ndarray)):\n",
    "        data = im.get_array()\n",
    "\n",
    "    # Normalize the threshold to the images color range.\n",
    "    if threshold is not None:\n",
    "        threshold = im.norm(threshold)\n",
    "    else:\n",
    "        threshold = im.norm(data.max())/2.\n",
    "\n",
    "    # Set default alignment to center, but allow it to be\n",
    "    # overwritten by textkw.\n",
    "    kw = dict(horizontalalignment=\"center\",\n",
    "              verticalalignment=\"center\")\n",
    "    kw.update(textkw)\n",
    "\n",
    "    # Get the formatter in case a string is supplied\n",
    "    if isinstance(valfmt, str):\n",
    "        valfmt = matplotlib.ticker.StrMethodFormatter(valfmt)\n",
    "\n",
    "    # Loop over the data and create a `Text` for each \"pixel\".\n",
    "    # Change the text's color depending on the data.\n",
    "    texts = []\n",
    "    for i in range(data.shape[0]):\n",
    "        for j in range(data.shape[1]):\n",
    "            kw.update(color=textcolors[im.norm(data[i, j]) > threshold])\n",
    "            text = im.axes.text(j, i, valfmt(data[i, j], None), **kw)\n",
    "            texts.append(text)\n",
    "\n",
    "    return texts"
   ]
  },
  {
   "cell_type": "code",
   "execution_count": null,
   "metadata": {},
   "outputs": [],
   "source": [
    "values = np.zeros([4, 5])\n",
    "for config in single_point_heatmap.keys():\n",
    "    g = config.split(\"_\")[1]\n",
    "    n = config.split(\"_\")[0]\n",
    "    values[int(g)][int(n) - 3] = single_point_heatmap[config][0]\n",
    "\n",
    "fig, ax = plt.subplots()\n",
    "\n",
    "im, cbar = heatmap(values, groups, num_objs, ax=ax,\n",
    "                   cmap=\"magma_r\", cbarlabel=\"performance\",vmin=0.65, vmax=1)\n",
    "texts = annotate_heatmap(im, valfmt=\"{x:.3f}\")\n",
    "\n",
    "fig.tight_layout()\n",
    "plt.title(\"Single point ClusterPush2D\")\n",
    "plt.show()"
   ]
  },
  {
   "cell_type": "code",
   "execution_count": null,
   "metadata": {},
   "outputs": [],
   "source": [
    "values = np.zeros([4, 5])\n",
    "for config in area_point_heatmap.keys():\n",
    "    g = config.split(\"_\")[1]\n",
    "    n = config.split(\"_\")[0]\n",
    "    values[int(g)][int(n) - 3] = area_point_heatmap[config][0]\n",
    "\n",
    "fig, ax = plt.subplots()\n",
    "\n",
    "im, cbar = heatmap(values, groups, num_objs, ax=ax,\n",
    "                   cmap=\"magma_r\", cbarlabel=\"performance\",vmin=0.65, vmax=1)\n",
    "texts = annotate_heatmap(im, valfmt=\"{x:.3f}\")\n",
    "\n",
    "fig.tight_layout()\n",
    "plt.title(\"Area push ClusterPush2D\")\n",
    "plt.show()"
   ]
  },
  {
   "cell_type": "code",
   "execution_count": null,
   "metadata": {},
   "outputs": [],
   "source": [
    "values = np.zeros([4, 5])\n",
    "for config in two_points_heatmap.keys():\n",
    "    g = config.split(\"_\")[1]\n",
    "    n = config.split(\"_\")[0]\n",
    "    values[int(g)][int(n) - 3] = two_points_heatmap[config][0]\n",
    "\n",
    "fig, ax = plt.subplots()\n",
    "\n",
    "im, cbar = heatmap(values, groups, num_objs, ax=ax,\n",
    "                   cmap=\"magma_r\", cbarlabel=\"performance\",vmin=0.65, vmax=1)\n",
    "texts = annotate_heatmap(im, valfmt=\"{x:.3f}\")\n",
    "\n",
    "fig.tight_layout()\n",
    "plt.title(\"Two points ClusterPush2D\")\n",
    "plt.show()"
   ]
  },
  {
   "cell_type": "code",
   "execution_count": null,
   "metadata": {},
   "outputs": [],
   "source": [
    "random_heatmap = {}\n",
    "for config in overall.keys():\n",
    "    random_heatmap[config] = [np.mean(overall[config][\"distribution_stable\"])/overall[config][\"opt_mean\"], (np.mean(overall[config][\"distribution_stable\"]) - np.mean(overall[config][\"distribution_stable\"]))/np.std(overall[config][\"distribution_stable\"])]\n",
    "    print(config, [np.mean(overall[config][\"distribution_stable\"])/overall[config][\"opt_mean\"], (np.mean(overall[config][\"distribution_stable\"]) - np.mean(overall[config][\"distribution_stable\"]))/np.std(overall[config][\"distribution_stable\"])])\n",
    "    "
   ]
  },
  {
   "cell_type": "code",
   "execution_count": null,
   "metadata": {},
   "outputs": [],
   "source": [
    "values = np.zeros([4, 5])\n",
    "for config in random_heatmap.keys():\n",
    "    g = config.split(\"_\")[1]\n",
    "    n = config.split(\"_\")[0]\n",
    "    values[int(g)][int(n) - 3] = random_heatmap[config][0]\n",
    "\n",
    "fig, ax = plt.subplots()\n",
    "\n",
    "im, cbar = heatmap(values, groups, num_objs, ax=ax,\n",
    "                   cmap=\"magma_r\", cbarlabel=\"performance\",vmin=0.35, vmax=1)\n",
    "texts = annotate_heatmap(im, valfmt=\"{x:.3f}\")\n",
    "\n",
    "fig.tight_layout()\n",
    "plt.title(\"Quasi-random relative to Brute Force\")\n",
    "plt.show()"
   ]
  },
  {
   "cell_type": "code",
   "execution_count": null,
   "metadata": {},
   "outputs": [],
   "source": [
    "values = np.zeros([4, 5])\n",
    "for config in single_point_heatmap.keys():\n",
    "    g = config.split(\"_\")[1]\n",
    "    n = config.split(\"_\")[0]\n",
    "    values[int(g)][int(n) - 3] = cluster_point_heatmap[config][0]\n",
    "\n",
    "fig, ax = plt.subplots()\n",
    "\n",
    "im, cbar = heatmap(values, groups, num_objs, ax=ax,\n",
    "                   cmap=\"magma_r\", cbarlabel=\"performance\",vmin=0.35, vmax=1)\n",
    "texts = annotate_heatmap(im, valfmt=\"{x:.3f}\")\n",
    "\n",
    "fig.tight_layout()\n",
    "plt.title(\"Single point Cluster Diffusion relative to Brute Force\")\n",
    "plt.show()"
   ]
  },
  {
   "cell_type": "code",
   "execution_count": null,
   "metadata": {},
   "outputs": [],
   "source": [
    "values = np.zeros([4, 5])\n",
    "for config in area_point_heatmap.keys():\n",
    "    g = config.split(\"_\")[1]\n",
    "    n = config.split(\"_\")[0]\n",
    "    values[int(g)][int(n) - 3] = cluster_area_point_heatmap[config][0]\n",
    "\n",
    "fig, ax = plt.subplots()\n",
    "\n",
    "im, cbar = heatmap(values, groups, num_objs, ax=ax,\n",
    "                   cmap=\"magma_r\", cbarlabel=\"performance\",vmin=0.35, vmax=1)\n",
    "texts = annotate_heatmap(im, valfmt=\"{x:.3f}\")\n",
    "\n",
    "fig.tight_layout()\n",
    "plt.title(\"Area push Cluster Diffusion relative to Brute Force\")\n",
    "plt.show()"
   ]
  },
  {
   "cell_type": "code",
   "execution_count": null,
   "metadata": {},
   "outputs": [],
   "source": [
    "values = np.zeros([4, 5])\n",
    "for config in two_points_heatmap.keys():\n",
    "    g = config.split(\"_\")[1]\n",
    "    n = config.split(\"_\")[0]\n",
    "    values[int(g)][int(n) - 3] = cluster_two_points_heatmap[config][0]\n",
    "\n",
    "fig, ax = plt.subplots()\n",
    "\n",
    "im, cbar = heatmap(values, groups, num_objs, ax=ax,\n",
    "                   cmap=\"magma_r\", cbarlabel=\"performance\",vmin=0.35, vmax=1)\n",
    "texts = annotate_heatmap(im, valfmt=\"{x:.3f}\")\n",
    "\n",
    "fig.tight_layout()\n",
    "plt.title(\"Two points Cluster Diffusion relative to Brute Force\")\n",
    "plt.show()"
   ]
  },
  {
   "cell_type": "code",
   "execution_count": null,
   "metadata": {},
   "outputs": [],
   "source": [
    "two_point_bruteforce_heatmap = {}\n",
    "for config in overall.keys():\n",
    "    two_point_bruteforce_heatmap[config] = [np.mean(overall[config][\"distribution_stable_two\"])/overall[config][\"opt_mean\"], (np.mean(overall[config][\"distribution_stable_two\"]) - np.mean(overall[config][\"distribution_stable\"]))/np.std(overall[config][\"distribution_stable\"])]\n",
    "    print(config, np.mean(overall[config][\"distribution_stable_two\"]), overall[config][\"opt_mean\"], np.mean(overall[config][\"distribution_stable_two\"])/overall[config][\"opt_mean\"])\n",
    "    "
   ]
  },
  {
   "cell_type": "code",
   "execution_count": null,
   "metadata": {},
   "outputs": [],
   "source": [
    "values = np.zeros([4, 5])\n",
    "for config in two_point_bruteforce_heatmap.keys():\n",
    "    g = config.split(\"_\")[1]\n",
    "    n = config.split(\"_\")[0]\n",
    "    values[int(g)][int(n) - 3] = two_point_bruteforce_heatmap[config][0]\n",
    "\n",
    "fig, ax = plt.subplots()\n",
    "\n",
    "im, cbar = heatmap(values, groups, num_objs, ax=ax,\n",
    "                   cmap=\"magma_r\", cbarlabel=\"performance as a ratio of Brute Force\",vmin=0.35, vmax=1)\n",
    "texts = annotate_heatmap(im, valfmt=\"{x:.3f}\")\n",
    "\n",
    "fig.tight_layout()\n",
    "plt.title(\"Two points Quasi-Random relative to Brute Force\")\n",
    "plt.show()"
   ]
  },
  {
   "cell_type": "code",
   "execution_count": null,
   "metadata": {},
   "outputs": [],
   "source": [
    "area_random_heatmap = {}\n",
    "for config in overall.keys():\n",
    "    area_random_heatmap[config] = [np.mean(overall[config][\"distribution_stable_area\"])/overall[config][\"opt_mean\"], (np.mean(overall[config][\"distribution_stable_area\"]) - np.mean(overall[config][\"distribution_stable\"]))/np.std(overall[config][\"distribution_stable\"])]\n",
    "    print(config, np.mean(overall[config][\"distribution_stable_area\"]), overall[config][\"opt_mean\"], np.mean(overall[config][\"distribution_stable_area\"])/overall[config][\"opt_mean\"])\n",
    "    "
   ]
  },
  {
   "cell_type": "code",
   "execution_count": null,
   "metadata": {},
   "outputs": [],
   "source": [
    "values = np.zeros([4, 5])\n",
    "for config in area_random_heatmap.keys():\n",
    "    g = config.split(\"_\")[1]\n",
    "    n = config.split(\"_\")[0]\n",
    "    values[int(g)][int(n) - 3] = area_random_heatmap[config][0]\n",
    "\n",
    "fig, ax = plt.subplots()\n",
    "\n",
    "im, cbar = heatmap(values, groups, num_objs, ax=ax,\n",
    "                   cmap=\"magma_r\", cbarlabel=\"performance as a ratio of Brute Force\",vmin=0.35, vmax=1)\n",
    "texts = annotate_heatmap(im, valfmt=\"{x:.3f}\")\n",
    "\n",
    "fig.tight_layout()\n",
    "plt.title(\"Area Quasi-Random relative to Brute Force\")\n",
    "plt.show()"
   ]
  },
  {
   "cell_type": "code",
   "execution_count": null,
   "metadata": {},
   "outputs": [],
   "source": [
    "for config in overall.keys():\n",
    "    diff_two = []\n",
    "    diff_area = []\n",
    "    for i in range(len(overall[config][\"proposed9_two\"])):\n",
    "#         print(i, overall[config][\"proposed9_two\"][i] - overall[config][\"proposed9\"][i], overall[config][\"proposed9_area\"][i] - overall[config][\"proposed9\"][i])\n",
    "        diff_two.append(overall[config][\"proposed9_two\"][i] - overall[config][\"proposed9\"][i])\n",
    "        diff_area.append(overall[config][\"proposed9_area\"][i] - overall[config][\"proposed9\"][i])\n",
    "    print(config, np.mean(diff_two) + 2* np.std(diff_two), np.mean(diff_two) - 2* np.std(diff_two), np.mean(diff_area) + 2* np.std(diff_area), np.mean(diff_area) - 2* np.std(diff_area))\n",
    "    \n",
    "        "
   ]
  },
  {
   "cell_type": "code",
   "execution_count": 7,
   "metadata": {},
   "outputs": [],
   "source": [
    "colors = ['r', 'g', 'b', 'y', 'c', 'm']"
   ]
  },
  {
   "cell_type": "code",
   "execution_count": 19,
   "metadata": {},
   "outputs": [
    {
     "data": {
      "text/plain": [
       "<matplotlib.legend.Legend at 0x11d7b3da0>"
      ]
     },
     "execution_count": 19,
     "metadata": {},
     "output_type": "execute_result"
    },
    {
     "data": {
      "image/png": "[encoded data removed]",
      "text/plain": [
       "<Figure size 432x288 with 1 Axes>"
      ]
     },
     "metadata": {},
     "output_type": "display_data"
    }
   ],
   "source": [
    "plt.figure()\n",
    "i = 0\n",
    "group = str(0)\n",
    "single = []\n",
    "area = []\n",
    "two = []\n",
    "for j in range(3, 8):\n",
    "    single.append(single_point_heatmap[str(j)+\"_\"+group][0])\n",
    "    area.append(area_point_heatmap[str(j)+\"_\"+group][0])\n",
    "    two.append(two_points_heatmap[str(j)+\"_\"+group][0])\n",
    "    \n",
    "plt.plot(range(3, 8), single, color=colors[i], label=\"single point\")\n",
    "i+=1\n",
    "plt.plot(range(3, 8), area, color=colors[i], label=\"area contact\")\n",
    "i+=1\n",
    "plt.plot(range(3, 8), two, color=colors[i], label=\"two points\")\n",
    "i+=1\n",
    "plt.plot(range(3, 8), np.ones((5,)), color=colors[i], label=\"brute-force optimal\")\n",
    "i+=1\n",
    "\n",
    "plt.legend(loc=\"upper right\")\n"
   ]
  },
  {
   "cell_type": "code",
   "execution_count": 20,
   "metadata": {},
   "outputs": [
    {
     "data": {
      "text/plain": [
       "<matplotlib.legend.Legend at 0x11d732160>"
      ]
     },
     "execution_count": 20,
     "metadata": {},
     "output_type": "execute_result"
    },
    {
     "data": {
      "image/png": "[encoded data removed]",
      "text/plain": [
       "<Figure size 432x288 with 1 Axes>"
      ]
     },
     "metadata": {},
     "output_type": "display_data"
    }
   ],
   "source": [
    "plt.figure()\n",
    "i = 0\n",
    "group = str(1)\n",
    "single = []\n",
    "area = []\n",
    "two = []\n",
    "for j in range(3, 8):\n",
    "    single.append(single_point_heatmap[str(j)+\"_\"+group][0])\n",
    "    area.append(area_point_heatmap[str(j)+\"_\"+group][0])\n",
    "    two.append(two_points_heatmap[str(j)+\"_\"+group][0])\n",
    "    \n",
    "plt.plot(range(3, 8), single, color=colors[i], label=\"single point\")\n",
    "i+=1\n",
    "plt.plot(range(3, 8), area, color=colors[i], label=\"area contact\")\n",
    "i+=1\n",
    "plt.plot(range(3, 8), two, color=colors[i], label=\"two points\")\n",
    "i+=1\n",
    "plt.plot(range(3, 8), np.ones((5,)), color=colors[i], label=\"brute-force optimal\")\n",
    "i+=1\n",
    "\n",
    "plt.legend()\n",
    "\n",
    "plt.legend(loc=\"upper right\")"
   ]
  },
  {
   "cell_type": "code",
   "execution_count": 21,
   "metadata": {},
   "outputs": [
    {
     "data": {
      "text/plain": [
       "<matplotlib.legend.Legend at 0x11d8bbfd0>"
      ]
     },
     "execution_count": 21,
     "metadata": {},
     "output_type": "execute_result"
    },
    {
     "data": {
      "image/png": "[encoded data removed]",
      "text/plain": [
       "<Figure size 432x288 with 1 Axes>"
      ]
     },
     "metadata": {},
     "output_type": "display_data"
    }
   ],
   "source": [
    "plt.figure()\n",
    "i = 0\n",
    "group = str(2)\n",
    "single = []\n",
    "area = []\n",
    "two = []\n",
    "for j in range(3, 8):\n",
    "    single.append(single_point_heatmap[str(j)+\"_\"+group][0])\n",
    "    area.append(area_point_heatmap[str(j)+\"_\"+group][0])\n",
    "    two.append(two_points_heatmap[str(j)+\"_\"+group][0])\n",
    "    \n",
    "plt.plot(range(3, 8), single, color=colors[i], label=\"single point\")\n",
    "i+=1\n",
    "plt.plot(range(3, 8), area, color=colors[i], label=\"area contact\")\n",
    "i+=1\n",
    "plt.plot(range(3, 8), two, color=colors[i], label=\"two points\")\n",
    "i+=1\n",
    "plt.plot(range(3, 8), np.ones((5,)), color=colors[i], label=\"brute-force optimal\")\n",
    "i+=1\n",
    "\n",
    "plt.legend()\n",
    "\n",
    "plt.legend(loc=\"upper right\")"
   ]
  },
  {
   "cell_type": "code",
   "execution_count": 22,
   "metadata": {},
   "outputs": [
    {
     "data": {
      "text/plain": [
       "<matplotlib.legend.Legend at 0x11d887d30>"
      ]
     },
     "execution_count": 22,
     "metadata": {},
     "output_type": "execute_result"
    },
    {
     "data": {
      "image/png": "[encoded data removed]",
      "text/plain": [
       "<Figure size 432x288 with 1 Axes>"
      ]
     },
     "metadata": {},
     "output_type": "display_data"
    }
   ],
   "source": [
    "plt.figure()\n",
    "i = 0\n",
    "group = str(3)\n",
    "single = []\n",
    "area = []\n",
    "two = []\n",
    "for j in range(3, 8):\n",
    "    single.append(single_point_heatmap[str(j)+\"_\"+group][0])\n",
    "    area.append(area_point_heatmap[str(j)+\"_\"+group][0])\n",
    "    two.append(two_points_heatmap[str(j)+\"_\"+group][0])\n",
    "    \n",
    "plt.plot(range(3, 8), single, color=colors[i], label=\"single point\")\n",
    "i+=1\n",
    "plt.plot(range(3, 8), area, color=colors[i], label=\"area contact\")\n",
    "i+=1\n",
    "plt.plot(range(3, 8), two, color=colors[i], label=\"two points\")\n",
    "i+=1\n",
    "plt.plot(range(3, 8), np.ones((5,)), color=colors[i], label=\"brute-force optimal\")\n",
    "i+=1\n",
    "\n",
    "plt.legend()\n",
    "\n",
    "plt.legend(loc=\"upper right\")"
   ]
  },
  {
   "cell_type": "code",
   "execution_count": null,
   "metadata": {},
   "outputs": [],
   "source": []
  }
 ],
 "metadata": {
  "kernelspec": {
   "display_name": "Python 3",
   "language": "python",
   "name": "python3"
  },
  "language_info": {
   "codemirror_mode": {
    "name": "ipython",
    "version": 3
   },
   "file_extension": ".py",
   "mimetype": "text/x-python",
   "name": "python",
   "nbconvert_exporter": "python",
   "pygments_lexer": "ipython3",
   "version": "3.6.6"
  }
 },
 "nbformat": 4,
 "nbformat_minor": 2
}
