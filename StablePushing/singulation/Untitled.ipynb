{
 "cells": [
  {
   "cell_type": "code",
   "execution_count": 38,
   "metadata": {},
   "outputs": [],
   "source": [
    "%matplotlib inline\n",
    "\n",
    "import json\n",
    "import numpy as np\n",
    "import matplotlib.pyplot as plt\n",
    "import os"
   ]
  },
  {
   "cell_type": "code",
   "execution_count": 39,
   "metadata": {},
   "outputs": [],
   "source": [
    "overall = {}\n",
    "\n",
    "for folder in os.listdir(\"best_hard/5/0/\"):\n",
    "    overall[folder] = []\n",
    "    for filename in os.listdir(\"best_hard/5/0/\"+folder):\n",
    "        try:\n",
    "            if len(filename.split(\".\"))!=2 or filename.split(\".\")[1]!=\"json\":\n",
    "                continue\n",
    "            with open(\"best_hard/5/0/\"+folder+\"/\"+filename, 'r') as f:\n",
    "                dic = json.load(f)\n",
    "            overall[folder].append(dic['mean separation after push'] - dic['mean separation before push'])\n",
    "        except:\n",
    "            continue"
   ]
  },
  {
   "cell_type": "code",
   "execution_count": 40,
   "metadata": {},
   "outputs": [],
   "source": [
    "optimal = {}\n",
    "for filename in os.listdir(\"best_hard/5/0/distribution_stable\"):\n",
    "    try:\n",
    "        if len(filename.split(\".\"))!=2 or filename.split(\".\")[1]!=\"json\":\n",
    "            continue\n",
    "        with open(\"best_hard/5/0/distribution_stable/\"+filename, 'r') as f:\n",
    "            dic = json.load(f)\n",
    "        key = filename.split(\"_\")[0]\n",
    "        if not key in optimal.keys():\n",
    "            optimal[key] = [dic['mean separation after push'] - dic['mean separation before push'], filename]\n",
    "        elif optimal[key][0] < dic['mean separation after push'] - dic['mean separation before push']:\n",
    "            optimal[key] = [dic['mean separation after push'] - dic['mean separation before push'], filename]\n",
    "    except:\n",
    "        continue\n",
    "optimal_final = [optimal[key][0] for key in optimal.keys()]\n",
    "overall[\"optimal\"] = optimal_final"
   ]
  },
  {
   "cell_type": "code",
   "execution_count": 41,
   "metadata": {},
   "outputs": [
    {
     "data": {
      "text/plain": [
       "<matplotlib.legend.Legend at 0x11583c780>"
      ]
     },
     "execution_count": 41,
     "metadata": {},
     "output_type": "execute_result"
    },
    {
     "data": {
      "image/png": "[encoded data removed]",
      "text/plain": [
       "<Figure size 432x288 with 1 Axes>"
      ]
     },
     "metadata": {},
     "output_type": "display_data"
    }
   ],
   "source": [
    "policy_lst = list(overall.keys())\n",
    "\n",
    "graph_info = {}\n",
    "\n",
    "for p in policy_lst:\n",
    "    if p != \"distribution\":\n",
    "        graph_info[p] = [[np.mean(overall[p])], \\\n",
    "                          [2*np.std(overall[p])], \\\n",
    "                          [2*np.std(overall[p])]]\n",
    "\n",
    "width = 0.1\n",
    "fig, ax = plt.subplots()\n",
    "i = 0\n",
    "\n",
    "for p in policy_lst:\n",
    "    rects = ax.bar(width*i, graph_info[p][0], width, yerr=[graph_info[p][1], graph_info[p][2]], label=p)\n",
    "    i+=1\n",
    "\n",
    "\n",
    "ax.set_ylabel('normalized log separation')\n",
    "ax.set_xticks([1])\n",
    "ax.set_xticklabels((\"3-body disk objects\"))\n",
    "ax.set_title('3-body group 0 (disk) objects single point pushing')\n",
    "plt.legend(bbox_to_anchor=(1.05, 1), loc=2, borderaxespad=0.)"
   ]
  },
  {
   "cell_type": "code",
   "execution_count": null,
   "metadata": {},
   "outputs": [],
   "source": []
  }
 ],
 "metadata": {
  "kernelspec": {
   "display_name": "Python 3",
   "language": "python",
   "name": "python3"
  },
  "language_info": {
   "codemirror_mode": {
    "name": "ipython",
    "version": 3
   },
   "file_extension": ".py",
   "mimetype": "text/x-python",
   "name": "python",
   "nbconvert_exporter": "python",
   "pygments_lexer": "ipython3",
   "version": "3.6.6"
  }
 },
 "nbformat": 4,
 "nbformat_minor": 2
}
