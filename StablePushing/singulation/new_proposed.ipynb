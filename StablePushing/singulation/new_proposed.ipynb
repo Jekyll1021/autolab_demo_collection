{
 "cells": [
  {
   "cell_type": "code",
   "execution_count": 1,
   "metadata": {},
   "outputs": [],
   "source": [
    "%matplotlib inline\n",
    "\n",
    "import json\n",
    "import numpy as np\n",
    "import matplotlib.pyplot as plt\n",
    "import os\n",
    "import math"
   ]
  },
  {
   "cell_type": "code",
   "execution_count": 2,
   "metadata": {},
   "outputs": [],
   "source": [
    "baseline = [\"maximumClearanceRatio\",\"boundaryShear\",\"clusterDiffusion\"]\n",
    "minSlip = [\"proposed0\",\"proposed1\",\"proposed8\"]\n",
    "smash = [\"proposed6\"]\n",
    "final = [\"proposed9\",\"bruteForce\"]"
   ]
  },
  {
   "cell_type": "code",
   "execution_count": 3,
   "metadata": {},
   "outputs": [],
   "source": [
    "overall = {}\n",
    "\n",
    "for folder in os.listdir(\"new_proposed/3/0/\"):\n",
    "    overall[folder] = []\n",
    "    for filename in os.listdir(\"new_proposed/3/0/\"+folder):\n",
    "#         try:\n",
    "        if len(filename.split(\".\"))!=2 or filename.split(\".\")[1]!=\"json\":\n",
    "            continue\n",
    "        with open(\"new_proposed/3/0/\"+folder+\"/\"+filename, 'r') as f:\n",
    "            dic = json.load(f)\n",
    "        overall[folder].append(dic['mean separation after push'] - dic['mean separation before push'])\n",
    "#         except:\n",
    "#             continue"
   ]
  },
  {
   "cell_type": "code",
   "execution_count": 4,
   "metadata": {},
   "outputs": [],
   "source": [
    "optimal = {}\n",
    "for filename in os.listdir(\"new_proposed/3/0/distribution_stable\"):\n",
    "    try:\n",
    "        if len(filename.split(\".\"))!=2 or filename.split(\".\")[1]!=\"json\":\n",
    "            continue\n",
    "        with open(\"new_proposed/3/0/distribution_stable/\"+filename, 'r') as f:\n",
    "            dic = json.load(f)\n",
    "        key = filename.split(\"_\")[0]\n",
    "        if not key in optimal.keys():\n",
    "            optimal[key] = [dic['mean separation after push'] - dic['mean separation before push'], filename]\n",
    "        elif optimal[key][0] < dic['mean separation after push'] - dic['mean separation before push']:\n",
    "            optimal[key] = [dic['mean separation after push'] - dic['mean separation before push'], filename]\n",
    "    except:\n",
    "        continue\n",
    "optimal_final = [optimal[key][0] for key in optimal.keys()]\n",
    "overall[\"bruteForce\"] = optimal_final"
   ]
  },
  {
   "cell_type": "code",
   "execution_count": 5,
   "metadata": {},
   "outputs": [
    {
     "data": {
      "text/plain": [
       "Text(0.5,1,'3-body group 0 (disk) objects single point pushing')"
      ]
     },
     "execution_count": 5,
     "metadata": {},
     "output_type": "execute_result"
    },
    {
     "data": {
      "image/png": "[encoded data removed]",
      "text/plain": [
       "<Figure size 432x288 with 1 Axes>"
      ]
     },
     "metadata": {},
     "output_type": "display_data"
    }
   ],
   "source": [
    "policy_lst = list(overall.keys())\n",
    "\n",
    "graph_info = {}\n",
    "\n",
    "for p in policy_lst:\n",
    "    if p != \"distribution\":\n",
    "        graph_info[p] = [[np.mean(overall[p])], \\\n",
    "                          [np.std(overall[p])], \\\n",
    "                          [np.std(overall[p])]]\n",
    "\n",
    "width = 0.1\n",
    "fig, ax = plt.subplots()\n",
    "i = 0\n",
    "\n",
    "rects = ax.bar(width*i, graph_info[\"distribution_stable\"][0], width, yerr=[graph_info[\"distribution_stable\"][1], graph_info[\"distribution_stable\"][2]], label=\"quasiRandom\")\n",
    "i+=1\n",
    "\n",
    "\n",
    "for p in baseline:\n",
    "    rects = ax.bar(width*i, graph_info[p][0], width, yerr=[graph_info[p][1], graph_info[p][2]], label=p)\n",
    "    i+=1\n",
    "    \n",
    "for p in minSlip:\n",
    "    rects = ax.bar(width*i, graph_info[p][0], width, yerr=[graph_info[p][1], graph_info[p][2]], label=p)\n",
    "    i+=1\n",
    "\n",
    "for p in smash:\n",
    "    rects = ax.bar(width*i, graph_info[p][0], width, yerr=[graph_info[p][1], graph_info[p][2]], label=p)\n",
    "    i+=1\n",
    "\n",
    "for p in final:\n",
    "    rects = ax.bar(width*i, graph_info[p][0], width, yerr=[graph_info[p][1], graph_info[p][2]], label=p)\n",
    "    i+=1\n",
    "\n",
    "ax.set_ylabel('normalized log separation')\n",
    "ax.set_xticks([1])\n",
    "# ax.set_xticklabels((\"3-body disk objects\"))\n",
    "ax.set_title('3-body group 0 (disk) objects single point pushing')\n",
    "# plt.legend(bbox_to_anchor=(1.05, 1), loc=2, borderaxespad=0.)"
   ]
  },
  {
   "cell_type": "code",
   "execution_count": 6,
   "metadata": {},
   "outputs": [],
   "source": [
    "overall = {}\n",
    "\n",
    "for folder in os.listdir(\"new_proposed/3/1/\"):\n",
    "    overall[folder] = []\n",
    "    for filename in os.listdir(\"new_proposed/3/1/\"+folder):\n",
    "        try:\n",
    "            if len(filename.split(\".\"))!=2 or filename.split(\".\")[1]!=\"json\":\n",
    "                continue\n",
    "            with open(\"new_proposed/3/1/\"+folder+\"/\"+filename, 'r') as f:\n",
    "                dic = json.load(f)\n",
    "            overall[folder].append(dic['mean separation after push'] - dic['mean separation before push'])\n",
    "        except:\n",
    "            continue"
   ]
  },
  {
   "cell_type": "code",
   "execution_count": 7,
   "metadata": {},
   "outputs": [],
   "source": [
    "optimal = {}\n",
    "for filename in os.listdir(\"new_proposed/3/1/distribution_stable\"):\n",
    "    try:\n",
    "        if len(filename.split(\".\"))!=2 or filename.split(\".\")[1]!=\"json\":\n",
    "            continue\n",
    "        with open(\"new_proposed/3/1/distribution_stable/\"+filename, 'r') as f:\n",
    "            dic = json.load(f)\n",
    "        key = filename.split(\"_\")[0]\n",
    "        if not key in optimal.keys():\n",
    "            optimal[key] = [dic['mean separation after push'] - dic['mean separation before push'], filename]\n",
    "        elif optimal[key][0] < dic['mean separation after push'] - dic['mean separation before push']:\n",
    "            optimal[key] = [dic['mean separation after push'] - dic['mean separation before push'], filename]\n",
    "    except:\n",
    "        continue\n",
    "optimal_final = [optimal[key][0] for key in optimal.keys()]\n",
    "overall[\"bruteForce\"] = optimal_final"
   ]
  },
  {
   "cell_type": "code",
   "execution_count": 8,
   "metadata": {},
   "outputs": [
    {
     "data": {
      "text/plain": [
       "Text(0.5,1,'3-body group 1 (semi-disk) objects single point pushing')"
      ]
     },
     "execution_count": 8,
     "metadata": {},
     "output_type": "execute_result"
    },
    {
     "data": {
      "image/png": "[encoded data removed]",
      "text/plain": [
       "<Figure size 432x288 with 1 Axes>"
      ]
     },
     "metadata": {},
     "output_type": "display_data"
    }
   ],
   "source": [
    "policy_lst = list(overall.keys())\n",
    "\n",
    "graph_info = {}\n",
    "\n",
    "for p in policy_lst:\n",
    "    if p != \"distribution\":\n",
    "        graph_info[p] = [[np.mean(overall[p])], \\\n",
    "                          [np.std(overall[p])], \\\n",
    "                          [np.std(overall[p])]]\n",
    "\n",
    "width = 0.1\n",
    "fig, ax = plt.subplots()\n",
    "i = 0\n",
    "\n",
    "rects = ax.bar(width*i, graph_info[\"distribution_stable\"][0], width, yerr=[graph_info[\"distribution_stable\"][1], graph_info[\"distribution_stable\"][2]], label=\"quasiRandom\")\n",
    "i+=1\n",
    "\n",
    "\n",
    "for p in baseline:\n",
    "    rects = ax.bar(width*i, graph_info[p][0], width, yerr=[graph_info[p][1], graph_info[p][2]], label=p)\n",
    "    i+=1\n",
    "    \n",
    "for p in minSlip:\n",
    "    rects = ax.bar(width*i, graph_info[p][0], width, yerr=[graph_info[p][1], graph_info[p][2]], label=p)\n",
    "    i+=1\n",
    "\n",
    "for p in smash:\n",
    "    rects = ax.bar(width*i, graph_info[p][0], width, yerr=[graph_info[p][1], graph_info[p][2]], label=p)\n",
    "    i+=1\n",
    "\n",
    "for p in final:\n",
    "    rects = ax.bar(width*i, graph_info[p][0], width, yerr=[graph_info[p][1], graph_info[p][2]], label=p)\n",
    "    i+=1\n",
    "\n",
    "ax.set_ylabel('normalized log separation')\n",
    "ax.set_xticks([1])\n",
    "# ax.set_xticklabels((\"3-body disk objects\"))\n",
    "ax.set_title('3-body group 1 (semi-disk) objects single point pushing')\n",
    "# plt.legend(bbox_to_anchor=(1.05, 1), loc=2, borderaxespad=0.)"
   ]
  },
  {
   "cell_type": "code",
   "execution_count": 9,
   "metadata": {},
   "outputs": [],
   "source": [
    "overall = {}\n",
    "\n",
    "for folder in os.listdir(\"new_proposed/3/2/\"):\n",
    "    overall[folder] = []\n",
    "    for filename in os.listdir(\"new_proposed/3/2/\"+folder):\n",
    "        try:\n",
    "            if len(filename.split(\".\"))!=2 or filename.split(\".\")[1]!=\"json\":\n",
    "                continue\n",
    "            with open(\"new_proposed/3/2/\"+folder+\"/\"+filename, 'r') as f:\n",
    "                dic = json.load(f)\n",
    "            overall[folder].append(dic['mean separation after push'] - dic['mean separation before push'])\n",
    "        except:\n",
    "            continue"
   ]
  },
  {
   "cell_type": "code",
   "execution_count": 10,
   "metadata": {},
   "outputs": [],
   "source": [
    "optimal = {}\n",
    "for filename in os.listdir(\"new_proposed/3/2/distribution_stable\"):\n",
    "    try:\n",
    "        if len(filename.split(\".\"))!=2 or filename.split(\".\")[1]!=\"json\":\n",
    "            continue\n",
    "        with open(\"new_proposed/3/2/distribution_stable/\"+filename, 'r') as f:\n",
    "            dic = json.load(f)\n",
    "        key = filename.split(\"_\")[0]\n",
    "        if not key in optimal.keys():\n",
    "            optimal[key] = [dic['mean separation after push'] - dic['mean separation before push'], filename]\n",
    "        elif optimal[key][0] < dic['mean separation after push'] - dic['mean separation before push']:\n",
    "            optimal[key] = [dic['mean separation after push'] - dic['mean separation before push'], filename]\n",
    "    except:\n",
    "        continue\n",
    "optimal_final = [optimal[key][0] for key in optimal.keys()]\n",
    "overall[\"bruteForce\"] = optimal_final"
   ]
  },
  {
   "cell_type": "code",
   "execution_count": 13,
   "metadata": {},
   "outputs": [
    {
     "data": {
      "text/plain": [
       "Text(0.5,1,'3-body group 2 (semi-slice) objects single point pushing')"
      ]
     },
     "execution_count": 13,
     "metadata": {},
     "output_type": "execute_result"
    },
    {
     "data": {
      "image/png": "[encoded data removed]",
      "text/plain": [
       "<Figure size 432x288 with 1 Axes>"
      ]
     },
     "metadata": {},
     "output_type": "display_data"
    }
   ],
   "source": [
    "policy_lst = list(overall.keys())\n",
    "\n",
    "graph_info = {}\n",
    "\n",
    "for p in policy_lst:\n",
    "    if p != \"distribution\":\n",
    "        graph_info[p] = [[np.mean(overall[p])], \\\n",
    "                          [np.std(overall[p])], \\\n",
    "                          [np.std(overall[p])]]\n",
    "\n",
    "\n",
    "\n",
    "width = 0.1\n",
    "fig, ax = plt.subplots()\n",
    "i = 0\n",
    "\n",
    "rects = ax.bar(width*i, graph_info[\"distribution_stable\"][0], width, yerr=[graph_info[\"distribution_stable\"][1], graph_info[\"distribution_stable\"][2]], label=\"quasiRandom\")\n",
    "i+=1\n",
    "\n",
    "\n",
    "for p in baseline:\n",
    "    rects = ax.bar(width*i, graph_info[p][0], width, yerr=[graph_info[p][1], graph_info[p][2]], label=p)\n",
    "    i+=1\n",
    "    \n",
    "for p in minSlip:\n",
    "    rects = ax.bar(width*i, graph_info[p][0], width, yerr=[graph_info[p][1], graph_info[p][2]], label=p)\n",
    "    i+=1\n",
    "\n",
    "for p in smash:\n",
    "    rects = ax.bar(width*i, graph_info[p][0], width, yerr=[graph_info[p][1], graph_info[p][2]], label=p)\n",
    "    i+=1\n",
    "\n",
    "for p in final:\n",
    "    rects = ax.bar(width*i, graph_info[p][0], width, yerr=[graph_info[p][1], graph_info[p][2]], label=p)\n",
    "    i+=1\n",
    "\n",
    "ax.set_ylabel('normalized log separation')\n",
    "ax.set_xticks([1])\n",
    "ax.set_xticklabels((\"3-body disk objects\"))\n",
    "ax.set_title('3-body group 2 (semi-slice) objects single point pushing')\n",
    "# plt.legend(bbox_to_anchor=(1.05, 1), loc=2, borderaxespad=0.)"
   ]
  },
  {
   "cell_type": "code",
   "execution_count": 17,
   "metadata": {},
   "outputs": [],
   "source": [
    "overall = {}\n",
    "\n",
    "for folder in os.listdir(\"new_proposed/3/3/\"):\n",
    "    overall[folder] = []\n",
    "    for filename in os.listdir(\"new_proposed/3/3/\"+folder):\n",
    "        try:\n",
    "            if len(filename.split(\".\"))!=2 or filename.split(\".\")[1]!=\"json\":\n",
    "                continue\n",
    "            with open(\"new_proposed/3/3/\"+folder+\"/\"+filename, 'r') as f:\n",
    "                dic = json.load(f)\n",
    "            overall[folder].append(dic['mean separation after push'] - dic['mean separation before push'])\n",
    "        except:\n",
    "            continue"
   ]
  },
  {
   "cell_type": "code",
   "execution_count": 18,
   "metadata": {},
   "outputs": [],
   "source": [
    "optimal = {}\n",
    "for filename in os.listdir(\"new_proposed/3/3/distribution_stable\"):\n",
    "    try:\n",
    "        if len(filename.split(\".\"))!=2 or filename.split(\".\")[1]!=\"json\":\n",
    "            continue\n",
    "        with open(\"new_proposed/3/3/distribution_stable/\"+filename, 'r') as f:\n",
    "            dic = json.load(f)\n",
    "        key = filename.split(\"_\")[0]\n",
    "        if not key in optimal.keys():\n",
    "            optimal[key] = [dic['mean separation after push'] - dic['mean separation before push'], filename]\n",
    "        elif optimal[key][0] < dic['mean separation after push'] - dic['mean separation before push']:\n",
    "            optimal[key] = [dic['mean separation after push'] - dic['mean separation before push'], filename]\n",
    "    except:\n",
    "        continue\n",
    "optimal_final = [optimal[key][0] for key in optimal.keys()]\n",
    "overall[\"bruteForce\"] = optimal_final"
   ]
  },
  {
   "cell_type": "code",
   "execution_count": 20,
   "metadata": {},
   "outputs": [
    {
     "data": {
      "text/plain": [
       "Text(0.5,1,'3-body group 3 (slice) objects single point pushing')"
      ]
     },
     "execution_count": 20,
     "metadata": {},
     "output_type": "execute_result"
    },
    {
     "data": {
      "image/png": "[encoded data removed]",
      "text/plain": [
       "<Figure size 432x288 with 1 Axes>"
      ]
     },
     "metadata": {},
     "output_type": "display_data"
    }
   ],
   "source": [
    "policy_lst = list(overall.keys())\n",
    "\n",
    "graph_info = {}\n",
    "\n",
    "for p in policy_lst:\n",
    "    if p != \"distribution\":\n",
    "        graph_info[p] = [[np.mean(overall[p])], \\\n",
    "                          [np.std(overall[p])], \\\n",
    "                          [np.std(overall[p])]]\n",
    "\n",
    "\n",
    "\n",
    "width = 0.1\n",
    "fig, ax = plt.subplots()\n",
    "i = 0\n",
    "\n",
    "rects = ax.bar(width*i, graph_info[\"distribution_stable\"][0], width, yerr=[graph_info[\"distribution_stable\"][1], graph_info[\"distribution_stable\"][2]], label=\"quasiRandom\")\n",
    "i+=1\n",
    "\n",
    "\n",
    "for p in baseline:\n",
    "    rects = ax.bar(width*i, graph_info[p][0], width, yerr=[graph_info[p][1], graph_info[p][2]], label=p)\n",
    "    i+=1\n",
    "    \n",
    "for p in minSlip:\n",
    "    rects = ax.bar(width*i, graph_info[p][0], width, yerr=[graph_info[p][1], graph_info[p][2]], label=p)\n",
    "    i+=1\n",
    "\n",
    "for p in smash:\n",
    "    rects = ax.bar(width*i, graph_info[p][0], width, yerr=[graph_info[p][1], graph_info[p][2]], label=p)\n",
    "    i+=1\n",
    "\n",
    "for p in final:\n",
    "    rects = ax.bar(width*i, graph_info[p][0], width, yerr=[graph_info[p][1], graph_info[p][2]], label=p)\n",
    "    i+=1\n",
    "ax.set_ylabel('normalized log separation')\n",
    "ax.set_xticks([1])\n",
    "ax.set_xticklabels((\"3-body disk objects\"))\n",
    "ax.set_title('3-body group 3 (slice) objects single point pushing')\n",
    "# plt.legend(bbox_to_anchor=(1.05, 1), loc=2, borderaxespad=0.)"
   ]
  },
  {
   "cell_type": "code",
   "execution_count": 21,
   "metadata": {},
   "outputs": [],
   "source": [
    "overall = {}\n",
    "\n",
    "for folder in os.listdir(\"new_proposed/4/0/\"):\n",
    "    overall[folder] = []\n",
    "    for filename in os.listdir(\"new_proposed/4/0/\"+folder):\n",
    "        try:\n",
    "            if len(filename.split(\".\"))!=2 or filename.split(\".\")[1]!=\"json\":\n",
    "                continue\n",
    "            with open(\"new_proposed/4/0/\"+folder+\"/\"+filename, 'r') as f:\n",
    "                dic = json.load(f)\n",
    "            overall[folder].append(dic['mean separation after push'] - dic['mean separation before push'])\n",
    "        except:\n",
    "            continue"
   ]
  },
  {
   "cell_type": "code",
   "execution_count": 22,
   "metadata": {},
   "outputs": [],
   "source": [
    "optimal = {}\n",
    "for filename in os.listdir(\"new_proposed/4/0/distribution_stable\"):\n",
    "    try:\n",
    "        if len(filename.split(\".\"))!=2 or filename.split(\".\")[1]!=\"json\":\n",
    "            continue\n",
    "        with open(\"new_proposed/4/0/distribution_stable/\"+filename, 'r') as f:\n",
    "            dic = json.load(f)\n",
    "        key = filename.split(\"_\")[0]\n",
    "        if not key in optimal.keys():\n",
    "            optimal[key] = [dic['mean separation after push'] - dic['mean separation before push'], filename]\n",
    "        elif optimal[key][0] < dic['mean separation after push'] - dic['mean separation before push']:\n",
    "            optimal[key] = [dic['mean separation after push'] - dic['mean separation before push'], filename]\n",
    "    except:\n",
    "        continue\n",
    "optimal_final = [optimal[key][0] for key in optimal.keys()]\n",
    "overall[\"bruteForce\"] = optimal_final"
   ]
  },
  {
   "cell_type": "code",
   "execution_count": 24,
   "metadata": {},
   "outputs": [
    {
     "data": {
      "text/plain": [
       "Text(0.5,1,'4-body group 0 (disk) objects single point pushing')"
      ]
     },
     "execution_count": 24,
     "metadata": {},
     "output_type": "execute_result"
    },
    {
     "data": {
      "image/png": "[encoded data removed]",
      "text/plain": [
       "<Figure size 432x288 with 1 Axes>"
      ]
     },
     "metadata": {},
     "output_type": "display_data"
    }
   ],
   "source": [
    "policy_lst = list(overall.keys())\n",
    "\n",
    "graph_info = {}\n",
    "\n",
    "for p in policy_lst:\n",
    "    if p != \"distribution\":\n",
    "        graph_info[p] = [[np.mean(overall[p])], \\\n",
    "                          [np.std(overall[p])], \\\n",
    "                          [np.std(overall[p])]]\n",
    "\n",
    "\n",
    "\n",
    "width = 0.1\n",
    "fig, ax = plt.subplots()\n",
    "i = 0\n",
    "\n",
    "rects = ax.bar(width*i, graph_info[\"distribution_stable\"][0], width, yerr=[graph_info[\"distribution_stable\"][1], graph_info[\"distribution_stable\"][2]], label=\"quasiRandom\")\n",
    "i+=1\n",
    "\n",
    "\n",
    "for p in baseline:\n",
    "    rects = ax.bar(width*i, graph_info[p][0], width, yerr=[graph_info[p][1], graph_info[p][2]], label=p)\n",
    "    i+=1\n",
    "    \n",
    "for p in minSlip:\n",
    "    rects = ax.bar(width*i, graph_info[p][0], width, yerr=[graph_info[p][1], graph_info[p][2]], label=p)\n",
    "    i+=1\n",
    "\n",
    "for p in smash:\n",
    "    rects = ax.bar(width*i, graph_info[p][0], width, yerr=[graph_info[p][1], graph_info[p][2]], label=p)\n",
    "    i+=1\n",
    "\n",
    "for p in final:\n",
    "    rects = ax.bar(width*i, graph_info[p][0], width, yerr=[graph_info[p][1], graph_info[p][2]], label=p)\n",
    "    i+=1\n",
    "\n",
    "\n",
    "ax.set_ylabel('normalized log separation')\n",
    "ax.set_xticks([1])\n",
    "ax.set_xticklabels((\"4-body disk objects\"))\n",
    "ax.set_title('4-body group 0 (disk) objects single point pushing')\n",
    "# plt.legend(bbox_to_anchor=(1.05, 1), loc=2, borderaxespad=0.)"
   ]
  },
  {
   "cell_type": "code",
   "execution_count": 44,
   "metadata": {},
   "outputs": [],
   "source": [
    "overall = {}\n",
    "\n",
    "for folder in os.listdir(\"new_proposed/4/1/\"):\n",
    "    overall[folder] = []\n",
    "    for filename in os.listdir(\"new_proposed/4/1/\"+folder):\n",
    "        try:\n",
    "            if len(filename.split(\".\"))!=2 or filename.split(\".\")[1]!=\"json\":\n",
    "                continue\n",
    "            with open(\"new_proposed/4/1/\"+folder+\"/\"+filename, 'r') as f:\n",
    "                dic = json.load(f)\n",
    "            overall[folder].append(dic['mean separation after push'] - dic['mean separation before push'])\n",
    "        except:\n",
    "            continue"
   ]
  },
  {
   "cell_type": "code",
   "execution_count": 45,
   "metadata": {},
   "outputs": [],
   "source": [
    "optimal = {}\n",
    "for filename in os.listdir(\"new_proposed/4/1/distribution_stable\"):\n",
    "    try:\n",
    "        if len(filename.split(\".\"))!=2 or filename.split(\".\")[1]!=\"json\":\n",
    "            continue\n",
    "        with open(\"new_proposed/4/1/distribution_stable/\"+filename, 'r') as f:\n",
    "            dic = json.load(f)\n",
    "        key = filename.split(\"_\")[0]\n",
    "        if not key in optimal.keys():\n",
    "            optimal[key] = [dic['mean separation after push'] - dic['mean separation before push'], filename]\n",
    "        elif optimal[key][0] < dic['mean separation after push'] - dic['mean separation before push']:\n",
    "            optimal[key] = [dic['mean separation after push'] - dic['mean separation before push'], filename]\n",
    "    except:\n",
    "        continue\n",
    "optimal_final = [optimal[key][0] for key in optimal.keys()]\n",
    "overall[\"bruteForce\"] = optimal_final"
   ]
  },
  {
   "cell_type": "code",
   "execution_count": 46,
   "metadata": {},
   "outputs": [
    {
     "data": {
      "text/plain": [
       "Text(0.5,1,'4-body group 1 (semi-disk) objects single point pushing')"
      ]
     },
     "execution_count": 46,
     "metadata": {},
     "output_type": "execute_result"
    },
    {
     "data": {
      "image/png": "[encoded data removed]",
      "text/plain": [
       "<Figure size 432x288 with 1 Axes>"
      ]
     },
     "metadata": {},
     "output_type": "display_data"
    }
   ],
   "source": [
    "policy_lst = list(overall.keys())\n",
    "\n",
    "graph_info = {}\n",
    "\n",
    "for p in policy_lst:\n",
    "    if p != \"distribution\":\n",
    "        graph_info[p] = [[np.mean(overall[p])], \\\n",
    "                          [np.std(overall[p])], \\\n",
    "                          [np.std(overall[p])]]\n",
    "\n",
    "\n",
    "\n",
    "width = 0.1\n",
    "fig, ax = plt.subplots()\n",
    "i = 0\n",
    "\n",
    "rects = ax.bar(width*i, graph_info[\"distribution_stable\"][0], width, yerr=[graph_info[\"distribution_stable\"][1], graph_info[\"distribution_stable\"][2]], label=\"quasiRandom\")\n",
    "i+=1\n",
    "\n",
    "\n",
    "for p in baseline:\n",
    "    rects = ax.bar(width*i, graph_info[p][0], width, yerr=[graph_info[p][1], graph_info[p][2]], label=p)\n",
    "    i+=1\n",
    "    \n",
    "for p in minSlip:\n",
    "    rects = ax.bar(width*i, graph_info[p][0], width, yerr=[graph_info[p][1], graph_info[p][2]], label=p)\n",
    "    i+=1\n",
    "\n",
    "for p in smash:\n",
    "    rects = ax.bar(width*i, graph_info[p][0], width, yerr=[graph_info[p][1], graph_info[p][2]], label=p)\n",
    "    i+=1\n",
    "\n",
    "for p in final:\n",
    "    rects = ax.bar(width*i, graph_info[p][0], width, yerr=[graph_info[p][1], graph_info[p][2]], label=p)\n",
    "    i+=1\n",
    "\n",
    "ax.set_ylabel('normalized log separation')\n",
    "ax.set_xticks([1])\n",
    "ax.set_xticklabels((\"4-body disk objects\"))\n",
    "ax.set_title('4-body group 1 (semi-disk) objects single point pushing')\n",
    "# plt.legend(bbox_to_anchor=(1.05, 1), loc=2, borderaxespad=0.)"
   ]
  },
  {
   "cell_type": "code",
   "execution_count": 47,
   "metadata": {},
   "outputs": [],
   "source": [
    "overall = {}\n",
    "\n",
    "for folder in os.listdir(\"new_proposed/4/2/\"):\n",
    "    overall[folder] = []\n",
    "    for filename in os.listdir(\"new_proposed/4/2/\"+folder):\n",
    "        try:\n",
    "            if len(filename.split(\".\"))!=2 or filename.split(\".\")[1]!=\"json\":\n",
    "                continue\n",
    "            with open(\"new_proposed/4/2/\"+folder+\"/\"+filename, 'r') as f:\n",
    "                dic = json.load(f)\n",
    "            overall[folder].append(dic['mean separation after push'] - dic['mean separation before push'])\n",
    "        except:\n",
    "            continue"
   ]
  },
  {
   "cell_type": "code",
   "execution_count": 48,
   "metadata": {},
   "outputs": [],
   "source": [
    "optimal = {}\n",
    "for filename in os.listdir(\"new_proposed/4/2/distribution_stable\"):\n",
    "    try:\n",
    "        if len(filename.split(\".\"))!=2 or filename.split(\".\")[1]!=\"json\":\n",
    "            continue\n",
    "        with open(\"new_proposed/4/2/distribution_stable/\"+filename, 'r') as f:\n",
    "            dic = json.load(f)\n",
    "        key = filename.split(\"_\")[0]\n",
    "        if not key in optimal.keys():\n",
    "            optimal[key] = [dic['mean separation after push'] - dic['mean separation before push'], filename]\n",
    "        elif optimal[key][0] < dic['mean separation after push'] - dic['mean separation before push']:\n",
    "            optimal[key] = [dic['mean separation after push'] - dic['mean separation before push'], filename]\n",
    "    except:\n",
    "        continue\n",
    "optimal_final = [optimal[key][0] for key in optimal.keys()]\n",
    "overall[\"bruteForce\"] = optimal_final"
   ]
  },
  {
   "cell_type": "code",
   "execution_count": 49,
   "metadata": {},
   "outputs": [
    {
     "data": {
      "text/plain": [
       "Text(0.5,1,'4-body group 2 (semi-slice) objects single point pushing')"
      ]
     },
     "execution_count": 49,
     "metadata": {},
     "output_type": "execute_result"
    },
    {
     "data": {
      "image/png": "[encoded data removed]",
      "text/plain": [
       "<Figure size 432x288 with 1 Axes>"
      ]
     },
     "metadata": {},
     "output_type": "display_data"
    }
   ],
   "source": [
    "policy_lst = list(overall.keys())\n",
    "\n",
    "graph_info = {}\n",
    "\n",
    "for p in policy_lst:\n",
    "    if p != \"distribution\":\n",
    "        graph_info[p] = [[np.mean(overall[p])], \\\n",
    "                          [np.std(overall[p])], \\\n",
    "                          [np.std(overall[p])]]\n",
    "\n",
    "\n",
    "\n",
    "width = 0.1\n",
    "fig, ax = plt.subplots()\n",
    "i = 0\n",
    "\n",
    "rects = ax.bar(width*i, graph_info[\"distribution_stable\"][0], width, yerr=[graph_info[\"distribution_stable\"][1], graph_info[\"distribution_stable\"][2]], label=\"quasiRandom\")\n",
    "i+=1\n",
    "\n",
    "\n",
    "for p in baseline:\n",
    "    rects = ax.bar(width*i, graph_info[p][0], width, yerr=[graph_info[p][1], graph_info[p][2]], label=p)\n",
    "    i+=1\n",
    "    \n",
    "for p in minSlip:\n",
    "    rects = ax.bar(width*i, graph_info[p][0], width, yerr=[graph_info[p][1], graph_info[p][2]], label=p)\n",
    "    i+=1\n",
    "\n",
    "for p in smash:\n",
    "    rects = ax.bar(width*i, graph_info[p][0], width, yerr=[graph_info[p][1], graph_info[p][2]], label=p)\n",
    "    i+=1\n",
    "\n",
    "for p in final:\n",
    "    rects = ax.bar(width*i, graph_info[p][0], width, yerr=[graph_info[p][1], graph_info[p][2]], label=p)\n",
    "    i+=1\n",
    "\n",
    "ax.set_ylabel('normalized log separation')\n",
    "ax.set_xticks([1])\n",
    "ax.set_xticklabels((\"4-body disk objects\"))\n",
    "ax.set_title('4-body group 2 (semi-slice) objects single point pushing')\n",
    "# plt.legend(bbox_to_anchor=(1.05, 1), loc=2, borderaxespad=0.)"
   ]
  },
  {
   "cell_type": "code",
   "execution_count": 31,
   "metadata": {},
   "outputs": [],
   "source": [
    "overall = {}\n",
    "\n",
    "for folder in os.listdir(\"new_proposed/4/3/\"):\n",
    "    overall[folder] = []\n",
    "    for filename in os.listdir(\"new_proposed/4/3/\"+folder):\n",
    "        try:\n",
    "            if len(filename.split(\".\"))!=2 or filename.split(\".\")[1]!=\"json\":\n",
    "                continue\n",
    "            with open(\"new_proposed/4/3/\"+folder+\"/\"+filename, 'r') as f:\n",
    "                dic = json.load(f)\n",
    "            overall[folder].append(dic['mean separation after push'] - dic['mean separation before push'])\n",
    "        except:\n",
    "            continue"
   ]
  },
  {
   "cell_type": "code",
   "execution_count": 32,
   "metadata": {},
   "outputs": [],
   "source": [
    "optimal = {}\n",
    "for filename in os.listdir(\"new_proposed/4/3/distribution_stable\"):\n",
    "    try:\n",
    "        if len(filename.split(\".\"))!=2 or filename.split(\".\")[1]!=\"json\":\n",
    "            continue\n",
    "        with open(\"new_proposed/4/3/distribution_stable/\"+filename, 'r') as f:\n",
    "            dic = json.load(f)\n",
    "        key = filename.split(\"_\")[0]\n",
    "        if not key in optimal.keys():\n",
    "            optimal[key] = [dic['mean separation after push'] - dic['mean separation before push'], filename]\n",
    "        elif optimal[key][0] < dic['mean separation after push'] - dic['mean separation before push']:\n",
    "            optimal[key] = [dic['mean separation after push'] - dic['mean separation before push'], filename]\n",
    "    except:\n",
    "        continue\n",
    "optimal_final = [optimal[key][0] for key in optimal.keys()]\n",
    "overall[\"bruteForce\"] = optimal_final"
   ]
  },
  {
   "cell_type": "code",
   "execution_count": 33,
   "metadata": {},
   "outputs": [
    {
     "data": {
      "text/plain": [
       "Text(0.5,1,'4-body group 3 (slice) objects single point pushing')"
      ]
     },
     "execution_count": 33,
     "metadata": {},
     "output_type": "execute_result"
    },
    {
     "data": {
      "image/png": "[encoded data removed]",
      "text/plain": [
       "<Figure size 432x288 with 1 Axes>"
      ]
     },
     "metadata": {},
     "output_type": "display_data"
    }
   ],
   "source": [
    "policy_lst = list(overall.keys())\n",
    "\n",
    "graph_info = {}\n",
    "\n",
    "for p in policy_lst:\n",
    "    if p != \"distribution\":\n",
    "        graph_info[p] = [[np.mean(overall[p])], \\\n",
    "                          [np.std(overall[p])], \\\n",
    "                          [np.std(overall[p])]]\n",
    "\n",
    "\n",
    "\n",
    "width = 0.1\n",
    "fig, ax = plt.subplots()\n",
    "i = 0\n",
    "\n",
    "rects = ax.bar(width*i, graph_info[\"distribution_stable\"][0], width, yerr=[graph_info[\"distribution_stable\"][1], graph_info[\"distribution_stable\"][2]], label=\"quasiRandom\")\n",
    "i+=1\n",
    "\n",
    "\n",
    "for p in baseline:\n",
    "    rects = ax.bar(width*i, graph_info[p][0], width, yerr=[graph_info[p][1], graph_info[p][2]], label=p)\n",
    "    i+=1\n",
    "    \n",
    "for p in minSlip:\n",
    "    rects = ax.bar(width*i, graph_info[p][0], width, yerr=[graph_info[p][1], graph_info[p][2]], label=p)\n",
    "    i+=1\n",
    "\n",
    "for p in smash:\n",
    "    rects = ax.bar(width*i, graph_info[p][0], width, yerr=[graph_info[p][1], graph_info[p][2]], label=p)\n",
    "    i+=1\n",
    "\n",
    "for p in final:\n",
    "    rects = ax.bar(width*i, graph_info[p][0], width, yerr=[graph_info[p][1], graph_info[p][2]], label=p)\n",
    "    i+=1\n",
    "\n",
    "ax.set_ylabel('normalized log separation')\n",
    "ax.set_xticks([1])\n",
    "ax.set_xticklabels((\"4-body disk objects\"))\n",
    "ax.set_title('4-body group 3 (slice) objects single point pushing')\n",
    "# plt.legend(bbox_to_anchor=(1.05, 1), loc=2, borderaxespad=0.)"
   ]
  },
  {
   "cell_type": "code",
   "execution_count": 50,
   "metadata": {},
   "outputs": [],
   "source": [
    "overall = {}\n",
    "\n",
    "for folder in os.listdir(\"new_proposed/5/0/\"):\n",
    "    overall[folder] = []\n",
    "    for filename in os.listdir(\"new_proposed/5/0/\"+folder):\n",
    "        try:\n",
    "            if len(filename.split(\".\"))!=2 or filename.split(\".\")[1]!=\"json\":\n",
    "                continue\n",
    "            with open(\"new_proposed/5/0/\"+folder+\"/\"+filename, 'r') as f:\n",
    "                dic = json.load(f)\n",
    "            overall[folder].append(dic['mean separation after push'] - dic['mean separation before push'])\n",
    "        except:\n",
    "            continue"
   ]
  },
  {
   "cell_type": "code",
   "execution_count": 51,
   "metadata": {},
   "outputs": [],
   "source": [
    "optimal = {}\n",
    "for filename in os.listdir(\"new_proposed/5/0/distribution_stable\"):\n",
    "    try:\n",
    "        if len(filename.split(\".\"))!=2 or filename.split(\".\")[1]!=\"json\":\n",
    "            continue\n",
    "        with open(\"new_proposed/5/0/distribution_stable/\"+filename, 'r') as f:\n",
    "            dic = json.load(f)\n",
    "        key = filename.split(\"_\")[0]\n",
    "        if not key in optimal.keys():\n",
    "            optimal[key] = [dic['mean separation after push'] - dic['mean separation before push'], filename]\n",
    "        elif optimal[key][0] < dic['mean separation after push'] - dic['mean separation before push']:\n",
    "            optimal[key] = [dic['mean separation after push'] - dic['mean separation before push'], filename]\n",
    "    except:\n",
    "        continue\n",
    "optimal_final = [optimal[key][0] for key in optimal.keys()]\n",
    "overall[\"bruteForce\"] = optimal_final"
   ]
  },
  {
   "cell_type": "code",
   "execution_count": 52,
   "metadata": {},
   "outputs": [
    {
     "data": {
      "text/plain": [
       "Text(0.5,1,'5-body group 0 (disk) objects single point pushing')"
      ]
     },
     "execution_count": 52,
     "metadata": {},
     "output_type": "execute_result"
    },
    {
     "data": {
      "image/png": "[encoded data removed]",
      "text/plain": [
       "<Figure size 432x288 with 1 Axes>"
      ]
     },
     "metadata": {},
     "output_type": "display_data"
    }
   ],
   "source": [
    "policy_lst = list(overall.keys())\n",
    "\n",
    "graph_info = {}\n",
    "\n",
    "for p in policy_lst:\n",
    "    if p != \"distribution\":\n",
    "        graph_info[p] = [[np.mean(overall[p])], \\\n",
    "                          [np.std(overall[p])], \\\n",
    "                          [np.std(overall[p])]]\n",
    "\n",
    "\n",
    "\n",
    "width = 0.1\n",
    "fig, ax = plt.subplots()\n",
    "i = 0\n",
    "\n",
    "rects = ax.bar(width*i, graph_info[\"distribution_stable\"][0], width, yerr=[graph_info[\"distribution_stable\"][1], graph_info[\"distribution_stable\"][2]], label=\"quasiRandom\")\n",
    "i+=1\n",
    "\n",
    "\n",
    "for p in baseline:\n",
    "    rects = ax.bar(width*i, graph_info[p][0], width, yerr=[graph_info[p][1], graph_info[p][2]], label=p)\n",
    "    i+=1\n",
    "    \n",
    "for p in minSlip:\n",
    "    rects = ax.bar(width*i, graph_info[p][0], width, yerr=[graph_info[p][1], graph_info[p][2]], label=p)\n",
    "    i+=1\n",
    "\n",
    "for p in smash:\n",
    "    rects = ax.bar(width*i, graph_info[p][0], width, yerr=[graph_info[p][1], graph_info[p][2]], label=p)\n",
    "    i+=1\n",
    "\n",
    "for p in final:\n",
    "    rects = ax.bar(width*i, graph_info[p][0], width, yerr=[graph_info[p][1], graph_info[p][2]], label=p)\n",
    "    i+=1\n",
    "\n",
    "ax.set_ylabel('normalized log separation')\n",
    "ax.set_xticks([1])\n",
    "ax.set_xticklabels((\"5-body disk objects\"))\n",
    "ax.set_title('5-body group 0 (disk) objects single point pushing')\n",
    "# plt.legend(bbox_to_anchor=(1.05, 1), loc=2, borderaxespad=0.)"
   ]
  },
  {
   "cell_type": "code",
   "execution_count": 53,
   "metadata": {},
   "outputs": [],
   "source": [
    "overall = {}\n",
    "\n",
    "for folder in os.listdir(\"new_proposed/5/1/\"):\n",
    "    overall[folder] = []\n",
    "    for filename in os.listdir(\"new_proposed/5/1/\"+folder):\n",
    "        try:\n",
    "            if len(filename.split(\".\"))!=2 or filename.split(\".\")[1]!=\"json\":\n",
    "                continue\n",
    "            with open(\"new_proposed/5/1/\"+folder+\"/\"+filename, 'r') as f:\n",
    "                dic = json.load(f)\n",
    "            overall[folder].append(dic['mean separation after push'] - dic['mean separation before push'])\n",
    "        except:\n",
    "            continue"
   ]
  },
  {
   "cell_type": "code",
   "execution_count": 54,
   "metadata": {},
   "outputs": [],
   "source": [
    "optimal = {}\n",
    "for filename in os.listdir(\"new_proposed/5/1/distribution_stable\"):\n",
    "    try:\n",
    "        if len(filename.split(\".\"))!=2 or filename.split(\".\")[1]!=\"json\":\n",
    "            continue\n",
    "        with open(\"new_proposed/5/1/distribution_stable/\"+filename, 'r') as f:\n",
    "            dic = json.load(f)\n",
    "        key = filename.split(\"_\")[0]\n",
    "        if not key in optimal.keys():\n",
    "            optimal[key] = [dic['mean separation after push'] - dic['mean separation before push'], filename]\n",
    "        elif optimal[key][0] < dic['mean separation after push'] - dic['mean separation before push']:\n",
    "            optimal[key] = [dic['mean separation after push'] - dic['mean separation before push'], filename]\n",
    "    except:\n",
    "        continue\n",
    "optimal_final = [optimal[key][0] for key in optimal.keys()]\n",
    "overall[\"bruteForce\"] = optimal_final"
   ]
  },
  {
   "cell_type": "code",
   "execution_count": 55,
   "metadata": {},
   "outputs": [
    {
     "data": {
      "text/plain": [
       "Text(0.5,1,'5-body group 1 (semi-disk) objects single point pushing')"
      ]
     },
     "execution_count": 55,
     "metadata": {},
     "output_type": "execute_result"
    },
    {
     "data": {
      "image/png": "[encoded data removed]",
      "text/plain": [
       "<Figure size 432x288 with 1 Axes>"
      ]
     },
     "metadata": {},
     "output_type": "display_data"
    }
   ],
   "source": [
    "policy_lst = list(overall.keys())\n",
    "\n",
    "graph_info = {}\n",
    "\n",
    "for p in policy_lst:\n",
    "    if p != \"distribution\":\n",
    "        graph_info[p] = [[np.mean(overall[p])], \\\n",
    "                          [np.std(overall[p])], \\\n",
    "                          [np.std(overall[p])]]\n",
    "\n",
    "\n",
    "\n",
    "width = 0.1\n",
    "fig, ax = plt.subplots()\n",
    "i = 0\n",
    "\n",
    "rects = ax.bar(width*i, graph_info[\"distribution_stable\"][0], width, yerr=[graph_info[\"distribution_stable\"][1], graph_info[\"distribution_stable\"][2]], label=\"quasiRandom\")\n",
    "i+=1\n",
    "\n",
    "\n",
    "for p in baseline:\n",
    "    rects = ax.bar(width*i, graph_info[p][0], width, yerr=[graph_info[p][1], graph_info[p][2]], label=p)\n",
    "    i+=1\n",
    "    \n",
    "for p in minSlip:\n",
    "    rects = ax.bar(width*i, graph_info[p][0], width, yerr=[graph_info[p][1], graph_info[p][2]], label=p)\n",
    "    i+=1\n",
    "\n",
    "for p in smash:\n",
    "    rects = ax.bar(width*i, graph_info[p][0], width, yerr=[graph_info[p][1], graph_info[p][2]], label=p)\n",
    "    i+=1\n",
    "\n",
    "for p in final:\n",
    "    rects = ax.bar(width*i, graph_info[p][0], width, yerr=[graph_info[p][1], graph_info[p][2]], label=p)\n",
    "    i+=1\n",
    "\n",
    "ax.set_ylabel('normalized log separation')\n",
    "ax.set_xticks([1])\n",
    "ax.set_xticklabels((\"4-body disk objects\"))\n",
    "ax.set_title('5-body group 1 (semi-disk) objects single point pushing')\n",
    "# plt.legend(bbox_to_anchor=(1.05, 1), loc=2, borderaxespad=0.)"
   ]
  },
  {
   "cell_type": "code",
   "execution_count": 56,
   "metadata": {},
   "outputs": [],
   "source": [
    "overall = {}\n",
    "\n",
    "for folder in os.listdir(\"new_proposed/5/2/\"):\n",
    "    overall[folder] = []\n",
    "    for filename in os.listdir(\"new_proposed/5/2/\"+folder):\n",
    "        try:\n",
    "            if len(filename.split(\".\"))!=2 or filename.split(\".\")[1]!=\"json\":\n",
    "                continue\n",
    "            with open(\"new_proposed/5/2/\"+folder+\"/\"+filename, 'r') as f:\n",
    "                dic = json.load(f)\n",
    "            overall[folder].append(dic['mean separation after push'] - dic['mean separation before push'])\n",
    "        except:\n",
    "            continue"
   ]
  },
  {
   "cell_type": "code",
   "execution_count": 57,
   "metadata": {},
   "outputs": [],
   "source": [
    "optimal = {}\n",
    "for filename in os.listdir(\"new_proposed/5/2/distribution_stable\"):\n",
    "    try:\n",
    "        if len(filename.split(\".\"))!=2 or filename.split(\".\")[1]!=\"json\":\n",
    "            continue\n",
    "        with open(\"new_proposed/5/2/distribution_stable/\"+filename, 'r') as f:\n",
    "            dic = json.load(f)\n",
    "        key = filename.split(\"_\")[0]\n",
    "        if not key in optimal.keys():\n",
    "            optimal[key] = [dic['mean separation after push'] - dic['mean separation before push'], filename]\n",
    "        elif optimal[key][0] < dic['mean separation after push'] - dic['mean separation before push']:\n",
    "            optimal[key] = [dic['mean separation after push'] - dic['mean separation before push'], filename]\n",
    "    except:\n",
    "        continue\n",
    "optimal_final = [optimal[key][0] for key in optimal.keys()]\n",
    "overall[\"bruteForce\"] = optimal_final"
   ]
  },
  {
   "cell_type": "code",
   "execution_count": 58,
   "metadata": {},
   "outputs": [
    {
     "data": {
      "text/plain": [
       "Text(0.5,1,'5-body group 2 (semi-slice) objects single point pushing')"
      ]
     },
     "execution_count": 58,
     "metadata": {},
     "output_type": "execute_result"
    },
    {
     "data": {
      "image/png": "[encoded data removed]",
      "text/plain": [
       "<Figure size 432x288 with 1 Axes>"
      ]
     },
     "metadata": {},
     "output_type": "display_data"
    }
   ],
   "source": [
    "policy_lst = list(overall.keys())\n",
    "\n",
    "graph_info = {}\n",
    "\n",
    "for p in policy_lst:\n",
    "    if p != \"distribution\":\n",
    "        graph_info[p] = [[np.mean(overall[p])], \\\n",
    "                          [np.std(overall[p])], \\\n",
    "                          [np.std(overall[p])]]\n",
    "\n",
    "\n",
    "\n",
    "width = 0.1\n",
    "fig, ax = plt.subplots()\n",
    "i = 0\n",
    "\n",
    "rects = ax.bar(width*i, graph_info[\"distribution_stable\"][0], width, yerr=[graph_info[\"distribution_stable\"][1], graph_info[\"distribution_stable\"][2]], label=\"quasiRandom\")\n",
    "i+=1\n",
    "\n",
    "\n",
    "for p in baseline:\n",
    "    rects = ax.bar(width*i, graph_info[p][0], width, yerr=[graph_info[p][1], graph_info[p][2]], label=p)\n",
    "    i+=1\n",
    "    \n",
    "for p in minSlip:\n",
    "    rects = ax.bar(width*i, graph_info[p][0], width, yerr=[graph_info[p][1], graph_info[p][2]], label=p)\n",
    "    i+=1\n",
    "\n",
    "for p in smash:\n",
    "    rects = ax.bar(width*i, graph_info[p][0], width, yerr=[graph_info[p][1], graph_info[p][2]], label=p)\n",
    "    i+=1\n",
    "\n",
    "for p in final:\n",
    "    rects = ax.bar(width*i, graph_info[p][0], width, yerr=[graph_info[p][1], graph_info[p][2]], label=p)\n",
    "    i+=1\n",
    "\n",
    "ax.set_ylabel('normalized log separation')\n",
    "ax.set_xticks([1])\n",
    "ax.set_xticklabels((\"4-body disk objects\"))\n",
    "ax.set_title('5-body group 2 (semi-slice) objects single point pushing')\n",
    "# plt.legend(bbox_to_anchor=(1.05, 1), loc=2, borderaxespad=0.)"
   ]
  },
  {
   "cell_type": "code",
   "execution_count": 59,
   "metadata": {},
   "outputs": [],
   "source": [
    "overall = {}\n",
    "\n",
    "for folder in os.listdir(\"new_proposed/5/3/\"):\n",
    "    overall[folder] = []\n",
    "    for filename in os.listdir(\"new_proposed/5/3/\"+folder):\n",
    "        try:\n",
    "            if len(filename.split(\".\"))!=2 or filename.split(\".\")[1]!=\"json\":\n",
    "                continue\n",
    "            with open(\"new_proposed/5/3/\"+folder+\"/\"+filename, 'r') as f:\n",
    "                dic = json.load(f)\n",
    "            overall[folder].append(dic['mean separation after push'] - dic['mean separation before push'])\n",
    "        except:\n",
    "            continue"
   ]
  },
  {
   "cell_type": "code",
   "execution_count": 60,
   "metadata": {},
   "outputs": [],
   "source": [
    "optimal = {}\n",
    "for filename in os.listdir(\"new_proposed/5/3/distribution_stable\"):\n",
    "    try:\n",
    "        if len(filename.split(\".\"))!=2 or filename.split(\".\")[1]!=\"json\":\n",
    "            continue\n",
    "        with open(\"new_proposed/5/3/distribution_stable/\"+filename, 'r') as f:\n",
    "            dic = json.load(f)\n",
    "        key = filename.split(\"_\")[0]\n",
    "        if not key in optimal.keys():\n",
    "            optimal[key] = [dic['mean separation after push'] - dic['mean separation before push'], filename]\n",
    "        elif optimal[key][0] < dic['mean separation after push'] - dic['mean separation before push']:\n",
    "            optimal[key] = [dic['mean separation after push'] - dic['mean separation before push'], filename]\n",
    "    except:\n",
    "        continue\n",
    "optimal_final = [optimal[key][0] for key in optimal.keys()]\n",
    "overall[\"bruteForce\"] = optimal_final"
   ]
  },
  {
   "cell_type": "code",
   "execution_count": 62,
   "metadata": {},
   "outputs": [
    {
     "data": {
      "text/plain": [
       "Text(0.5,1,'5-body group 3 (slice) objects single point pushing')"
      ]
     },
     "execution_count": 62,
     "metadata": {},
     "output_type": "execute_result"
    },
    {
     "data": {
      "image/png": "[encoded data removed]",
      "text/plain": [
       "<Figure size 432x288 with 1 Axes>"
      ]
     },
     "metadata": {},
     "output_type": "display_data"
    }
   ],
   "source": [
    "policy_lst = list(overall.keys())\n",
    "\n",
    "graph_info = {}\n",
    "\n",
    "for p in policy_lst:\n",
    "    if p != \"distribution\":\n",
    "        graph_info[p] = [[np.mean(overall[p])], \\\n",
    "                          [np.std(overall[p])], \\\n",
    "                          [np.std(overall[p])]]\n",
    "\n",
    "\n",
    "\n",
    "width = 0.1\n",
    "fig, ax = plt.subplots()\n",
    "i = 0\n",
    "\n",
    "rects = ax.bar(width*i, graph_info[\"distribution_stable\"][0], width, yerr=[graph_info[\"distribution_stable\"][1], graph_info[\"distribution_stable\"][2]], label=\"quasiRandom\")\n",
    "i+=1\n",
    "\n",
    "\n",
    "for p in baseline:\n",
    "    rects = ax.bar(width*i, graph_info[p][0], width, yerr=[graph_info[p][1], graph_info[p][2]], label=p)\n",
    "    i+=1\n",
    "    \n",
    "for p in minSlip:\n",
    "    rects = ax.bar(width*i, graph_info[p][0], width, yerr=[graph_info[p][1], graph_info[p][2]], label=p)\n",
    "    i+=1\n",
    "\n",
    "for p in smash:\n",
    "    rects = ax.bar(width*i, graph_info[p][0], width, yerr=[graph_info[p][1], graph_info[p][2]], label=p)\n",
    "    i+=1\n",
    "\n",
    "for p in final:\n",
    "    rects = ax.bar(width*i, graph_info[p][0], width, yerr=[graph_info[p][1], graph_info[p][2]], label=p)\n",
    "    i+=1\n",
    "\n",
    "ax.set_ylabel('normalized log separation')\n",
    "ax.set_xticks([1])\n",
    "ax.set_xticklabels((\"4-body disk objects\"))\n",
    "ax.set_title('5-body group 3 (slice) objects single point pushing')\n",
    "# plt.legend(bbox_to_anchor=(1.05, 1), loc=2, borderaxespad=0.)"
   ]
  },
  {
   "cell_type": "code",
   "execution_count": 63,
   "metadata": {},
   "outputs": [],
   "source": [
    "overall = {}\n",
    "\n",
    "for folder in os.listdir(\"new_proposed/6/0/\"):\n",
    "    overall[folder] = []\n",
    "    for filename in os.listdir(\"new_proposed/6/0/\"+folder):\n",
    "        try:\n",
    "            if len(filename.split(\".\"))!=2 or filename.split(\".\")[1]!=\"json\":\n",
    "                continue\n",
    "            with open(\"new_proposed/6/0/\"+folder+\"/\"+filename, 'r') as f:\n",
    "                dic = json.load(f)\n",
    "            overall[folder].append(dic['mean separation after push'] - dic['mean separation before push'])\n",
    "        except:\n",
    "            continue"
   ]
  },
  {
   "cell_type": "code",
   "execution_count": 64,
   "metadata": {},
   "outputs": [],
   "source": [
    "optimal = {}\n",
    "for filename in os.listdir(\"new_proposed/6/0/distribution_stable\"):\n",
    "    try:\n",
    "        if len(filename.split(\".\"))!=2 or filename.split(\".\")[1]!=\"json\":\n",
    "            continue\n",
    "        with open(\"new_proposed/6/0/distribution_stable/\"+filename, 'r') as f:\n",
    "            dic = json.load(f)\n",
    "        key = filename.split(\"_\")[0]\n",
    "        if not key in optimal.keys():\n",
    "            optimal[key] = [dic['mean separation after push'] - dic['mean separation before push'], filename]\n",
    "        elif optimal[key][0] < dic['mean separation after push'] - dic['mean separation before push']:\n",
    "            optimal[key] = [dic['mean separation after push'] - dic['mean separation before push'], filename]\n",
    "    except:\n",
    "        continue\n",
    "optimal_final = [optimal[key][0] for key in optimal.keys()]\n",
    "overall[\"bruteForce\"] = optimal_final"
   ]
  },
  {
   "cell_type": "code",
   "execution_count": 65,
   "metadata": {},
   "outputs": [
    {
     "data": {
      "text/plain": [
       "Text(0.5,1,'6-body group 0 (disk) objects single point pushing')"
      ]
     },
     "execution_count": 65,
     "metadata": {},
     "output_type": "execute_result"
    },
    {
     "data": {
      "image/png": "[encoded data removed]",
      "text/plain": [
       "<Figure size 432x288 with 1 Axes>"
      ]
     },
     "metadata": {},
     "output_type": "display_data"
    }
   ],
   "source": [
    "policy_lst = list(overall.keys())\n",
    "\n",
    "graph_info = {}\n",
    "\n",
    "for p in policy_lst:\n",
    "    if p != \"distribution\":\n",
    "        graph_info[p] = [[np.mean(overall[p])], \\\n",
    "                          [np.std(overall[p])], \\\n",
    "                          [np.std(overall[p])]]\n",
    "\n",
    "\n",
    "\n",
    "width = 0.1\n",
    "fig, ax = plt.subplots()\n",
    "i = 0\n",
    "\n",
    "rects = ax.bar(width*i, graph_info[\"distribution_stable\"][0], width, yerr=[graph_info[\"distribution_stable\"][1], graph_info[\"distribution_stable\"][2]], label=\"quasiRandom\")\n",
    "i+=1\n",
    "\n",
    "\n",
    "for p in baseline:\n",
    "    rects = ax.bar(width*i, graph_info[p][0], width, yerr=[graph_info[p][1], graph_info[p][2]], label=p)\n",
    "    i+=1\n",
    "    \n",
    "for p in minSlip:\n",
    "    rects = ax.bar(width*i, graph_info[p][0], width, yerr=[graph_info[p][1], graph_info[p][2]], label=p)\n",
    "    i+=1\n",
    "\n",
    "for p in smash:\n",
    "    rects = ax.bar(width*i, graph_info[p][0], width, yerr=[graph_info[p][1], graph_info[p][2]], label=p)\n",
    "    i+=1\n",
    "\n",
    "for p in final:\n",
    "    rects = ax.bar(width*i, graph_info[p][0], width, yerr=[graph_info[p][1], graph_info[p][2]], label=p)\n",
    "    i+=1\n",
    "\n",
    "ax.set_ylabel('normalized log separation')\n",
    "ax.set_xticks([1])\n",
    "ax.set_xticklabels((\"4-body disk objects\"))\n",
    "ax.set_title('6-body group 0 (disk) objects single point pushing')\n",
    "# plt.legend(bbox_to_anchor=(1.05, 1), loc=2, borderaxespad=0.)"
   ]
  },
  {
   "cell_type": "code",
   "execution_count": 66,
   "metadata": {},
   "outputs": [],
   "source": [
    "overall = {}\n",
    "\n",
    "for folder in os.listdir(\"new_proposed/6/1/\"):\n",
    "    overall[folder] = []\n",
    "    for filename in os.listdir(\"new_proposed/6/1/\"+folder):\n",
    "        try:\n",
    "            if len(filename.split(\".\"))!=2 or filename.split(\".\")[1]!=\"json\":\n",
    "                continue\n",
    "            with open(\"new_proposed/6/1/\"+folder+\"/\"+filename, 'r') as f:\n",
    "                dic = json.load(f)\n",
    "            overall[folder].append(dic['mean separation after push'] - dic['mean separation before push'])\n",
    "        except:\n",
    "            continue"
   ]
  },
  {
   "cell_type": "code",
   "execution_count": 67,
   "metadata": {},
   "outputs": [],
   "source": [
    "optimal = {}\n",
    "for filename in os.listdir(\"new_proposed/6/1/distribution_stable\"):\n",
    "    try:\n",
    "        if len(filename.split(\".\"))!=2 or filename.split(\".\")[1]!=\"json\":\n",
    "            continue\n",
    "        with open(\"new_proposed/6/1/distribution_stable/\"+filename, 'r') as f:\n",
    "            dic = json.load(f)\n",
    "        key = filename.split(\"_\")[0]\n",
    "        if not key in optimal.keys():\n",
    "            optimal[key] = [dic['mean separation after push'] - dic['mean separation before push'], filename]\n",
    "        elif optimal[key][0] < dic['mean separation after push'] - dic['mean separation before push']:\n",
    "            optimal[key] = [dic['mean separation after push'] - dic['mean separation before push'], filename]\n",
    "    except:\n",
    "        continue\n",
    "optimal_final = [optimal[key][0] for key in optimal.keys()]\n",
    "overall[\"bruteForce\"] = optimal_final"
   ]
  },
  {
   "cell_type": "code",
   "execution_count": 68,
   "metadata": {},
   "outputs": [
    {
     "data": {
      "text/plain": [
       "Text(0.5,1,'6-body group 1 (semi-disk) objects single point pushing')"
      ]
     },
     "execution_count": 68,
     "metadata": {},
     "output_type": "execute_result"
    },
    {
     "data": {
      "image/png": "[encoded data removed]",
      "text/plain": [
       "<Figure size 432x288 with 1 Axes>"
      ]
     },
     "metadata": {},
     "output_type": "display_data"
    }
   ],
   "source": [
    "policy_lst = list(overall.keys())\n",
    "\n",
    "graph_info = {}\n",
    "\n",
    "for p in policy_lst:\n",
    "    if p != \"distribution\":\n",
    "        graph_info[p] = [[np.mean(overall[p])], \\\n",
    "                          [np.std(overall[p])], \\\n",
    "                          [np.std(overall[p])]]\n",
    "\n",
    "\n",
    "\n",
    "width = 0.1\n",
    "fig, ax = plt.subplots()\n",
    "i = 0\n",
    "\n",
    "rects = ax.bar(width*i, graph_info[\"distribution_stable\"][0], width, yerr=[graph_info[\"distribution_stable\"][1], graph_info[\"distribution_stable\"][2]], label=\"quasiRandom\")\n",
    "i+=1\n",
    "\n",
    "\n",
    "for p in baseline:\n",
    "    rects = ax.bar(width*i, graph_info[p][0], width, yerr=[graph_info[p][1], graph_info[p][2]], label=p)\n",
    "    i+=1\n",
    "    \n",
    "for p in minSlip:\n",
    "    rects = ax.bar(width*i, graph_info[p][0], width, yerr=[graph_info[p][1], graph_info[p][2]], label=p)\n",
    "    i+=1\n",
    "\n",
    "for p in smash:\n",
    "    rects = ax.bar(width*i, graph_info[p][0], width, yerr=[graph_info[p][1], graph_info[p][2]], label=p)\n",
    "    i+=1\n",
    "\n",
    "for p in final:\n",
    "    rects = ax.bar(width*i, graph_info[p][0], width, yerr=[graph_info[p][1], graph_info[p][2]], label=p)\n",
    "    i+=1\n",
    "\n",
    "ax.set_ylabel('normalized log separation')\n",
    "ax.set_xticks([1])\n",
    "ax.set_xticklabels((\"4-body disk objects\"))\n",
    "ax.set_title('6-body group 1 (semi-disk) objects single point pushing')\n",
    "# plt.legend(bbox_to_anchor=(1.05, 1), loc=2, borderaxespad=0.)"
   ]
  },
  {
   "cell_type": "code",
   "execution_count": 69,
   "metadata": {},
   "outputs": [],
   "source": [
    "overall = {}\n",
    "\n",
    "for folder in os.listdir(\"new_proposed/6/2/\"):\n",
    "    overall[folder] = []\n",
    "    for filename in os.listdir(\"new_proposed/6/2/\"+folder):\n",
    "        try:\n",
    "            if len(filename.split(\".\"))!=2 or filename.split(\".\")[1]!=\"json\":\n",
    "                continue\n",
    "            with open(\"new_proposed/6/2/\"+folder+\"/\"+filename, 'r') as f:\n",
    "                dic = json.load(f)\n",
    "            overall[folder].append(dic['mean separation after push'] - dic['mean separation before push'])\n",
    "        except:\n",
    "            continue"
   ]
  },
  {
   "cell_type": "code",
   "execution_count": 72,
   "metadata": {},
   "outputs": [],
   "source": [
    "optimal = {}\n",
    "for filename in os.listdir(\"new_proposed/6/2/distribution_stable\"):\n",
    "    try:\n",
    "        if len(filename.split(\".\"))!=2 or filename.split(\".\")[1]!=\"json\":\n",
    "            continue\n",
    "        with open(\"new_proposed/6/2/distribution_stable/\"+filename, 'r') as f:\n",
    "            dic = json.load(f)\n",
    "        key = filename.split(\"_\")[0]\n",
    "        if not key in optimal.keys():\n",
    "            optimal[key] = [dic['mean separation after push'] - dic['mean separation before push'], filename]\n",
    "        elif optimal[key][0] < dic['mean separation after push'] - dic['mean separation before push']:\n",
    "            optimal[key] = [dic['mean separation after push'] - dic['mean separation before push'], filename]\n",
    "    except:\n",
    "        continue\n",
    "optimal_final = [optimal[key][0] for key in optimal.keys()]\n",
    "overall[\"bruteForce\"] = optimal_final"
   ]
  },
  {
   "cell_type": "code",
   "execution_count": 73,
   "metadata": {},
   "outputs": [
    {
     "data": {
      "text/plain": [
       "Text(0.5,1,'6-body group 2 (semi-slice) objects single point pushing')"
      ]
     },
     "execution_count": 73,
     "metadata": {},
     "output_type": "execute_result"
    },
    {
     "data": {
      "image/png": "[encoded data removed]",
      "text/plain": [
       "<Figure size 432x288 with 1 Axes>"
      ]
     },
     "metadata": {},
     "output_type": "display_data"
    }
   ],
   "source": [
    "policy_lst = list(overall.keys())\n",
    "\n",
    "graph_info = {}\n",
    "\n",
    "for p in policy_lst:\n",
    "    if p != \"distribution\":\n",
    "        graph_info[p] = [[np.mean(overall[p])], \\\n",
    "                          [np.std(overall[p])], \\\n",
    "                          [np.std(overall[p])]]\n",
    "\n",
    "\n",
    "\n",
    "width = 0.1\n",
    "fig, ax = plt.subplots()\n",
    "i = 0\n",
    "\n",
    "rects = ax.bar(width*i, graph_info[\"distribution_stable\"][0], width, yerr=[graph_info[\"distribution_stable\"][1], graph_info[\"distribution_stable\"][2]], label=\"quasiRandom\")\n",
    "i+=1\n",
    "\n",
    "\n",
    "for p in baseline:\n",
    "    rects = ax.bar(width*i, graph_info[p][0], width, yerr=[graph_info[p][1], graph_info[p][2]], label=p)\n",
    "    i+=1\n",
    "    \n",
    "for p in minSlip:\n",
    "    rects = ax.bar(width*i, graph_info[p][0], width, yerr=[graph_info[p][1], graph_info[p][2]], label=p)\n",
    "    i+=1\n",
    "\n",
    "for p in smash:\n",
    "    rects = ax.bar(width*i, graph_info[p][0], width, yerr=[graph_info[p][1], graph_info[p][2]], label=p)\n",
    "    i+=1\n",
    "\n",
    "for p in final:\n",
    "    rects = ax.bar(width*i, graph_info[p][0], width, yerr=[graph_info[p][1], graph_info[p][2]], label=p)\n",
    "    i+=1\n",
    "\n",
    "ax.set_ylabel('normalized log separation')\n",
    "ax.set_xticks([1])\n",
    "ax.set_xticklabels((\"4-body disk objects\"))\n",
    "ax.set_title('6-body group 2 (semi-slice) objects single point pushing')\n",
    "# plt.legend(bbox_to_anchor=(1.05, 1), loc=2, borderaxespad=0.)"
   ]
  },
  {
   "cell_type": "code",
   "execution_count": 74,
   "metadata": {},
   "outputs": [],
   "source": [
    "overall = {}\n",
    "\n",
    "for folder in os.listdir(\"new_proposed/6/3/\"):\n",
    "    overall[folder] = []\n",
    "    for filename in os.listdir(\"new_proposed/6/3/\"+folder):\n",
    "        try:\n",
    "            if len(filename.split(\".\"))!=2 or filename.split(\".\")[1]!=\"json\":\n",
    "                continue\n",
    "            with open(\"new_proposed/6/3/\"+folder+\"/\"+filename, 'r') as f:\n",
    "                dic = json.load(f)\n",
    "            overall[folder].append(dic['mean separation after push'] - dic['mean separation before push'])\n",
    "        except:\n",
    "            continue"
   ]
  },
  {
   "cell_type": "code",
   "execution_count": 75,
   "metadata": {},
   "outputs": [],
   "source": [
    "optimal = {}\n",
    "for filename in os.listdir(\"new_proposed/6/3/distribution_stable\"):\n",
    "    try:\n",
    "        if len(filename.split(\".\"))!=2 or filename.split(\".\")[1]!=\"json\":\n",
    "            continue\n",
    "        with open(\"new_proposed/6/3/distribution_stable/\"+filename, 'r') as f:\n",
    "            dic = json.load(f)\n",
    "        key = filename.split(\"_\")[0]\n",
    "        if not key in optimal.keys():\n",
    "            optimal[key] = [dic['mean separation after push'] - dic['mean separation before push'], filename]\n",
    "        elif optimal[key][0] < dic['mean separation after push'] - dic['mean separation before push']:\n",
    "            optimal[key] = [dic['mean separation after push'] - dic['mean separation before push'], filename]\n",
    "    except:\n",
    "        continue\n",
    "optimal_final = [optimal[key][0] for key in optimal.keys()]\n",
    "overall[\"bruteForce\"] = optimal_final"
   ]
  },
  {
   "cell_type": "code",
   "execution_count": 77,
   "metadata": {},
   "outputs": [
    {
     "data": {
      "text/plain": [
       "Text(0.5,1,'6-body group 3 (slice) objects single point pushing')"
      ]
     },
     "execution_count": 77,
     "metadata": {},
     "output_type": "execute_result"
    },
    {
     "data": {
      "image/png": "[encoded data removed]",
      "text/plain": [
       "<Figure size 432x288 with 1 Axes>"
      ]
     },
     "metadata": {},
     "output_type": "display_data"
    }
   ],
   "source": [
    "policy_lst = list(overall.keys())\n",
    "\n",
    "graph_info = {}\n",
    "\n",
    "for p in policy_lst:\n",
    "    if p != \"distribution\":\n",
    "        graph_info[p] = [[np.mean(overall[p])], \\\n",
    "                          [np.std(overall[p])], \\\n",
    "                          [np.std(overall[p])]]\n",
    "\n",
    "\n",
    "\n",
    "width = 0.1\n",
    "fig, ax = plt.subplots()\n",
    "i = 0\n",
    "\n",
    "rects = ax.bar(width*i, graph_info[\"distribution_stable\"][0], width, yerr=[graph_info[\"distribution_stable\"][1], graph_info[\"distribution_stable\"][2]], label=\"quasiRandom\")\n",
    "i+=1\n",
    "\n",
    "\n",
    "for p in baseline:\n",
    "    rects = ax.bar(width*i, graph_info[p][0], width, yerr=[min(graph_info[p][1], graph_info[p][0]), graph_info[p][2]], label=p)\n",
    "    i+=1\n",
    "    \n",
    "for p in minSlip:\n",
    "    rects = ax.bar(width*i, graph_info[p][0], width, yerr=[graph_info[p][1], graph_info[p][2]], label=p)\n",
    "    i+=1\n",
    "\n",
    "for p in smash:\n",
    "    rects = ax.bar(width*i, graph_info[p][0], width, yerr=[graph_info[p][1], graph_info[p][2]], label=p)\n",
    "    i+=1\n",
    "\n",
    "for p in final:\n",
    "    rects = ax.bar(width*i, graph_info[p][0], width, yerr=[graph_info[p][1], graph_info[p][2]], label=p)\n",
    "    i+=1\n",
    "\n",
    "ax.set_ylabel('normalized log separation')\n",
    "ax.set_xticks([1])\n",
    "ax.set_xticklabels((\"4-body disk objects\"))\n",
    "ax.set_title('6-body group 3 (slice) objects single point pushing')\n",
    "# plt.legend(bbox_to_anchor=(1.05, 1), loc=2, borderaxespad=0.)"
   ]
  },
  {
   "cell_type": "code",
   "execution_count": 78,
   "metadata": {},
   "outputs": [],
   "source": [
    "overall = {}\n",
    "\n",
    "for folder in os.listdir(\"new_proposed/7/0/\"):\n",
    "    overall[folder] = []\n",
    "    for filename in os.listdir(\"new_proposed/7/0/\"+folder):\n",
    "        try:\n",
    "            if len(filename.split(\".\"))!=2 or filename.split(\".\")[1]!=\"json\":\n",
    "                continue\n",
    "            with open(\"new_proposed/7/0/\"+folder+\"/\"+filename, 'r') as f:\n",
    "                dic = json.load(f)\n",
    "            overall[folder].append(dic['mean separation after push'] - dic['mean separation before push'])\n",
    "        except:\n",
    "            continue"
   ]
  },
  {
   "cell_type": "code",
   "execution_count": 79,
   "metadata": {},
   "outputs": [],
   "source": [
    "optimal = {}\n",
    "for filename in os.listdir(\"new_proposed/7/0/distribution_stable\"):\n",
    "    try:\n",
    "        if len(filename.split(\".\"))!=2 or filename.split(\".\")[1]!=\"json\":\n",
    "            continue\n",
    "        with open(\"new_proposed/7/0/distribution_stable/\"+filename, 'r') as f:\n",
    "            dic = json.load(f)\n",
    "        key = filename.split(\"_\")[0]\n",
    "        if not key in optimal.keys():\n",
    "            optimal[key] = [dic['mean separation after push'] - dic['mean separation before push'], filename]\n",
    "        elif optimal[key][0] < dic['mean separation after push'] - dic['mean separation before push']:\n",
    "            optimal[key] = [dic['mean separation after push'] - dic['mean separation before push'], filename]\n",
    "    except:\n",
    "        continue\n",
    "optimal_final = [optimal[key][0] for key in optimal.keys()]\n",
    "overall[\"bruteForce\"] = optimal_final"
   ]
  },
  {
   "cell_type": "code",
   "execution_count": 82,
   "metadata": {},
   "outputs": [
    {
     "data": {
      "text/plain": [
       "Text(0.5,1,'7-body group 0 (disk) objects single point pushing')"
      ]
     },
     "execution_count": 82,
     "metadata": {},
     "output_type": "execute_result"
    },
    {
     "data": {
      "image/png": "[encoded data removed]",
      "text/plain": [
       "<Figure size 432x288 with 1 Axes>"
      ]
     },
     "metadata": {},
     "output_type": "display_data"
    }
   ],
   "source": [
    "policy_lst = list(overall.keys())\n",
    "\n",
    "graph_info = {}\n",
    "\n",
    "for p in policy_lst:\n",
    "    if p != \"distribution\":\n",
    "        graph_info[p] = [[np.mean(overall[p])], \\\n",
    "                          [np.std(overall[p])], \\\n",
    "                          [np.std(overall[p])]]\n",
    "\n",
    "\n",
    "\n",
    "width = 0.1\n",
    "fig, ax = plt.subplots()\n",
    "i = 0\n",
    "\n",
    "rects = ax.bar(width*i, graph_info[\"distribution_stable\"][0], width, yerr=[graph_info[\"distribution_stable\"][1], graph_info[\"distribution_stable\"][2]], label=\"quasiRandom\")\n",
    "i+=1\n",
    "\n",
    "\n",
    "for p in baseline:\n",
    "    rects = ax.bar(width*i, graph_info[p][0], width, yerr=[graph_info[p][1], graph_info[p][2]], label=p)\n",
    "    i+=1\n",
    "    \n",
    "for p in minSlip:\n",
    "    rects = ax.bar(width*i, graph_info[p][0], width, yerr=[graph_info[p][1], graph_info[p][2]], label=p)\n",
    "    i+=1\n",
    "\n",
    "for p in smash:\n",
    "    rects = ax.bar(width*i, graph_info[p][0], width, yerr=[graph_info[p][1], graph_info[p][2]], label=p)\n",
    "    i+=1\n",
    "\n",
    "for p in final:\n",
    "    rects = ax.bar(width*i, graph_info[p][0], width, yerr=[graph_info[p][1], graph_info[p][2]], label=p)\n",
    "    i+=1\n",
    "\n",
    "ax.set_ylabel('normalized log separation')\n",
    "ax.set_xticks([1])\n",
    "ax.set_xticklabels((\"4-body disk objects\"))\n",
    "ax.set_title('7-body group 0 (disk) objects single point pushing')\n",
    "# plt.legend(bbox_to_anchor=(1.05, 1), loc=2, borderaxespad=0.)"
   ]
  },
  {
   "cell_type": "code",
   "execution_count": 83,
   "metadata": {},
   "outputs": [],
   "source": [
    "overall = {}\n",
    "\n",
    "for folder in os.listdir(\"new_proposed/7/1/\"):\n",
    "    overall[folder] = []\n",
    "    for filename in os.listdir(\"new_proposed/7/1/\"+folder):\n",
    "        try:\n",
    "            if len(filename.split(\".\"))!=2 or filename.split(\".\")[1]!=\"json\":\n",
    "                continue\n",
    "            with open(\"new_proposed/7/1/\"+folder+\"/\"+filename, 'r') as f:\n",
    "                dic = json.load(f)\n",
    "            overall[folder].append(dic['mean separation after push'] - dic['mean separation before push'])\n",
    "        except:\n",
    "            continue"
   ]
  },
  {
   "cell_type": "code",
   "execution_count": 84,
   "metadata": {},
   "outputs": [],
   "source": [
    "optimal = {}\n",
    "for filename in os.listdir(\"new_proposed/7/1/distribution_stable\"):\n",
    "    try:\n",
    "        if len(filename.split(\".\"))!=2 or filename.split(\".\")[1]!=\"json\":\n",
    "            continue\n",
    "        with open(\"new_proposed/7/1/distribution_stable/\"+filename, 'r') as f:\n",
    "            dic = json.load(f)\n",
    "        key = filename.split(\"_\")[0]\n",
    "        if not key in optimal.keys():\n",
    "            optimal[key] = [dic['mean separation after push'] - dic['mean separation before push'], filename]\n",
    "        elif optimal[key][0] < dic['mean separation after push'] - dic['mean separation before push']:\n",
    "            optimal[key] = [dic['mean separation after push'] - dic['mean separation before push'], filename]\n",
    "    except:\n",
    "        continue\n",
    "optimal_final = [optimal[key][0] for key in optimal.keys()]\n",
    "overall[\"bruteForce\"] = optimal_final"
   ]
  },
  {
   "cell_type": "code",
   "execution_count": 85,
   "metadata": {},
   "outputs": [
    {
     "data": {
      "text/plain": [
       "Text(0.5,1,'7-body group 1 (semi-disk) objects single point pushing')"
      ]
     },
     "execution_count": 85,
     "metadata": {},
     "output_type": "execute_result"
    },
    {
     "data": {
      "image/png": "[encoded data removed]",
      "text/plain": [
       "<Figure size 432x288 with 1 Axes>"
      ]
     },
     "metadata": {},
     "output_type": "display_data"
    }
   ],
   "source": [
    "policy_lst = list(overall.keys())\n",
    "\n",
    "graph_info = {}\n",
    "\n",
    "for p in policy_lst:\n",
    "    if p != \"distribution\":\n",
    "        graph_info[p] = [[np.mean(overall[p])], \\\n",
    "                          [np.std(overall[p])], \\\n",
    "                          [np.std(overall[p])]]\n",
    "\n",
    "\n",
    "\n",
    "width = 0.1\n",
    "fig, ax = plt.subplots()\n",
    "i = 0\n",
    "\n",
    "rects = ax.bar(width*i, graph_info[\"distribution_stable\"][0], width, yerr=[graph_info[\"distribution_stable\"][1], graph_info[\"distribution_stable\"][2]], label=\"quasiRandom\")\n",
    "i+=1\n",
    "\n",
    "\n",
    "for p in baseline:\n",
    "    rects = ax.bar(width*i, graph_info[p][0], width, yerr=[graph_info[p][1], graph_info[p][2]], label=p)\n",
    "    i+=1\n",
    "    \n",
    "for p in minSlip:\n",
    "    rects = ax.bar(width*i, graph_info[p][0], width, yerr=[graph_info[p][1], graph_info[p][2]], label=p)\n",
    "    i+=1\n",
    "\n",
    "for p in smash:\n",
    "    rects = ax.bar(width*i, graph_info[p][0], width, yerr=[graph_info[p][1], graph_info[p][2]], label=p)\n",
    "    i+=1\n",
    "\n",
    "for p in final:\n",
    "    rects = ax.bar(width*i, graph_info[p][0], width, yerr=[graph_info[p][1], graph_info[p][2]], label=p)\n",
    "    i+=1\n",
    "\n",
    "ax.set_ylabel('normalized log separation')\n",
    "ax.set_xticks([1])\n",
    "ax.set_xticklabels((\"4-body disk objects\"))\n",
    "ax.set_title('7-body group 1 (semi-disk) objects single point pushing')\n",
    "# plt.legend(bbox_to_anchor=(1.05, 1), loc=2, borderaxespad=0.)"
   ]
  },
  {
   "cell_type": "code",
   "execution_count": 86,
   "metadata": {},
   "outputs": [],
   "source": [
    "overall = {}\n",
    "\n",
    "for folder in os.listdir(\"new_proposed/7/2/\"):\n",
    "    overall[folder] = []\n",
    "    for filename in os.listdir(\"new_proposed/7/2/\"+folder):\n",
    "        try:\n",
    "            if len(filename.split(\".\"))!=2 or filename.split(\".\")[1]!=\"json\":\n",
    "                continue\n",
    "            with open(\"new_proposed/7/2/\"+folder+\"/\"+filename, 'r') as f:\n",
    "                dic = json.load(f)\n",
    "            overall[folder].append(dic['mean separation after push'] - dic['mean separation before push'])\n",
    "        except:\n",
    "            continue"
   ]
  },
  {
   "cell_type": "code",
   "execution_count": 87,
   "metadata": {},
   "outputs": [],
   "source": [
    "optimal = {}\n",
    "for filename in os.listdir(\"new_proposed/7/2/distribution_stable\"):\n",
    "    try:\n",
    "        if len(filename.split(\".\"))!=2 or filename.split(\".\")[1]!=\"json\":\n",
    "            continue\n",
    "        with open(\"new_proposed/7/2/distribution_stable/\"+filename, 'r') as f:\n",
    "            dic = json.load(f)\n",
    "        key = filename.split(\"_\")[0]\n",
    "        if not key in optimal.keys():\n",
    "            optimal[key] = [dic['mean separation after push'] - dic['mean separation before push'], filename]\n",
    "        elif optimal[key][0] < dic['mean separation after push'] - dic['mean separation before push']:\n",
    "            optimal[key] = [dic['mean separation after push'] - dic['mean separation before push'], filename]\n",
    "    except:\n",
    "        continue\n",
    "optimal_final = [optimal[key][0] for key in optimal.keys()]\n",
    "overall[\"bruteForce\"] = optimal_final"
   ]
  },
  {
   "cell_type": "code",
   "execution_count": 89,
   "metadata": {},
   "outputs": [
    {
     "data": {
      "text/plain": [
       "Text(0.5,1,'7-body group 2 (semi-slice) objects single point pushing')"
      ]
     },
     "execution_count": 89,
     "metadata": {},
     "output_type": "execute_result"
    },
    {
     "data": {
      "image/png": "[encoded data removed]",
      "text/plain": [
       "<Figure size 432x288 with 1 Axes>"
      ]
     },
     "metadata": {},
     "output_type": "display_data"
    }
   ],
   "source": [
    "policy_lst = list(overall.keys())\n",
    "\n",
    "graph_info = {}\n",
    "\n",
    "for p in policy_lst:\n",
    "    if p != \"distribution\":\n",
    "        graph_info[p] = [[np.mean(overall[p])], \\\n",
    "                          [np.std(overall[p])], \\\n",
    "                          [np.std(overall[p])]]\n",
    "\n",
    "\n",
    "\n",
    "width = 0.1\n",
    "fig, ax = plt.subplots()\n",
    "i = 0\n",
    "\n",
    "rects = ax.bar(width*i, graph_info[\"distribution_stable\"][0], width, yerr=[graph_info[\"distribution_stable\"][1], graph_info[\"distribution_stable\"][2]], label=\"quasiRandom\")\n",
    "i+=1\n",
    "\n",
    "\n",
    "for p in baseline:\n",
    "    rects = ax.bar(width*i, graph_info[p][0], width, yerr=[graph_info[p][1], graph_info[p][2]], label=p)\n",
    "    i+=1\n",
    "    \n",
    "for p in minSlip:\n",
    "    rects = ax.bar(width*i, graph_info[p][0], width, yerr=[graph_info[p][1], graph_info[p][2]], label=p)\n",
    "    i+=1\n",
    "\n",
    "for p in smash:\n",
    "    rects = ax.bar(width*i, graph_info[p][0], width, yerr=[graph_info[p][1], graph_info[p][2]], label=p)\n",
    "    i+=1\n",
    "\n",
    "for p in final:\n",
    "    rects = ax.bar(width*i, graph_info[p][0], width, yerr=[graph_info[p][1], graph_info[p][2]], label=p)\n",
    "    i+=1\n",
    "\n",
    "ax.set_ylabel('normalized log separation')\n",
    "ax.set_xticks([1])\n",
    "ax.set_xticklabels((\"4-body disk objects\"))\n",
    "ax.set_title('7-body group 2 (semi-slice) objects single point pushing')\n",
    "# plt.legend(bbox_to_anchor=(1.05, 1), loc=2, borderaxespad=0.)"
   ]
  },
  {
   "cell_type": "code",
   "execution_count": 90,
   "metadata": {},
   "outputs": [],
   "source": [
    "overall = {}\n",
    "\n",
    "for folder in os.listdir(\"new_proposed/7/3/\"):\n",
    "    overall[folder] = []\n",
    "    for filename in os.listdir(\"new_proposed/7/3/\"+folder):\n",
    "        try:\n",
    "            if len(filename.split(\".\"))!=2 or filename.split(\".\")[1]!=\"json\":\n",
    "                continue\n",
    "            with open(\"new_proposed/7/3/\"+folder+\"/\"+filename, 'r') as f:\n",
    "                dic = json.load(f)\n",
    "            overall[folder].append(dic['mean separation after push'] - dic['mean separation before push'])\n",
    "        except:\n",
    "            continue"
   ]
  },
  {
   "cell_type": "code",
   "execution_count": 91,
   "metadata": {},
   "outputs": [],
   "source": [
    "optimal = {}\n",
    "for filename in os.listdir(\"new_proposed/7/3/distribution_stable\"):\n",
    "    try:\n",
    "        if len(filename.split(\".\"))!=2 or filename.split(\".\")[1]!=\"json\":\n",
    "            continue\n",
    "        with open(\"new_proposed/7/3/distribution_stable/\"+filename, 'r') as f:\n",
    "            dic = json.load(f)\n",
    "        key = filename.split(\"_\")[0]\n",
    "        if not key in optimal.keys():\n",
    "            optimal[key] = [dic['mean separation after push'] - dic['mean separation before push'], filename]\n",
    "        elif optimal[key][0] < dic['mean separation after push'] - dic['mean separation before push']:\n",
    "            optimal[key] = [dic['mean separation after push'] - dic['mean separation before push'], filename]\n",
    "    except:\n",
    "        continue\n",
    "optimal_final = [optimal[key][0] for key in optimal.keys()]\n",
    "overall[\"bruteForce\"] = optimal_final"
   ]
  },
  {
   "cell_type": "code",
   "execution_count": 100,
   "metadata": {},
   "outputs": [
    {
     "data": {
      "text/plain": [
       "<matplotlib.legend.Legend at 0x121d59438>"
      ]
     },
     "execution_count": 100,
     "metadata": {},
     "output_type": "execute_result"
    },
    {
     "data": {
      "image/png": "[encoded data removed]",
      "text/plain": [
       "<Figure size 432x288 with 1 Axes>"
      ]
     },
     "metadata": {},
     "output_type": "display_data"
    }
   ],
   "source": [
    "policy_lst = list(overall.keys())\n",
    "\n",
    "graph_info = {}\n",
    "\n",
    "for p in policy_lst:\n",
    "    if p != \"distribution\":\n",
    "        graph_info[p] = [[np.mean(overall[p])], \\\n",
    "                          [np.std(overall[p])], \\\n",
    "                          [np.std(overall[p])]]\n",
    "\n",
    "\n",
    "\n",
    "width = 0.1\n",
    "fig, ax = plt.subplots()\n",
    "i = 0\n",
    "\n",
    "rects = ax.bar(width*i, graph_info[\"distribution_stable\"][0], width, yerr=[min(graph_info[\"distribution_stable\"][1], graph_info[\"distribution_stable\"][0]), graph_info[\"distribution_stable\"][2]], label=\"quasiRandom\")\n",
    "i+=1\n",
    "\n",
    "\n",
    "for p in baseline:\n",
    "    rects = ax.bar(width*i, graph_info[p][0], width, yerr=[min(graph_info[p][1], graph_info[p][0]), graph_info[p][2]], label=p)\n",
    "    i+=1\n",
    "    \n",
    "for p in minSlip:\n",
    "    rects = ax.bar(width*i, graph_info[p][0], width, yerr=[graph_info[p][1], graph_info[p][2]], label=p)\n",
    "    i+=1\n",
    "\n",
    "for p in smash:\n",
    "    rects = ax.bar(width*i, graph_info[p][0], width, yerr=[graph_info[p][1], graph_info[p][2]], label=p)\n",
    "    i+=1\n",
    "\n",
    "for p in final:\n",
    "    rects = ax.bar(width*i, graph_info[p][0], width, yerr=[graph_info[p][1], graph_info[p][2]], label=p)\n",
    "    i+=1\n",
    "\n",
    "ax.set_ylabel('normalized log separation')\n",
    "ax.set_xticks([1])\n",
    "ax.set_xticklabels((\"4-body disk objects\"))\n",
    "# ax.set_title('7-body group 3 (slice) objects single point pushing')\n",
    "plt.legend(bbox_to_anchor=(0., 1.02, 1., .102), loc=3, ncol=5, borderaxespad=0.)"
   ]
  },
  {
   "cell_type": "code",
   "execution_count": null,
   "metadata": {},
   "outputs": [],
   "source": []
  }
 ],
 "metadata": {
  "kernelspec": {
   "display_name": "Python 3",
   "language": "python",
   "name": "python3"
  },
  "language_info": {
   "codemirror_mode": {
    "name": "ipython",
    "version": 3
   },
   "file_extension": ".py",
   "mimetype": "text/x-python",
   "name": "python",
   "nbconvert_exporter": "python",
   "pygments_lexer": "ipython3",
   "version": "3.6.6"
  }
 },
 "nbformat": 4,
 "nbformat_minor": 2
}
