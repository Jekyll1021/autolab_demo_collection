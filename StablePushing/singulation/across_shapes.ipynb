{
 "cells": [
  {
   "cell_type": "code",
   "execution_count": 1,
   "metadata": {},
   "outputs": [],
   "source": [
    "%matplotlib inline\n",
    "\n",
    "import json\n",
    "import numpy as np\n",
    "import matplotlib.pyplot as plt\n",
    "import os"
   ]
  },
  {
   "cell_type": "code",
   "execution_count": 2,
   "metadata": {},
   "outputs": [],
   "source": [
    "disks = {}\n",
    "disks2pts = {}\n",
    "disks_object_coverage = set()\n",
    "\n",
    "mids = {}\n",
    "mids2pts = {}\n",
    "mids_object_coverage = set()\n",
    "\n",
    "slices = {}\n",
    "slices2pts = {}\n",
    "slices_object_coverage = set()\n"
   ]
  },
  {
   "cell_type": "code",
   "execution_count": 3,
   "metadata": {},
   "outputs": [],
   "source": [
    "disks[\"distribution\"] = []\n",
    "overall = {}\n",
    "for filename in os.listdir(\"almost_disk/distribution\"):\n",
    "    try:\n",
    "        if len(filename.split(\".\"))!=2 or filename.split(\".\")[1]!=\"json\":\n",
    "            continue\n",
    "        with open(\"almost_disk/distribution/\"+filename, 'r') as f:\n",
    "            dic = json.load(f)\n",
    "        disks[\"distribution\"].append(dic['mean separation after push'] - dic['mean separation before push'])\n",
    "        key = filename.split(\"_\")[0]\n",
    "        if not key in overall.keys():\n",
    "            overall[key] = []\n",
    "        overall[key].append(dic['mean separation after push'] - dic['mean separation before push'])\n",
    "        for i in range(3):\n",
    "            disks_object_coverage.add(dic[str(i)+\" disk coverage\"])\n",
    "    except:\n",
    "        continue\n",
    "disks[\"best\"] = []\n",
    "for key in overall.keys():\n",
    "    norm_max = np.max(overall[key])\n",
    "    overall[key] = [np.mean(overall[key]), np.std(overall[key])]\n",
    "    disks[\"best\"].append((norm_max - overall[key][0]) / overall[key][1])"
   ]
  },
  {
   "cell_type": "code",
   "execution_count": 4,
   "metadata": {},
   "outputs": [],
   "source": [
    "disks2pts[\"distribution\"] = []\n",
    "overall2pts = {}\n",
    "\n",
    "for filename in os.listdir(\"almost_disk/distribution_multi_pts\"):\n",
    "    try:\n",
    "        if len(filename.split(\".\"))!=2 or filename.split(\".\")[1]!=\"json\":\n",
    "            continue\n",
    "        with open(\"almost_disk/distribution_multi_pts/\"+filename, 'r') as f:\n",
    "            dic = json.load(f)\n",
    "        disks[\"distribution\"].append(dic['mean separation after push'] - dic['mean separation before push'])\n",
    "        key = filename.split(\"_\")[0]\n",
    "        if not key in overall2pts.keys():\n",
    "            overall2pts[key] = []\n",
    "        overall2pts[key].append(dic['mean separation after push'] - dic['mean separation before push'])\n",
    "        for i in range(3):\n",
    "            disks_object_coverage.add(dic[str(i)+\" disk coverage\"])\n",
    "    except:\n",
    "        continue\n",
    "for key in overall2pts.keys():\n",
    "    if not key in overall2pts.keys():\n",
    "            overall2pts[key] = [np.mean(overall2pts[key]), np.std(overall2pts[key])]\n",
    "disks2pts[\"best\"] = []\n",
    "for key in overall2pts.keys():\n",
    "    norm_max = np.max(overall2pts[key])\n",
    "    overall2pts[key] = [np.mean(overall2pts[key]), np.std(overall2pts[key])]\n",
    "    disks2pts[\"best\"].append((norm_max - overall2pts[key][0]) / overall2pts[key][1])"
   ]
  },
  {
   "cell_type": "code",
   "execution_count": 5,
   "metadata": {},
   "outputs": [],
   "source": [
    "best = {}\n",
    "for filename in os.listdir(\"almost_disk/baseline\"):\n",
    "    try:\n",
    "        if len(filename.split(\".\"))!=2 or filename.split(\".\")[1]!=\"json\":\n",
    "            continue\n",
    "        with open(\"almost_disk/baseline/\"+filename, 'r') as f:\n",
    "            dic = json.load(f)\n",
    "        key = filename.split(\"_\")[0]\n",
    "        if not key in best.keys():\n",
    "            best[key] = (dic['mean separation after push'] - dic['mean separation before push'] - overall[key][0])/overall[key][1]\n",
    "        elif best[key] < (dic['mean separation after push'] - dic['mean separation before push'] - overall[key][0])/overall[key][1]:\n",
    "            best[key] = (dic['mean separation after push'] - dic['mean separation before push'] - overall[key][0])/overall[key][1]\n",
    "    except:\n",
    "        continue\n",
    "disks[\"baseline\"] = [best[key] for key in best.keys()]"
   ]
  },
  {
   "cell_type": "code",
   "execution_count": 6,
   "metadata": {},
   "outputs": [],
   "source": [
    "best = {}\n",
    "for filename in os.listdir(\"almost_disk/baseline_two_pts\"):\n",
    "    try:\n",
    "        if len(filename.split(\".\"))!=2 or filename.split(\".\")[1]!=\"json\":\n",
    "            continue\n",
    "        with open(\"almost_disk/baseline_two_pts/\"+filename, 'r') as f:\n",
    "            dic = json.load(f)\n",
    "        key = filename.split(\"_\")[0]\n",
    "        if not key in best.keys():\n",
    "            best[key] = (dic['mean separation after push'] - dic['mean separation before push'] - overall2pts[key][0])/overall2pts[key][1]\n",
    "        elif best[key] < (dic['mean separation after push'] - dic['mean separation before push'] - overall2pts[key][0])/overall2pts[key][1]:\n",
    "            best[key] = (dic['mean separation after push'] - dic['mean separation before push'] - overall2pts[key][0])/overall2pts[key][1]\n",
    "    except:\n",
    "        continue\n",
    "disks2pts[\"baseline\"] = [best[key] for key in best.keys()]"
   ]
  },
  {
   "cell_type": "code",
   "execution_count": 7,
   "metadata": {},
   "outputs": [],
   "source": [
    "best = {}\n",
    "for filename in os.listdir(\"almost_disk/selected\"):\n",
    "    try:\n",
    "        if len(filename.split(\".\"))!=2 or filename.split(\".\")[1]!=\"json\":\n",
    "            continue\n",
    "        with open(\"almost_disk/selected/\"+filename, 'r') as f:\n",
    "            dic = json.load(f)\n",
    "        key = filename.split(\"_\")[0]\n",
    "        if not key in best.keys():\n",
    "            best[key] = (dic['mean separation after push'] - dic['mean separation before push'] - overall[key][0])/overall[key][1]\n",
    "        elif best[key] < (dic['mean separation after push'] - dic['mean separation before push'] - overall[key][0])/overall[key][1]:\n",
    "            best[key] = (dic['mean separation after push'] - dic['mean separation before push'] - overall[key][0])/overall[key][1]\n",
    "    except:\n",
    "        continue\n",
    "disks[\"selected\"] = [best[key] for key in best.keys()]"
   ]
  },
  {
   "cell_type": "code",
   "execution_count": 8,
   "metadata": {},
   "outputs": [],
   "source": [
    "best = {}\n",
    "for filename in os.listdir(\"almost_disk/selected_two_pts\"):\n",
    "    try:\n",
    "        if len(filename.split(\".\"))!=2 or filename.split(\".\")[1]!=\"json\":\n",
    "            continue\n",
    "        with open(\"almost_disk/selected_two_pts/\"+filename, 'r') as f:\n",
    "            dic = json.load(f)\n",
    "        key = filename.split(\"_\")[0]\n",
    "        if not key in best.keys():\n",
    "            best[key] = (dic['mean separation after push'] - dic['mean separation before push'] - overall2pts[key][0])/overall2pts[key][1]\n",
    "        elif best[key] < (dic['mean separation after push'] - dic['mean separation before push'] - overall2pts[key][0])/overall2pts[key][1]:\n",
    "            best[key] = (dic['mean separation after push'] - dic['mean separation before push'] - overall2pts[key][0])/overall2pts[key][1]\n",
    "    except:\n",
    "        continue\n",
    "disks2pts[\"selected\"] = [best[key] for key in best.keys()]"
   ]
  },
  {
   "cell_type": "code",
   "execution_count": 9,
   "metadata": {},
   "outputs": [],
   "source": [
    "best = {}\n",
    "for filename in os.listdir(\"almost_disk/selected2\"):\n",
    "    try:\n",
    "        if len(filename.split(\".\"))!=2 or filename.split(\".\")[1]!=\"json\":\n",
    "            continue\n",
    "        with open(\"almost_disk/selected2/\"+filename, 'r') as f:\n",
    "            dic = json.load(f)\n",
    "        key = filename.split(\"_\")[0]\n",
    "        if not key in best.keys():\n",
    "            best[key] = (dic['mean separation after push'] - dic['mean separation before push'] - overall[key][0])/overall[key][1]\n",
    "        elif best[key] < (dic['mean separation after push'] - dic['mean separation before push'] - overall[key][0])/overall[key][1]:\n",
    "            best[key] = (dic['mean separation after push'] - dic['mean separation before push'] - overall[key][0])/overall[key][1]\n",
    "    except:\n",
    "        continue\n",
    "disks[\"selected2\"] = [best[key] for key in best.keys()]"
   ]
  },
  {
   "cell_type": "code",
   "execution_count": 10,
   "metadata": {},
   "outputs": [],
   "source": [
    "best = {}\n",
    "for filename in os.listdir(\"almost_disk/selected2_two_pts\"):\n",
    "    try:\n",
    "        if len(filename.split(\".\"))!=2 or filename.split(\".\")[1]!=\"json\":\n",
    "            continue\n",
    "        with open(\"almost_disk/selected2_two_pts/\"+filename, 'r') as f:\n",
    "            dic = json.load(f)\n",
    "        key = filename.split(\"_\")[0]\n",
    "        if not key in best.keys():\n",
    "            best[key] = (dic['mean separation after push'] - dic['mean separation before push'] - overall2pts[key][0])/overall2pts[key][1]\n",
    "        elif best[key] < (dic['mean separation after push'] - dic['mean separation before push'] - overall2pts[key][0])/overall2pts[key][1]:\n",
    "            best[key] = (dic['mean separation after push'] - dic['mean separation before push'] - overall2pts[key][0])/overall2pts[key][1]\n",
    "    except:\n",
    "        continue\n",
    "disks2pts[\"selected2\"] = [best[key] for key in best.keys()]"
   ]
  },
  {
   "cell_type": "code",
   "execution_count": 11,
   "metadata": {},
   "outputs": [],
   "source": [
    "best = {}\n",
    "for filename in os.listdir(\"almost_disk/boundary_shear\"):\n",
    "    try:\n",
    "        if len(filename.split(\".\"))!=2 or filename.split(\".\")[1]!=\"json\":\n",
    "            continue\n",
    "        with open(\"almost_disk/boundary_shear/\"+filename, 'r') as f:\n",
    "            dic = json.load(f)\n",
    "        key = filename.split(\"_\")[0]\n",
    "        if not key in best.keys():\n",
    "            best[key] = (dic['mean separation after push'] - dic['mean separation before push'] - overall[key][0])/overall[key][1]\n",
    "        elif best[key] < (dic['mean separation after push'] - dic['mean separation before push'] - overall[key][0])/overall[key][1]:\n",
    "            best[key] = (dic['mean separation after push'] - dic['mean separation before push'] - overall[key][0])/overall[key][1]\n",
    "    except:\n",
    "        continue\n",
    "disks[\"boundary_shear\"] = [best[key] for key in best.keys()]"
   ]
  },
  {
   "cell_type": "code",
   "execution_count": 12,
   "metadata": {},
   "outputs": [],
   "source": [
    "best = {}\n",
    "for filename in os.listdir(\"almost_disk/boundary_shear_two_pts\"):\n",
    "    try:\n",
    "        if len(filename.split(\".\"))!=2 or filename.split(\".\")[1]!=\"json\":\n",
    "            continue\n",
    "        with open(\"almost_disk/boundary_shear_two_pts/\"+filename, 'r') as f:\n",
    "            dic = json.load(f)\n",
    "        key = filename.split(\"_\")[0]\n",
    "        if not key in best.keys():\n",
    "            best[key] = (dic['mean separation after push'] - dic['mean separation before push'] - overall2pts[key][0])/overall2pts[key][1]\n",
    "        elif best[key] < (dic['mean separation after push'] - dic['mean separation before push'] - overall2pts[key][0])/overall2pts[key][1]:\n",
    "            best[key] = (dic['mean separation after push'] - dic['mean separation before push'] - overall2pts[key][0])/overall2pts[key][1]\n",
    "    except:\n",
    "        continue\n",
    "disks2pts[\"boundary_shear_two_pts\"] = [best[key] for key in best.keys()]"
   ]
  },
  {
   "cell_type": "code",
   "execution_count": 13,
   "metadata": {},
   "outputs": [],
   "source": [
    "best = {}\n",
    "for filename in os.listdir(\"almost_disk/selected3_min\"):\n",
    "    try:\n",
    "        if len(filename.split(\".\"))!=2 or filename.split(\".\")[1]!=\"json\":\n",
    "            continue\n",
    "        with open(\"almost_disk/selected3_min/\"+filename, 'r') as f:\n",
    "            dic = json.load(f)\n",
    "        key = filename.split(\"_\")[0]\n",
    "        if not key in best.keys():\n",
    "            best[key] = (dic['mean separation after push'] - dic['mean separation before push'] - overall[key][0])/overall[key][1]\n",
    "        elif best[key] < (dic['mean separation after push'] - dic['mean separation before push'] - overall[key][0])/overall[key][1]:\n",
    "            best[key] = (dic['mean separation after push'] - dic['mean separation before push'] - overall[key][0])/overall[key][1]\n",
    "    except:\n",
    "        continue\n",
    "disks[\"selected3_min\"] = [best[key] for key in best.keys()]\n"
   ]
  },
  {
   "cell_type": "code",
   "execution_count": 14,
   "metadata": {},
   "outputs": [],
   "source": [
    "best = {}\n",
    "for filename in os.listdir(\"almost_disk/selected3_double_min\"):\n",
    "    try:\n",
    "        if len(filename.split(\".\"))!=2 or filename.split(\".\")[1]!=\"json\":\n",
    "            continue\n",
    "        with open(\"almost_disk/selected3_double_min/\"+filename, 'r') as f:\n",
    "            dic = json.load(f)\n",
    "        key = filename.split(\"_\")[0]\n",
    "        if not key in best.keys():\n",
    "            best[key] = (dic['mean separation after push'] - dic['mean separation before push'] - overall2pts[key][0])/overall2pts[key][1]\n",
    "        elif best[key] < (dic['mean separation after push'] - dic['mean separation before push'] - overall2pts[key][0])/overall2pts[key][1]:\n",
    "            best[key] = (dic['mean separation after push'] - dic['mean separation before push'] - overall2pts[key][0])/overall2pts[key][1]\n",
    "    except:\n",
    "        continue\n",
    "disks2pts[\"selected3_double_min\"] = [best[key] for key in best.keys()]\n"
   ]
  },
  {
   "cell_type": "code",
   "execution_count": 15,
   "metadata": {},
   "outputs": [],
   "source": [
    "best = {}\n",
    "for filename in os.listdir(\"almost_disk/selected3_max\"):\n",
    "    try:\n",
    "        if len(filename.split(\".\"))!=2 or filename.split(\".\")[1]!=\"json\":\n",
    "            continue\n",
    "        with open(\"almost_disk/selected3_max/\"+filename, 'r') as f:\n",
    "            dic = json.load(f)\n",
    "        key = filename.split(\"_\")[0]\n",
    "        if not key in best.keys():\n",
    "            best[key] = (dic['mean separation after push'] - dic['mean separation before push'] - overall[key][0])/overall[key][1]\n",
    "        elif best[key] < (dic['mean separation after push'] - dic['mean separation before push'] - overall[key][0])/overall[key][1]:\n",
    "            best[key] = (dic['mean separation after push'] - dic['mean separation before push'] - overall[key][0])/overall[key][1]\n",
    "    except:\n",
    "        continue\n",
    "disks[\"selected3_max\"] = [best[key] for key in best.keys()]\n"
   ]
  },
  {
   "cell_type": "code",
   "execution_count": 24,
   "metadata": {},
   "outputs": [],
   "source": [
    "best = {}\n",
    "for filename in os.listdir(\"almost_disk/selected3_double_max\"):\n",
    "    try:\n",
    "        if len(filename.split(\".\"))!=2 or filename.split(\".\")[1]!=\"json\":\n",
    "            continue\n",
    "        with open(\"almost_disk/selected3_double_max/\"+filename, 'r') as f:\n",
    "            dic = json.load(f)\n",
    "        key = filename.split(\"_\")[0]\n",
    "        if not key in best.keys():\n",
    "            best[key] = (dic['mean separation after push'] - dic['mean separation before push'] - overall2pts[key][0])/overall2pts[key][1]\n",
    "        elif best[key] < (dic['mean separation after push'] - dic['mean separation before push'] - overall2pts[key][0])/overall2pts[key][1]:\n",
    "            best[key] = (dic['mean separation after push'] - dic['mean separation before push'] - overall2pts[key][0])/overall2pts[key][1]\n",
    "    except:\n",
    "        continue\n",
    "disks2pts[\"selected3_double_max\"] = [best[key] for key in best.keys()]\n",
    "\n"
   ]
  },
  {
   "cell_type": "code",
   "execution_count": 35,
   "metadata": {},
   "outputs": [
    {
     "data": {
      "text/plain": [
       "<matplotlib.legend.Legend at 0x1122be940>"
      ]
     },
     "execution_count": 35,
     "metadata": {},
     "output_type": "execute_result"
    },
    {
     "data": {
      "image/png": "[encoded data removed]",
      "text/plain": [
       "<Figure size 432x288 with 1 Axes>"
      ]
     },
     "metadata": {},
     "output_type": "display_data"
    }
   ],
   "source": [
    "for key in disks.keys():\n",
    "    if key != \"distribution\":\n",
    "        w = np.ones_like(disks[key])/float(len(disks[key]))\n",
    "        plt.hist(disks[key], weights=w, bins=np.arange(np.percentile(disks[key], 5), np.percentile(disks[key], 95), 0.1), alpha=0.4, label=key)\n",
    "plt.legend(loc='upper left')"
   ]
  },
  {
   "cell_type": "code",
   "execution_count": 36,
   "metadata": {},
   "outputs": [
    {
     "data": {
      "text/plain": [
       "<matplotlib.legend.Legend at 0x1124f1f60>"
      ]
     },
     "execution_count": 36,
     "metadata": {},
     "output_type": "execute_result"
    },
    {
     "data": {
      "image/png": "[encoded data removed]",
      "text/plain": [
       "<Figure size 432x288 with 1 Axes>"
      ]
     },
     "metadata": {},
     "output_type": "display_data"
    }
   ],
   "source": [
    "for key in disks2pts.keys():\n",
    "    if key != \"distribution\":\n",
    "        w = np.ones_like(disks2pts[key])/float(len(disks2pts[key]))\n",
    "        plt.hist(disks2pts[key], weights=w, bins=np.arange(np.percentile(disks2pts[key], 5), np.percentile(disks2pts[key], 95), 0.05), alpha=0.4, label=key)\n",
    "plt.legend(loc='upper left')  \n",
    "        "
   ]
  },
  {
   "cell_type": "code",
   "execution_count": 39,
   "metadata": {},
   "outputs": [],
   "source": [
    "mids[\"distribution\"] = []\n",
    "overall = {}\n",
    "for filename in os.listdir(\"mid_disk/distribution\"):\n",
    "    try:\n",
    "        if len(filename.split(\".\"))!=2 or filename.split(\".\")[1]!=\"json\":\n",
    "            continue\n",
    "        with open(\"mid_disk/distribution/\"+filename, 'r') as f:\n",
    "            dic = json.load(f)\n",
    "        mids[\"distribution\"].append(dic['mean separation after push'] - dic['mean separation before push'])\n",
    "        key = filename.split(\"_\")[0]\n",
    "        if not key in overall.keys():\n",
    "            overall[key] = []\n",
    "        overall[key].append(dic['mean separation after push'] - dic['mean separation before push'])\n",
    "        for i in range(3):\n",
    "            mids_object_coverage.add(dic[str(i)+\" disk coverage\"])\n",
    "    except:\n",
    "        continue\n",
    "mids[\"best\"] = []\n",
    "for key in overall.keys():\n",
    "    norm_max = np.max(overall[key])\n",
    "    overall[key] = [np.mean(overall[key]), np.std(overall[key])]\n",
    "    mids[\"best\"].append((norm_max - overall[key][0]) / overall[key][1])"
   ]
  },
  {
   "cell_type": "code",
   "execution_count": 40,
   "metadata": {},
   "outputs": [],
   "source": [
    "mids2pts[\"distribution\"] = []\n",
    "overall2pts = {}\n",
    "\n",
    "for filename in os.listdir(\"mid_disk/distribution_multi_pts\"):\n",
    "    try:\n",
    "        if len(filename.split(\".\"))!=2 or filename.split(\".\")[1]!=\"json\":\n",
    "            continue\n",
    "        with open(\"mid_disk/distribution_multi_pts/\"+filename, 'r') as f:\n",
    "            dic = json.load(f)\n",
    "        mids2pts[\"distribution\"].append(dic['mean separation after push'] - dic['mean separation before push'])\n",
    "        key = filename.split(\"_\")[0]\n",
    "        if not key in overall2pts.keys():\n",
    "            overall2pts[key] = []\n",
    "        overall2pts[key].append(dic['mean separation after push'] - dic['mean separation before push'])\n",
    "        for i in range(3):\n",
    "            mids_object_coverage.add(dic[str(i)+\" disk coverage\"])\n",
    "    except:\n",
    "        continue\n",
    "for key in overall2pts.keys():\n",
    "    if not key in overall2pts.keys():\n",
    "            overall2pts[key] = [np.mean(overall2pts[key]), np.std(overall2pts[key])]\n",
    "mids2pts[\"best\"] = []\n",
    "for key in overall2pts.keys():\n",
    "    norm_max = np.max(overall2pts[key])\n",
    "    overall2pts[key] = [np.mean(overall2pts[key]), np.std(overall2pts[key])]\n",
    "    mids2pts[\"best\"].append((norm_max - overall2pts[key][0]) / overall2pts[key][1])"
   ]
  },
  {
   "cell_type": "code",
   "execution_count": 41,
   "metadata": {},
   "outputs": [],
   "source": [
    "best = {}\n",
    "for filename in os.listdir(\"mid_disk/baseline\"):\n",
    "    try:\n",
    "        if len(filename.split(\".\"))!=2 or filename.split(\".\")[1]!=\"json\":\n",
    "            continue\n",
    "        with open(\"mid_disk/baseline/\"+filename, 'r') as f:\n",
    "            dic = json.load(f)\n",
    "        key = filename.split(\"_\")[0]\n",
    "        if not key in best.keys():\n",
    "            best[key] = (dic['mean separation after push'] - dic['mean separation before push'] - overall[key][0])/overall[key][1]\n",
    "        elif best[key] < (dic['mean separation after push'] - dic['mean separation before push'] - overall[key][0])/overall[key][1]:\n",
    "            best[key] = (dic['mean separation after push'] - dic['mean separation before push'] - overall[key][0])/overall[key][1]\n",
    "    except:\n",
    "        continue\n",
    "mids[\"baseline\"] = [best[key] for key in best.keys()]\n"
   ]
  },
  {
   "cell_type": "code",
   "execution_count": 42,
   "metadata": {},
   "outputs": [],
   "source": [
    "best = {}\n",
    "for filename in os.listdir(\"mid_disk/baseline_two_pts\"):\n",
    "    try:\n",
    "        if len(filename.split(\".\"))!=2 or filename.split(\".\")[1]!=\"json\":\n",
    "            continue\n",
    "        with open(\"mid_disk/baseline_two_pts/\"+filename, 'r') as f:\n",
    "            dic = json.load(f)\n",
    "        key = filename.split(\"_\")[0]\n",
    "        if not key in best.keys():\n",
    "            best[key] = (dic['mean separation after push'] - dic['mean separation before push'] - overall2pts[key][0])/overall2pts[key][1]\n",
    "        elif best[key] < (dic['mean separation after push'] - dic['mean separation before push'] - overall2pts[key][0])/overall2pts[key][1]:\n",
    "            best[key] = (dic['mean separation after push'] - dic['mean separation before push'] - overall2pts[key][0])/overall2pts[key][1]\n",
    "    except:\n",
    "        continue\n",
    "mids2pts[\"baseline\"] = [best[key] for key in best.keys()]\n"
   ]
  },
  {
   "cell_type": "code",
   "execution_count": 43,
   "metadata": {},
   "outputs": [],
   "source": [
    "best = {}\n",
    "for filename in os.listdir(\"mid_disk/selected\"):\n",
    "    try:\n",
    "        if len(filename.split(\".\"))!=2 or filename.split(\".\")[1]!=\"json\":\n",
    "            continue\n",
    "        with open(\"mid_disk/selected/\"+filename, 'r') as f:\n",
    "            dic = json.load(f)\n",
    "        key = filename.split(\"_\")[0]\n",
    "        if not key in best.keys():\n",
    "            best[key] = (dic['mean separation after push'] - dic['mean separation before push'] - overall[key][0])/overall[key][1]\n",
    "        elif best[key] < (dic['mean separation after push'] - dic['mean separation before push'] - overall[key][0])/overall[key][1]:\n",
    "            best[key] = (dic['mean separation after push'] - dic['mean separation before push'] - overall[key][0])/overall[key][1]\n",
    "    except:\n",
    "        continue\n",
    "mids[\"selected\"] = [best[key] for key in best.keys()]\n"
   ]
  },
  {
   "cell_type": "code",
   "execution_count": 44,
   "metadata": {},
   "outputs": [],
   "source": [
    "best = {}\n",
    "for filename in os.listdir(\"mid_disk/selected_two_pts\"):\n",
    "    try:\n",
    "        if len(filename.split(\".\"))!=2 or filename.split(\".\")[1]!=\"json\":\n",
    "            continue\n",
    "        with open(\"mid_disk/selected_two_pts/\"+filename, 'r') as f:\n",
    "            dic = json.load(f)\n",
    "        key = filename.split(\"_\")[0]\n",
    "        if not key in best.keys():\n",
    "            best[key] = (dic['mean separation after push'] - dic['mean separation before push'] - overall2pts[key][0])/overall2pts[key][1]\n",
    "        elif best[key] < (dic['mean separation after push'] - dic['mean separation before push'] - overall2pts[key][0])/overall2pts[key][1]:\n",
    "            best[key] = (dic['mean separation after push'] - dic['mean separation before push'] - overall2pts[key][0])/overall2pts[key][1]\n",
    "    except:\n",
    "        continue\n",
    "mids2pts[\"selected\"] = [best[key] for key in best.keys()]\n"
   ]
  },
  {
   "cell_type": "code",
   "execution_count": 45,
   "metadata": {},
   "outputs": [],
   "source": [
    "best = {}\n",
    "for filename in os.listdir(\"mid_disk/selected2\"):\n",
    "    try:\n",
    "        if len(filename.split(\".\"))!=2 or filename.split(\".\")[1]!=\"json\":\n",
    "            continue\n",
    "        with open(\"mid_disk/selected2/\"+filename, 'r') as f:\n",
    "            dic = json.load(f)\n",
    "        key = filename.split(\"_\")[0]\n",
    "        if not key in best.keys():\n",
    "            best[key] = (dic['mean separation after push'] - dic['mean separation before push'] - overall[key][0])/overall[key][1]\n",
    "        elif best[key] < (dic['mean separation after push'] - dic['mean separation before push'] - overall[key][0])/overall[key][1]:\n",
    "            best[key] = (dic['mean separation after push'] - dic['mean separation before push'] - overall[key][0])/overall[key][1]\n",
    "    except:\n",
    "        continue\n",
    "mids[\"selected2\"] = [best[key] for key in best.keys()]\n"
   ]
  },
  {
   "cell_type": "code",
   "execution_count": 46,
   "metadata": {},
   "outputs": [],
   "source": [
    "best = {}\n",
    "for filename in os.listdir(\"mid_disk/selected2_two_pts\"):\n",
    "    try:\n",
    "        if len(filename.split(\".\"))!=2 or filename.split(\".\")[1]!=\"json\":\n",
    "            continue\n",
    "        with open(\"mid_disk/selected2_two_pts/\"+filename, 'r') as f:\n",
    "            dic = json.load(f)\n",
    "        key = filename.split(\"_\")[0]\n",
    "        if not key in best.keys():\n",
    "            best[key] = (dic['mean separation after push'] - dic['mean separation before push'] - overall2pts[key][0])/overall2pts[key][1]\n",
    "        elif best[key] < (dic['mean separation after push'] - dic['mean separation before push'] - overall2pts[key][0])/overall2pts[key][1]:\n",
    "            best[key] = (dic['mean separation after push'] - dic['mean separation before push'] - overall2pts[key][0])/overall2pts[key][1]\n",
    "    except:\n",
    "        continue\n",
    "mids2pts[\"selected2\"] = [best[key] for key in best.keys()]\n"
   ]
  },
  {
   "cell_type": "code",
   "execution_count": 47,
   "metadata": {},
   "outputs": [],
   "source": [
    "best = {}\n",
    "for filename in os.listdir(\"mid_disk/boundary_shear\"):\n",
    "    try:\n",
    "        if len(filename.split(\".\"))!=2 or filename.split(\".\")[1]!=\"json\":\n",
    "            continue\n",
    "        with open(\"mid_disk/boundary_shear/\"+filename, 'r') as f:\n",
    "            dic = json.load(f)\n",
    "        key = filename.split(\"_\")[0]\n",
    "        if not key in best.keys():\n",
    "            best[key] = (dic['mean separation after push'] - dic['mean separation before push'] - overall[key][0])/overall[key][1]\n",
    "        elif best[key] < (dic['mean separation after push'] - dic['mean separation before push'] - overall[key][0])/overall[key][1]:\n",
    "            best[key] = (dic['mean separation after push'] - dic['mean separation before push'] - overall[key][0])/overall[key][1]\n",
    "    except:\n",
    "        continue\n",
    "mids[\"boundary_shear\"] = [best[key] for key in best.keys()]\n"
   ]
  },
  {
   "cell_type": "code",
   "execution_count": 48,
   "metadata": {},
   "outputs": [],
   "source": [
    "best = {}\n",
    "for filename in os.listdir(\"mid_disk/boundary_shear_two_pts\"):\n",
    "    try:\n",
    "        if len(filename.split(\".\"))!=2 or filename.split(\".\")[1]!=\"json\":\n",
    "            continue\n",
    "        with open(\"mid_disk/boundary_shear_two_pts/\"+filename, 'r') as f:\n",
    "            dic = json.load(f)\n",
    "        key = filename.split(\"_\")[0]\n",
    "        if not key in best.keys():\n",
    "            best[key] = (dic['mean separation after push'] - dic['mean separation before push'] - overall2pts[key][0])/overall2pts[key][1]\n",
    "        elif best[key] < (dic['mean separation after push'] - dic['mean separation before push'] - overall2pts[key][0])/overall2pts[key][1]:\n",
    "            best[key] = (dic['mean separation after push'] - dic['mean separation before push'] - overall2pts[key][0])/overall2pts[key][1]\n",
    "    except:\n",
    "        continue\n",
    "mids2pts[\"boundary_shear_two_pts\"] = [best[key] for key in best.keys()]\n"
   ]
  },
  {
   "cell_type": "code",
   "execution_count": 49,
   "metadata": {},
   "outputs": [],
   "source": [
    "best = {}\n",
    "for filename in os.listdir(\"mid_disk/selected3_min\"):\n",
    "    try:\n",
    "        if len(filename.split(\".\"))!=2 or filename.split(\".\")[1]!=\"json\":\n",
    "            continue\n",
    "        with open(\"mid_disk/selected3_min/\"+filename, 'r') as f:\n",
    "            dic = json.load(f)\n",
    "        key = filename.split(\"_\")[0]\n",
    "        if not key in best.keys():\n",
    "            best[key] = (dic['mean separation after push'] - dic['mean separation before push'] - overall[key][0])/overall[key][1]\n",
    "        elif best[key] < (dic['mean separation after push'] - dic['mean separation before push'] - overall[key][0])/overall[key][1]:\n",
    "            best[key] = (dic['mean separation after push'] - dic['mean separation before push'] - overall[key][0])/overall[key][1]\n",
    "    except:\n",
    "        continue\n",
    "mids[\"selected3_min\"] = [best[key] for key in best.keys()]\n"
   ]
  },
  {
   "cell_type": "code",
   "execution_count": 50,
   "metadata": {},
   "outputs": [],
   "source": [
    "best = {}\n",
    "for filename in os.listdir(\"mid_disk/selected3_double_min\"):\n",
    "    try:\n",
    "        if len(filename.split(\".\"))!=2 or filename.split(\".\")[1]!=\"json\":\n",
    "            continue\n",
    "        with open(\"mid_disk/selected3_double_min/\"+filename, 'r') as f:\n",
    "            dic = json.load(f)\n",
    "        key = filename.split(\"_\")[0]\n",
    "        if not key in best.keys():\n",
    "            best[key] = (dic['mean separation after push'] - dic['mean separation before push'] - overall2pts[key][0])/overall2pts[key][1]\n",
    "        elif best[key] < (dic['mean separation after push'] - dic['mean separation before push'] - overall2pts[key][0])/overall2pts[key][1]:\n",
    "            best[key] = (dic['mean separation after push'] - dic['mean separation before push'] - overall2pts[key][0])/overall2pts[key][1]\n",
    "    except:\n",
    "        continue\n",
    "mids2pts[\"selected3_double_min\"] = [best[key] for key in best.keys()]\n"
   ]
  },
  {
   "cell_type": "code",
   "execution_count": 51,
   "metadata": {},
   "outputs": [],
   "source": [
    "best = {}\n",
    "for filename in os.listdir(\"mid_disk/selected3_max\"):\n",
    "    try:\n",
    "        if len(filename.split(\".\"))!=2 or filename.split(\".\")[1]!=\"json\":\n",
    "            continue\n",
    "        with open(\"mid_disk/selected3_max/\"+filename, 'r') as f:\n",
    "            dic = json.load(f)\n",
    "        key = filename.split(\"_\")[0]\n",
    "        if not key in best.keys():\n",
    "            best[key] = (dic['mean separation after push'] - dic['mean separation before push'] - overall[key][0])/overall[key][1]\n",
    "        elif best[key] < (dic['mean separation after push'] - dic['mean separation before push'] - overall[key][0])/overall[key][1]:\n",
    "            best[key] = (dic['mean separation after push'] - dic['mean separation before push'] - overall[key][0])/overall[key][1]\n",
    "    except:\n",
    "        continue\n",
    "mids[\"selected3_max\"] = [best[key] for key in best.keys()]\n"
   ]
  },
  {
   "cell_type": "code",
   "execution_count": 52,
   "metadata": {},
   "outputs": [],
   "source": [
    "best = {}\n",
    "for filename in os.listdir(\"mid_disk/selected3_double_max\"):\n",
    "    try:\n",
    "        if len(filename.split(\".\"))!=2 or filename.split(\".\")[1]!=\"json\":\n",
    "            continue\n",
    "        with open(\"mid_disk/selected3_double_max/\"+filename, 'r') as f:\n",
    "            dic = json.load(f)\n",
    "        key = filename.split(\"_\")[0]\n",
    "        if not key in best.keys():\n",
    "            best[key] = (dic['mean separation after push'] - dic['mean separation before push'] - overall2pts[key][0])/overall2pts[key][1]\n",
    "        elif best[key] < (dic['mean separation after push'] - dic['mean separation before push'] - overall2pts[key][0])/overall2pts[key][1]:\n",
    "            best[key] = (dic['mean separation after push'] - dic['mean separation before push'] - overall2pts[key][0])/overall2pts[key][1]\n",
    "    except:\n",
    "        continue\n",
    "mids2pts[\"selected3_double_max\"] = [best[key] for key in best.keys()]\n",
    "\n"
   ]
  },
  {
   "cell_type": "code",
   "execution_count": 53,
   "metadata": {},
   "outputs": [
    {
     "data": {
      "text/plain": [
       "<matplotlib.legend.Legend at 0x1126cf400>"
      ]
     },
     "execution_count": 53,
     "metadata": {},
     "output_type": "execute_result"
    },
    {
     "data": {
      "image/png": "[encoded data removed]",
      "text/plain": [
       "<Figure size 432x288 with 1 Axes>"
      ]
     },
     "metadata": {},
     "output_type": "display_data"
    }
   ],
   "source": [
    "for key in mids.keys():\n",
    "    if key != \"distribution\":\n",
    "        w = np.ones_like(mids[key])/float(len(mids[key]))\n",
    "        plt.hist(mids[key], weights=w, bins=np.arange(np.percentile(mids[key], 5), np.percentile(mids[key], 95), 0.1), alpha=0.4, label=key)\n",
    "plt.legend(loc='upper left')"
   ]
  },
  {
   "cell_type": "code",
   "execution_count": 54,
   "metadata": {},
   "outputs": [
    {
     "data": {
      "text/plain": [
       "<matplotlib.legend.Legend at 0x112815d30>"
      ]
     },
     "execution_count": 54,
     "metadata": {},
     "output_type": "execute_result"
    },
    {
     "data": {
      "image/png": "[encoded data removed]",
      "text/plain": [
       "<Figure size 432x288 with 1 Axes>"
      ]
     },
     "metadata": {},
     "output_type": "display_data"
    }
   ],
   "source": [
    "for key in mids2pts.keys():\n",
    "    if key != \"distribution\":\n",
    "        w = np.ones_like(mids2pts[key])/float(len(mids2pts[key]))\n",
    "        plt.hist(mids2pts[key], weights=w, bins=np.arange(np.percentile(mids2pts[key], 5), np.percentile(mids2pts[key], 95), 0.05), alpha=0.4, label=key)\n",
    "plt.legend(loc='upper left')  \n",
    "        "
   ]
  },
  {
   "cell_type": "code",
   "execution_count": 55,
   "metadata": {},
   "outputs": [],
   "source": [
    "slices[\"distribution\"] = []\n",
    "overall = {}\n",
    "for filename in os.listdir(\"almost_slice/distribution\"):\n",
    "    try:\n",
    "        if len(filename.split(\".\"))!=2 or filename.split(\".\")[1]!=\"json\":\n",
    "            continue\n",
    "        with open(\"almost_slice/distribution/\"+filename, 'r') as f:\n",
    "            dic = json.load(f)\n",
    "        slices[\"distribution\"].append(dic['mean separation after push'] - dic['mean separation before push'])\n",
    "        key = filename.split(\"_\")[0]\n",
    "        if not key in overall.keys():\n",
    "            overall[key] = []\n",
    "        overall[key].append(dic['mean separation after push'] - dic['mean separation before push'])\n",
    "        for i in range(3):\n",
    "            slices_object_coverage.add(dic[str(i)+\" disk coverage\"])\n",
    "    except:\n",
    "        continue\n",
    "slices[\"best\"] = []\n",
    "for key in overall.keys():\n",
    "    norm_max = np.max(overall[key])\n",
    "    overall[key] = [np.mean(overall[key]), np.std(overall[key])]\n",
    "    slices[\"best\"].append((norm_max - overall[key][0]) / overall[key][1])"
   ]
  },
  {
   "cell_type": "code",
   "execution_count": 56,
   "metadata": {},
   "outputs": [],
   "source": [
    "slices2pts[\"distribution\"] = []\n",
    "overall2pts = {}\n",
    "\n",
    "for filename in os.listdir(\"almost_slice/distribution_multi_pts\"):\n",
    "    try:\n",
    "        if len(filename.split(\".\"))!=2 or filename.split(\".\")[1]!=\"json\":\n",
    "            continue\n",
    "        with open(\"almost_slice/distribution_multi_pts/\"+filename, 'r') as f:\n",
    "            dic = json.load(f)\n",
    "        slices2pts[\"distribution\"].append(dic['mean separation after push'] - dic['mean separation before push'])\n",
    "        key = filename.split(\"_\")[0]\n",
    "        if not key in overall2pts.keys():\n",
    "            overall2pts[key] = []\n",
    "        overall2pts[key].append(dic['mean separation after push'] - dic['mean separation before push'])\n",
    "        for i in range(3):\n",
    "            slices_object_coverage.add(dic[str(i)+\" disk coverage\"])\n",
    "    except:\n",
    "        continue\n",
    "for key in overall2pts.keys():\n",
    "    if not key in overall2pts.keys():\n",
    "            overall2pts[key] = [np.mean(overall2pts[key]), np.std(overall2pts[key])]\n",
    "slices2pts[\"best\"] = []\n",
    "for key in overall2pts.keys():\n",
    "    norm_max = np.max(overall2pts[key])\n",
    "    overall2pts[key] = [np.mean(overall2pts[key]), np.std(overall2pts[key])]\n",
    "    slices2pts[\"best\"].append((norm_max - overall2pts[key][0]) / overall2pts[key][1])"
   ]
  },
  {
   "cell_type": "code",
   "execution_count": 57,
   "metadata": {},
   "outputs": [],
   "source": [
    "best = {}\n",
    "for filename in os.listdir(\"almost_slice/baseline\"):\n",
    "    try:\n",
    "        if len(filename.split(\".\"))!=2 or filename.split(\".\")[1]!=\"json\":\n",
    "            continue\n",
    "        with open(\"almost_slice/baseline/\"+filename, 'r') as f:\n",
    "            dic = json.load(f)\n",
    "        key = filename.split(\"_\")[0]\n",
    "        if not key in best.keys():\n",
    "            best[key] = (dic['mean separation after push'] - dic['mean separation before push'] - overall[key][0])/overall[key][1]\n",
    "        elif best[key] < (dic['mean separation after push'] - dic['mean separation before push'] - overall[key][0])/overall[key][1]:\n",
    "            best[key] = (dic['mean separation after push'] - dic['mean separation before push'] - overall[key][0])/overall[key][1]\n",
    "    except:\n",
    "        continue\n",
    "slices[\"baseline\"] = [best[key] for key in best.keys()]\n"
   ]
  },
  {
   "cell_type": "code",
   "execution_count": 58,
   "metadata": {},
   "outputs": [],
   "source": [
    "best = {}\n",
    "for filename in os.listdir(\"almost_slice/baseline_two_pts\"):\n",
    "    try:\n",
    "        if len(filename.split(\".\"))!=2 or filename.split(\".\")[1]!=\"json\":\n",
    "            continue\n",
    "        with open(\"almost_slice/baseline_two_pts/\"+filename, 'r') as f:\n",
    "            dic = json.load(f)\n",
    "        key = filename.split(\"_\")[0]\n",
    "        if not key in best.keys():\n",
    "            best[key] = (dic['mean separation after push'] - dic['mean separation before push'] - overall2pts[key][0])/overall2pts[key][1]\n",
    "        elif best[key] < (dic['mean separation after push'] - dic['mean separation before push'] - overall2pts[key][0])/overall2pts[key][1]:\n",
    "            best[key] = (dic['mean separation after push'] - dic['mean separation before push'] - overall2pts[key][0])/overall2pts[key][1]\n",
    "    except:\n",
    "        continue\n",
    "slices2pts[\"baseline\"] = [best[key] for key in best.keys()]\n"
   ]
  },
  {
   "cell_type": "code",
   "execution_count": 59,
   "metadata": {},
   "outputs": [],
   "source": [
    "best = {}\n",
    "for filename in os.listdir(\"almost_slice/selected\"):\n",
    "    try:\n",
    "        if len(filename.split(\".\"))!=2 or filename.split(\".\")[1]!=\"json\":\n",
    "            continue\n",
    "        with open(\"almost_slice/selected/\"+filename, 'r') as f:\n",
    "            dic = json.load(f)\n",
    "        key = filename.split(\"_\")[0]\n",
    "        if not key in best.keys():\n",
    "            best[key] = (dic['mean separation after push'] - dic['mean separation before push'] - overall[key][0])/overall[key][1]\n",
    "        elif best[key] < (dic['mean separation after push'] - dic['mean separation before push'] - overall[key][0])/overall[key][1]:\n",
    "            best[key] = (dic['mean separation after push'] - dic['mean separation before push'] - overall[key][0])/overall[key][1]\n",
    "    except:\n",
    "        continue\n",
    "slices[\"selected\"] = [best[key] for key in best.keys()]\n"
   ]
  },
  {
   "cell_type": "code",
   "execution_count": 60,
   "metadata": {},
   "outputs": [],
   "source": [
    "best = {}\n",
    "for filename in os.listdir(\"almost_slice/selected_two_pts\"):\n",
    "    try:\n",
    "        if len(filename.split(\".\"))!=2 or filename.split(\".\")[1]!=\"json\":\n",
    "            continue\n",
    "        with open(\"almost_slice/selected_two_pts/\"+filename, 'r') as f:\n",
    "            dic = json.load(f)\n",
    "        key = filename.split(\"_\")[0]\n",
    "        if not key in best.keys():\n",
    "            best[key] = (dic['mean separation after push'] - dic['mean separation before push'] - overall2pts[key][0])/overall2pts[key][1]\n",
    "        elif best[key] < (dic['mean separation after push'] - dic['mean separation before push'] - overall2pts[key][0])/overall2pts[key][1]:\n",
    "            best[key] = (dic['mean separation after push'] - dic['mean separation before push'] - overall2pts[key][0])/overall2pts[key][1]\n",
    "    except:\n",
    "        continue\n",
    "slices2pts[\"selected\"] = [best[key] for key in best.keys()]\n"
   ]
  },
  {
   "cell_type": "code",
   "execution_count": 61,
   "metadata": {},
   "outputs": [],
   "source": [
    "best = {}\n",
    "for filename in os.listdir(\"almost_slice/selected2\"):\n",
    "    try:\n",
    "        if len(filename.split(\".\"))!=2 or filename.split(\".\")[1]!=\"json\":\n",
    "            continue\n",
    "        with open(\"almost_slice/selected2/\"+filename, 'r') as f:\n",
    "            dic = json.load(f)\n",
    "        key = filename.split(\"_\")[0]\n",
    "        if not key in best.keys():\n",
    "            best[key] = (dic['mean separation after push'] - dic['mean separation before push'] - overall[key][0])/overall[key][1]\n",
    "        elif best[key] < (dic['mean separation after push'] - dic['mean separation before push'] - overall[key][0])/overall[key][1]:\n",
    "            best[key] = (dic['mean separation after push'] - dic['mean separation before push'] - overall[key][0])/overall[key][1]\n",
    "    except:\n",
    "        continue\n",
    "slices[\"selected2\"] = [best[key] for key in best.keys()]\n"
   ]
  },
  {
   "cell_type": "code",
   "execution_count": 62,
   "metadata": {},
   "outputs": [],
   "source": [
    "best = {}\n",
    "for filename in os.listdir(\"almost_slice/selected2_two_pts\"):\n",
    "    try:\n",
    "        if len(filename.split(\".\"))!=2 or filename.split(\".\")[1]!=\"json\":\n",
    "            continue\n",
    "        with open(\"almost_slice/selected2_two_pts/\"+filename, 'r') as f:\n",
    "            dic = json.load(f)\n",
    "        key = filename.split(\"_\")[0]\n",
    "        if not key in best.keys():\n",
    "            best[key] = (dic['mean separation after push'] - dic['mean separation before push'] - overall2pts[key][0])/overall2pts[key][1]\n",
    "        elif best[key] < (dic['mean separation after push'] - dic['mean separation before push'] - overall2pts[key][0])/overall2pts[key][1]:\n",
    "            best[key] = (dic['mean separation after push'] - dic['mean separation before push'] - overall2pts[key][0])/overall2pts[key][1]\n",
    "    except:\n",
    "        continue\n",
    "slices2pts[\"selected2\"] = [best[key] for key in best.keys()]\n"
   ]
  },
  {
   "cell_type": "code",
   "execution_count": 63,
   "metadata": {},
   "outputs": [],
   "source": [
    "best = {}\n",
    "for filename in os.listdir(\"almost_slice/boundary_shear\"):\n",
    "    try:\n",
    "        if len(filename.split(\".\"))!=2 or filename.split(\".\")[1]!=\"json\":\n",
    "            continue\n",
    "        with open(\"almost_slice/boundary_shear/\"+filename, 'r') as f:\n",
    "            dic = json.load(f)\n",
    "        key = filename.split(\"_\")[0]\n",
    "        if not key in best.keys():\n",
    "            best[key] = (dic['mean separation after push'] - dic['mean separation before push'] - overall[key][0])/overall[key][1]\n",
    "        elif best[key] < (dic['mean separation after push'] - dic['mean separation before push'] - overall[key][0])/overall[key][1]:\n",
    "            best[key] = (dic['mean separation after push'] - dic['mean separation before push'] - overall[key][0])/overall[key][1]\n",
    "    except:\n",
    "        continue\n",
    "slices[\"boundary_shear\"] = [best[key] for key in best.keys()]\n"
   ]
  },
  {
   "cell_type": "code",
   "execution_count": 64,
   "metadata": {},
   "outputs": [],
   "source": [
    "best = {}\n",
    "for filename in os.listdir(\"almost_slice/boundary_shear_two_pts\"):\n",
    "    try:\n",
    "        if len(filename.split(\".\"))!=2 or filename.split(\".\")[1]!=\"json\":\n",
    "            continue\n",
    "        with open(\"almost_slice/boundary_shear_two_pts/\"+filename, 'r') as f:\n",
    "            dic = json.load(f)\n",
    "        key = filename.split(\"_\")[0]\n",
    "        if not key in best.keys():\n",
    "            best[key] = (dic['mean separation after push'] - dic['mean separation before push'] - overall2pts[key][0])/overall2pts[key][1]\n",
    "        elif best[key] < (dic['mean separation after push'] - dic['mean separation before push'] - overall2pts[key][0])/overall2pts[key][1]:\n",
    "            best[key] = (dic['mean separation after push'] - dic['mean separation before push'] - overall2pts[key][0])/overall2pts[key][1]\n",
    "    except:\n",
    "        continue\n",
    "slices2pts[\"boundary_shear_two_pts\"] = [best[key] for key in best.keys()]\n"
   ]
  },
  {
   "cell_type": "code",
   "execution_count": 65,
   "metadata": {},
   "outputs": [],
   "source": [
    "best = {}\n",
    "for filename in os.listdir(\"almost_slice/selected3_min\"):\n",
    "    try:\n",
    "        if len(filename.split(\".\"))!=2 or filename.split(\".\")[1]!=\"json\":\n",
    "            continue\n",
    "        with open(\"almost_slice/selected3_min/\"+filename, 'r') as f:\n",
    "            dic = json.load(f)\n",
    "        key = filename.split(\"_\")[0]\n",
    "        if not key in best.keys():\n",
    "            best[key] = (dic['mean separation after push'] - dic['mean separation before push'] - overall[key][0])/overall[key][1]\n",
    "        elif best[key] < (dic['mean separation after push'] - dic['mean separation before push'] - overall[key][0])/overall[key][1]:\n",
    "            best[key] = (dic['mean separation after push'] - dic['mean separation before push'] - overall[key][0])/overall[key][1]\n",
    "    except:\n",
    "        continue\n",
    "slices[\"selected3_min\"] = [best[key] for key in best.keys()]\n"
   ]
  },
  {
   "cell_type": "code",
   "execution_count": 66,
   "metadata": {},
   "outputs": [],
   "source": [
    "best = {}\n",
    "for filename in os.listdir(\"almost_slice/selected3_double_min\"):\n",
    "    try:\n",
    "        if len(filename.split(\".\"))!=2 or filename.split(\".\")[1]!=\"json\":\n",
    "            continue\n",
    "        with open(\"almost_slice/selected3_double_min/\"+filename, 'r') as f:\n",
    "            dic = json.load(f)\n",
    "        key = filename.split(\"_\")[0]\n",
    "        if not key in best.keys():\n",
    "            best[key] = (dic['mean separation after push'] - dic['mean separation before push'] - overall2pts[key][0])/overall2pts[key][1]\n",
    "        elif best[key] < (dic['mean separation after push'] - dic['mean separation before push'] - overall2pts[key][0])/overall2pts[key][1]:\n",
    "            best[key] = (dic['mean separation after push'] - dic['mean separation before push'] - overall2pts[key][0])/overall2pts[key][1]\n",
    "    except:\n",
    "        continue\n",
    "slices2pts[\"selected3_double_min\"] = [best[key] for key in best.keys()]\n"
   ]
  },
  {
   "cell_type": "code",
   "execution_count": 67,
   "metadata": {},
   "outputs": [],
   "source": [
    "best = {}\n",
    "for filename in os.listdir(\"almost_slice/selected3_max\"):\n",
    "    try:\n",
    "        if len(filename.split(\".\"))!=2 or filename.split(\".\")[1]!=\"json\":\n",
    "            continue\n",
    "        with open(\"almost_slice/selected3_max/\"+filename, 'r') as f:\n",
    "            dic = json.load(f)\n",
    "        key = filename.split(\"_\")[0]\n",
    "        if not key in best.keys():\n",
    "            best[key] = (dic['mean separation after push'] - dic['mean separation before push'] - overall[key][0])/overall[key][1]\n",
    "        elif best[key] < (dic['mean separation after push'] - dic['mean separation before push'] - overall[key][0])/overall[key][1]:\n",
    "            best[key] = (dic['mean separation after push'] - dic['mean separation before push'] - overall[key][0])/overall[key][1]\n",
    "    except:\n",
    "        continue\n",
    "slices[\"selected3_max\"] = [best[key] for key in best.keys()]\n"
   ]
  },
  {
   "cell_type": "code",
   "execution_count": 68,
   "metadata": {},
   "outputs": [],
   "source": [
    "best = {}\n",
    "for filename in os.listdir(\"almost_slice/selected3_double_max\"):\n",
    "    try:\n",
    "        if len(filename.split(\".\"))!=2 or filename.split(\".\")[1]!=\"json\":\n",
    "            continue\n",
    "        with open(\"almost_slice/selected3_double_max/\"+filename, 'r') as f:\n",
    "            dic = json.load(f)\n",
    "        key = filename.split(\"_\")[0]\n",
    "        if not key in best.keys():\n",
    "            best[key] = (dic['mean separation after push'] - dic['mean separation before push'] - overall2pts[key][0])/overall2pts[key][1]\n",
    "        elif best[key] < (dic['mean separation after push'] - dic['mean separation before push'] - overall2pts[key][0])/overall2pts[key][1]:\n",
    "            best[key] = (dic['mean separation after push'] - dic['mean separation before push'] - overall2pts[key][0])/overall2pts[key][1]\n",
    "    except:\n",
    "        continue\n",
    "slices2pts[\"selected3_double_max\"] = [best[key] for key in best.keys()]\n",
    "\n"
   ]
  },
  {
   "cell_type": "code",
   "execution_count": 69,
   "metadata": {},
   "outputs": [
    {
     "data": {
      "text/plain": [
       "<matplotlib.legend.Legend at 0x112864e48>"
      ]
     },
     "execution_count": 69,
     "metadata": {},
     "output_type": "execute_result"
    },
    {
     "data": {
      "image/png": "[encoded data removed]",
      "text/plain": [
       "<Figure size 432x288 with 1 Axes>"
      ]
     },
     "metadata": {},
     "output_type": "display_data"
    }
   ],
   "source": [
    "for key in slices.keys():\n",
    "    if key != \"distribution\":\n",
    "        w = np.ones_like(slices[key])/float(len(slices[key]))\n",
    "        plt.hist(slices[key], weights=w, bins=np.arange(np.percentile(slices[key], 5), np.percentile(slices[key], 95), 0.1), alpha=0.4, label=key)\n",
    "plt.legend(loc='upper left')"
   ]
  },
  {
   "cell_type": "code",
   "execution_count": 70,
   "metadata": {},
   "outputs": [
    {
     "data": {
      "text/plain": [
       "<matplotlib.legend.Legend at 0x112f2df98>"
      ]
     },
     "execution_count": 70,
     "metadata": {},
     "output_type": "execute_result"
    },
    {
     "data": {
      "image/png": "[encoded data removed]",
      "text/plain": [
       "<Figure size 432x288 with 1 Axes>"
      ]
     },
     "metadata": {},
     "output_type": "display_data"
    }
   ],
   "source": [
    "for key in slices2pts.keys():\n",
    "    if key != \"distribution\":\n",
    "        w = np.ones_like(slices2pts[key])/float(len(slices2pts[key]))\n",
    "        plt.hist(slices2pts[key], weights=w, bins=np.arange(np.percentile(slices2pts[key], 5), np.percentile(slices2pts[key], 95), 0.05), alpha=0.4, label=key)\n",
    "plt.legend(loc='upper left')  \n",
    "        "
   ]
  },
  {
   "cell_type": "code",
   "execution_count": 101,
   "metadata": {},
   "outputs": [
    {
     "data": {
      "text/plain": [
       "Text(0.5,1,'single point pushing')"
      ]
     },
     "execution_count": 101,
     "metadata": {},
     "output_type": "execute_result"
    },
    {
     "data": {
      "image/png": "[encoded data removed]",
      "text/plain": [
       "<Figure size 432x288 with 1 Axes>"
      ]
     },
     "metadata": {},
     "output_type": "display_data"
    }
   ],
   "source": [
    "policy_lst = list(disks.keys())\n",
    "\n",
    "graph_info = {}\n",
    "\n",
    "for p in policy_lst:\n",
    "    if p != \"distribution\":\n",
    "        graph_info[p] = [[np.mean(disks[p]), np.mean(mids[p]), np.mean(slices[p])], \\\n",
    "                          [np.mean(disks[p]) - np.percentile(disks[p], 5), np.mean(mids[p]) - np.percentile(mids[p], 5), np.mean(slices[p]) - np.percentile(slices[p], 5)], \\\n",
    "                          [np.percentile(disks[p], 95) - np.mean(disks[p]), np.percentile(mids[p], 95) - np.mean(mids[p]), np.percentile(slices[p], 95) - np.mean(slices[p])]]\n",
    "ind = np.arange(3)\n",
    "\n",
    "width = 0.1\n",
    "fig, ax = plt.subplots()\n",
    "for i in range(len(policy_lst)):\n",
    "    if policy_lst[i] != \"distribution\":\n",
    "        rects = ax.bar(ind+width*i, graph_info[policy_lst[i]][0], width, yerr=[graph_info[policy_lst[i]][1], graph_info[policy_lst[i]][2]], label=policy[i])\n",
    "ax.set_ylabel('normalized log separation')\n",
    "ax.set_xticks(ind + width *3.5)\n",
    "ax.set_xticklabels(('Disks', 'In between', 'Slices'))\n",
    "ax.set_title('single point pushing')\n",
    "\n",
    "# ax.legend(loc=\"upper right\")"
   ]
  },
  {
   "cell_type": "code",
   "execution_count": 102,
   "metadata": {},
   "outputs": [
    {
     "data": {
      "text/plain": [
       "Text(0.5,1,'Two points pushing')"
      ]
     },
     "execution_count": 102,
     "metadata": {},
     "output_type": "execute_result"
    },
    {
     "data": {
      "image/png": "[encoded data removed]",
      "text/plain": [
       "<Figure size 432x288 with 1 Axes>"
      ]
     },
     "metadata": {},
     "output_type": "display_data"
    }
   ],
   "source": [
    "policy_lst = list(disks2pts.keys())\n",
    "\n",
    "graph_info = {}\n",
    "\n",
    "for p in policy_lst:\n",
    "    if p != \"distribution\":\n",
    "        graph_info[p] = [[np.mean(disks2pts[p]), np.mean(mids2pts[p]), np.mean(slices2pts[p])], \\\n",
    "                          [np.mean(disks2pts[p]) - np.percentile(disks2pts[p], 5), np.mean(mids2pts[p]) - np.percentile(mids2pts[p], 5), np.mean(slices2pts[p]) - np.percentile(slices2pts[p], 5)], \\\n",
    "                          [np.percentile(disks2pts[p], 95) - np.mean(disks2pts[p]), np.percentile(mids2pts[p], 95) - np.mean(mids2pts[p]), np.percentile(slices2pts[p], 95) - np.mean(slices2pts[p])]]\n",
    "ind = np.arange(3)\n",
    "\n",
    "width = 0.1\n",
    "fig, ax = plt.subplots()\n",
    "for i in range(len(policy_lst)):\n",
    "    if policy_lst[i] != \"distribution\":\n",
    "        rects = ax.bar(ind+width*i, graph_info[policy_lst[i]][0], width, yerr=[graph_info[policy_lst[i]][1], graph_info[policy_lst[i]][2]], label=policy[i])\n",
    "ax.set_ylabel('normalized log separation')\n",
    "ax.set_xticks(ind + width *3.5)\n",
    "ax.set_xticklabels(('Disks', 'In between', 'Slices'))\n",
    "ax.set_title('Two points pushing')\n",
    "\n"
   ]
  },
  {
   "cell_type": "code",
   "execution_count": 103,
   "metadata": {},
   "outputs": [],
   "source": [
    "rand = np.random.randint(0, 99)"
   ]
  },
  {
   "cell_type": "code",
   "execution_count": 141,
   "metadata": {},
   "outputs": [],
   "source": [
    "change_pos_sum = []\n",
    "delta = []\n",
    "first_contact_change_pos = []\n",
    "for i in range(300):\n",
    "    theta1 = ((i % 100) // 10) * 3.14 * 2 / 10\n",
    "    theta2 = (i % 10) * 3.14 * 2 / 10\n",
    "    if abs(abs(theta1 - theta2) - 3.14) < 0.1:\n",
    "        for j in range(100):\n",
    "            try:\n",
    "                with open(\"almost_disk/distribution/\"+str(j)+\"_\"+str(i)+\"summary.json\", 'r') as f:\n",
    "                    dic = json.load(f)\n",
    "                obj_set = set()\n",
    "                obj_set.add(0)\n",
    "                obj_set.add(1)\n",
    "                obj_set.add(2)\n",
    "\n",
    "                first_contact = dic['first contact object']\n",
    "                first_contact_change_pos.append(dic[str(first_contact)+\" change of pos\"])\n",
    "                obj_set.remove(first_contact)\n",
    "                obj_lst = list(obj_set)\n",
    "\n",
    "                s = 0\n",
    "\n",
    "                for obj in obj_lst:\n",
    "                    s += (dic[str(obj)+\" change of pos\"])\n",
    "                change_pos_sum.append(s)\n",
    "\n",
    "                delta.append(dic['mean separation after push'] - dic['mean separation before push'])\n",
    "            except:\n",
    "                continue"
   ]
  },
  {
   "cell_type": "code",
   "execution_count": 142,
   "metadata": {},
   "outputs": [
    {
     "data": {
      "text/plain": [
       "Text(0,0.5,'log of mean separation')"
      ]
     },
     "execution_count": 142,
     "metadata": {},
     "output_type": "execute_result"
    },
    {
     "data": {
      "image/png": "[encoded data removed]",
      "text/plain": [
       "<Figure size 432x288 with 1 Axes>"
      ]
     },
     "metadata": {},
     "output_type": "display_data"
    }
   ],
   "source": [
    "plt.scatter(change_pos_sum, delta)\n",
    "plt.plot(np.unique(change_pos_sum), np.poly1d(np.polyfit(change_pos_sum, delta, 1))(np.unique(change_pos_sum)), 'r')\n",
    "plt.xlabel(\"sum of position change of indirect contact\")\n",
    "plt.ylabel(\"log of mean separation\")"
   ]
  },
  {
   "cell_type": "code",
   "execution_count": 143,
   "metadata": {},
   "outputs": [
    {
     "data": {
      "text/plain": [
       "Text(0,0.5,'position change of push object')"
      ]
     },
     "execution_count": 143,
     "metadata": {},
     "output_type": "execute_result"
    },
    {
     "data": {
      "image/png": "[encoded data removed]",
      "text/plain": [
       "<Figure size 432x288 with 1 Axes>"
      ]
     },
     "metadata": {},
     "output_type": "display_data"
    }
   ],
   "source": [
    "plt.scatter(change_pos_sum, first_contact_change_pos)\n",
    "plt.plot(np.unique(change_pos_sum), np.poly1d(np.polyfit(change_pos_sum, first_contact_change_pos, 1))(np.unique(change_pos_sum)), 'r')\n",
    "plt.xlabel(\"sum of position change of indirect contact\")\n",
    "plt.ylabel(\"position change of push object\")\n"
   ]
  },
  {
   "cell_type": "code",
   "execution_count": 147,
   "metadata": {},
   "outputs": [],
   "source": [
    "change_pos_sum = []\n",
    "delta = []\n",
    "first_contact_change_pos = []\n",
    "for i in range(300):\n",
    "    theta1 = ((i % 100) // 10) * 3.14 * 2 / 10\n",
    "    theta2 = (i % 10) * 3.14 * 2 / 10\n",
    "    if abs(abs(theta1 - theta2) - 3.14) < 0.1:\n",
    "        for j in range(100):\n",
    "            try:\n",
    "                with open(\"almost_disk/distribution_multi_pts/\"+str(j)+\"_\"+str(i)+\"summary.json\", 'r') as f:\n",
    "                    dic = json.load(f)\n",
    "                obj_set = set()\n",
    "                obj_set.add(0)\n",
    "                obj_set.add(1)\n",
    "                obj_set.add(2)\n",
    "\n",
    "                first_contact = dic['first contact object']\n",
    "                first_contact_change_pos.append(dic[str(first_contact)+\" change of pos\"])\n",
    "                obj_set.remove(first_contact)\n",
    "                obj_lst = list(obj_set)\n",
    "\n",
    "                s = 0\n",
    "\n",
    "                for obj in obj_lst:\n",
    "                    s += (dic[str(obj)+\" change of pos\"])\n",
    "                change_pos_sum.append(s)\n",
    "\n",
    "                delta.append(dic['mean separation after push'] - dic['mean separation before push'])\n",
    "            except:\n",
    "                continue"
   ]
  },
  {
   "cell_type": "code",
   "execution_count": 148,
   "metadata": {},
   "outputs": [
    {
     "data": {
      "text/plain": [
       "Text(0,0.5,'log of mean separation')"
      ]
     },
     "execution_count": 148,
     "metadata": {},
     "output_type": "execute_result"
    },
    {
     "data": {
      "image/png": "[encoded data removed]",
      "text/plain": [
       "<Figure size 432x288 with 1 Axes>"
      ]
     },
     "metadata": {},
     "output_type": "display_data"
    }
   ],
   "source": [
    "plt.scatter(change_pos_sum, delta)\n",
    "plt.plot(np.unique(change_pos_sum), np.poly1d(np.polyfit(change_pos_sum, delta, 1))(np.unique(change_pos_sum)), 'r')\n",
    "plt.xlabel(\"sum of position change of indirect contact\")\n",
    "plt.ylabel(\"log of mean separation\")"
   ]
  },
  {
   "cell_type": "code",
   "execution_count": 149,
   "metadata": {},
   "outputs": [
    {
     "data": {
      "text/plain": [
       "Text(0,0.5,'position change of push object')"
      ]
     },
     "execution_count": 149,
     "metadata": {},
     "output_type": "execute_result"
    },
    {
     "data": {
      "image/png": "[encoded data removed]",
      "text/plain": [
       "<Figure size 432x288 with 1 Axes>"
      ]
     },
     "metadata": {},
     "output_type": "display_data"
    }
   ],
   "source": [
    "plt.scatter(change_pos_sum, first_contact_change_pos)\n",
    "plt.plot(np.unique(change_pos_sum), np.poly1d(np.polyfit(change_pos_sum, first_contact_change_pos, 1))(np.unique(change_pos_sum)), 'r')\n",
    "plt.xlabel(\"sum of position change of indirect contact\")\n",
    "plt.ylabel(\"position change of push object\")\n",
    "\n"
   ]
  },
  {
   "cell_type": "code",
   "execution_count": 154,
   "metadata": {},
   "outputs": [
    {
     "data": {
      "text/plain": [
       "(0.8184372523413401, 0.08534371182434501)"
      ]
     },
     "execution_count": 154,
     "metadata": {},
     "output_type": "execute_result"
    }
   ],
   "source": [
    "np.mean(list(disks_object_coverage)), np.std(list(disks_object_coverage))"
   ]
  },
  {
   "cell_type": "code",
   "execution_count": 155,
   "metadata": {},
   "outputs": [
    {
     "data": {
      "text/plain": [
       "(0.6351757737669701, 0.1776490973924143)"
      ]
     },
     "execution_count": 155,
     "metadata": {},
     "output_type": "execute_result"
    }
   ],
   "source": [
    "np.mean(list(mids_object_coverage)), np.std(list(mids_object_coverage))"
   ]
  },
  {
   "cell_type": "code",
   "execution_count": 156,
   "metadata": {},
   "outputs": [
    {
     "data": {
      "text/plain": [
       "(0.2447801255117225, 0.10807206413565815)"
      ]
     },
     "execution_count": 156,
     "metadata": {},
     "output_type": "execute_result"
    }
   ],
   "source": [
    "np.mean(list(slices_object_coverage)), np.std(list(slices_object_coverage))"
   ]
  },
  {
   "cell_type": "code",
   "execution_count": null,
   "metadata": {},
   "outputs": [],
   "source": []
  }
 ],
 "metadata": {
  "kernelspec": {
   "display_name": "Python 3",
   "language": "python",
   "name": "python3"
  },
  "language_info": {
   "codemirror_mode": {
    "name": "ipython",
    "version": 3
   },
   "file_extension": ".py",
   "mimetype": "text/x-python",
   "name": "python",
   "nbconvert_exporter": "python",
   "pygments_lexer": "ipython3",
   "version": "3.6.6"
  }
 },
 "nbformat": 4,
 "nbformat_minor": 2
}
