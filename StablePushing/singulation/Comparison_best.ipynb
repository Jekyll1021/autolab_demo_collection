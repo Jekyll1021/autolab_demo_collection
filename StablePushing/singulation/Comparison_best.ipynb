{
 "cells": [
  {
   "cell_type": "code",
   "execution_count": 1,
   "metadata": {},
   "outputs": [],
   "source": [
    "%matplotlib inline\n",
    "\n",
    "import json\n",
    "import numpy as np\n",
    "import matplotlib.pyplot as plt\n",
    "import os"
   ]
  },
  {
   "cell_type": "code",
   "execution_count": 3,
   "metadata": {},
   "outputs": [],
   "source": [
    "baseline = []\n",
    "select = []\n",
    "select2 = []\n",
    "distribution = []\n",
    "distribution_two_points = []\n",
    "distribution_area = []\n",
    "boundary_shear = []\n",
    "select3=[]\n",
    "select3_min=[]\n",
    "select3_max = []\n",
    "# non_slip = []\n",
    "\n",
    "for filename in os.listdir(\"comparison_all/baseline\"):\n",
    "    try:\n",
    "        if len(filename.split(\".\"))!=2 or filename.split(\".\")[1]!=\"json\":\n",
    "            continue\n",
    "        with open(\"comparison_all/baseline/\"+filename, 'r') as f:\n",
    "            dic = json.load(f)\n",
    "        baseline.append(dic['mean separation after push'] - dic['mean separation before push'])\n",
    "    except:\n",
    "        continue\n",
    "\n",
    "for filename in os.listdir(\"comparison_all/selected\"):\n",
    "    try:\n",
    "        if len(filename.split(\".\"))!=2 or filename.split(\".\")[1]!=\"json\":\n",
    "            continue\n",
    "        with open(\"comparison_all/selected/\"+filename, 'r') as f:\n",
    "            dic = json.load(f)\n",
    "        select.append(dic['mean separation after push'] - dic['mean separation before push'])\n",
    "    except:\n",
    "        continue\n",
    "\n",
    "for filename in os.listdir(\"comparison_all/selected2\"):\n",
    "    try:\n",
    "        if len(filename.split(\".\"))!=2 or filename.split(\".\")[1]!=\"json\":\n",
    "            continue\n",
    "        with open(\"comparison_all/selected2/\"+filename, 'r') as f:\n",
    "            dic = json.load(f)\n",
    "        select2.append(dic['mean separation after push'] - dic['mean separation before push'])\n",
    "    except:\n",
    "        continue\n",
    "\n",
    "for filename in os.listdir(\"comparison_all/distribution\"):\n",
    "    try:\n",
    "        if len(filename.split(\".\"))!=2 or filename.split(\".\")[1]!=\"json\":\n",
    "            continue\n",
    "        with open(\"comparison_all/distribution/\"+filename, 'r') as f:\n",
    "            dic = json.load(f)\n",
    "    #     if dic['first contact object'] != -1:\n",
    "    #         non_slip.append(dic['mean separation after push'] - dic['mean separation before push'])\n",
    "        distribution.append(dic['mean separation after push'] - dic['mean separation before push'])\n",
    "    except:\n",
    "        continue\n",
    "\n",
    "for filename in os.listdir(\"comparison_all/boundary_shear\"):\n",
    "    try:\n",
    "        if len(filename.split(\".\"))!=2 or filename.split(\".\")[1]!=\"json\":\n",
    "            continue\n",
    "        with open(\"comparison_all/boundary_shear/\"+filename, 'r') as f:\n",
    "            dic = json.load(f)\n",
    "        boundary_shear.append(dic['mean separation after push'] - dic['mean separation before push'])\n",
    "    except:\n",
    "        continue\n",
    "\n",
    "for filename in os.listdir(\"comparison_all/distribution_multi_pts\"):\n",
    "    try:\n",
    "        if len(filename.split(\".\"))!=2 or filename.split(\".\")[1]!=\"json\":\n",
    "            continue\n",
    "        with open(\"comparison_all/distribution_multi_pts/\"+filename, 'r') as f:\n",
    "            dic = json.load(f)\n",
    "        distribution_two_points.append(dic['mean separation after push'] - dic['mean separation before push'])\n",
    "    except:\n",
    "        continue\n",
    "\n",
    "for filename in os.listdir(\"comparison_all/distribution_area\"):\n",
    "    try:\n",
    "        if len(filename.split(\".\"))!=2 or filename.split(\".\")[1]!=\"json\":\n",
    "            continue\n",
    "        with open(\"comparison_all/distribution_area/\"+filename, 'r') as f:\n",
    "            dic = json.load(f)\n",
    "        distribution_area.append(dic['mean separation after push'] - dic['mean separation before push'])\n",
    "    except:\n",
    "        continue\n",
    "\n",
    "for filename in os.listdir(\"comparison_all/selected3\"):\n",
    "    try:\n",
    "        if len(filename.split(\".\"))!=2 or filename.split(\".\")[1]!=\"json\":\n",
    "            continue\n",
    "        with open(\"comparison_all/selected3/\"+filename, 'r') as f:\n",
    "            dic = json.load(f)\n",
    "        select3.append(dic['mean separation after push'] - dic['mean separation before push'])\n",
    "    except:\n",
    "        continue\n",
    "\n",
    "for filename in os.listdir(\"comparison_all/selected3_double_max\"):\n",
    "    try:\n",
    "        if len(filename.split(\".\"))!=2 or filename.split(\".\")[1]!=\"json\":\n",
    "            continue\n",
    "        with open(\"comparison_all/selected3_double_max/\"+filename, 'r') as f:\n",
    "            dic = json.load(f)\n",
    "        select3_max.append(dic['mean separation after push'] - dic['mean separation before push'])\n",
    "    except:\n",
    "        continue\n",
    "        \n",
    "for filename in os.listdir(\"comparison_all/selected3_double_min\"):\n",
    "    try:\n",
    "        if len(filename.split(\".\"))!=2 or filename.split(\".\")[1]!=\"json\":\n",
    "            continue\n",
    "        with open(\"comparison_all/selected3_double_min/\"+filename, 'r') as f:\n",
    "            dic = json.load(f)\n",
    "        select3_min.append(dic['mean separation after push'] - dic['mean separation before push'])\n",
    "    except:\n",
    "        continue"
   ]
  },
  {
   "cell_type": "code",
   "execution_count": 46,
   "metadata": {},
   "outputs": [
    {
     "data": {
      "text/plain": [
       "<matplotlib.legend.Legend at 0x11e4225f8>"
      ]
     },
     "execution_count": 46,
     "metadata": {},
     "output_type": "execute_result"
    },
    {
     "data": {
      "image/png": "[encoded data removed]",
      "text/plain": [
       "<Figure size 432x288 with 1 Axes>"
      ]
     },
     "metadata": {},
     "output_type": "display_data"
    }
   ],
   "source": [
    "weights = np.ones_like(distribution)/float(len(distribution))\n",
    "plt.hist(distribution, weights=weights, bins=np.arange(-1.3, 4.3, 0.2), alpha=0.4, label=\"overall distribution\")\n",
    "weights2 = np.ones_like(baseline)/float(len(baseline))\n",
    "plt.hist(baseline, weights=weights2, bins=np.arange(-1.3, 4.3, 0.2), alpha=0.4, label=\"baseline\")\n",
    "weights3 = np.ones_like(select)/float(len(select))\n",
    "plt.hist(select, weights=weights3, bins=np.arange(-1.3, 4.3, 0.2), alpha=0.4, label=\"select method 1\")\n",
    "weights4 = np.ones_like(select2)/float(len(select2))\n",
    "plt.hist(select2, weights=weights4, bins=np.arange(-1.3, 4.3, 0.2), alpha=0.4, label=\"select method 2\")\n",
    "weights5 = np.ones_like(boundary_shear)/float(len(boundary_shear))\n",
    "plt.hist(boundary_shear, weights=weights5, bins=np.arange(-1.3, 4.3, 0.2), alpha=0.4, label=\"boundary shear\")\n",
    "weights6 = np.ones_like(select3)/float(len(select3))\n",
    "plt.hist(select3, weights=weights6, bins=np.arange(-1.3, 4.3, 0.2), alpha=0.4, label=\"select method 3\")\n",
    "weights7 = np.ones_like(select3_min)/float(len(select3_min))\n",
    "plt.hist(select3_min, weights=weights7, bins=np.arange(-1.3, 4.3, 0.2), alpha=0.4, label=\"double pts min contact\")\n",
    "weights8 = np.ones_like(select3_max)/float(len(select3_max))\n",
    "plt.hist(select3_max, weights=weights8, bins=np.arange(-1.3, 4.3, 0.2), alpha=0.4, label=\"double pts max contact\")\n",
    "weights9 = np.ones_like(distribution_two_points)/float(len(distribution_two_points))\n",
    "plt.hist(distribution_two_points, weights=weights9, bins=np.arange(-1.3, 4.3, 0.2), alpha=0.4, label=\"double pts overall\")\n",
    "plt.legend(loc='upper left')"
   ]
  },
  {
   "cell_type": "code",
   "execution_count": 48,
   "metadata": {},
   "outputs": [
    {
     "data": {
      "text/plain": [
       "<matplotlib.legend.Legend at 0x11ea10be0>"
      ]
     },
     "execution_count": 48,
     "metadata": {},
     "output_type": "execute_result"
    },
    {
     "data": {
      "image/png": "[encoded data removed]",
      "text/plain": [
       "<Figure size 432x288 with 1 Axes>"
      ]
     },
     "metadata": {},
     "output_type": "display_data"
    }
   ],
   "source": [
    "weights2 = np.ones_like(baseline)/float(len(baseline))\n",
    "plt.hist(baseline, weights=weights2, bins=np.arange(0, 4.3, 0.1), alpha=0.4, label=\"baseline\")\n",
    "weights3 = np.ones_like(select)/float(len(select))\n",
    "plt.hist(select, weights=weights3, bins=np.arange(0, 4.3, 0.1), alpha=0.4, label=\"select method 1\")\n",
    "weights4 = np.ones_like(select2)/float(len(select2))\n",
    "plt.hist(select2, weights=weights4, bins=np.arange(0, 4.3, 0.1), alpha=0.4, label=\"select method 2\")\n",
    "weights5 = np.ones_like(boundary_shear)/float(len(boundary_shear))\n",
    "plt.hist(boundary_shear, weights=weights5, bins=np.arange(0, 4.3, 0.1), alpha=0.4, label=\"boundary shear\")\n",
    "weights6 = np.ones_like(select3)/float(len(select3))\n",
    "plt.hist(select3, weights=weights6, bins=np.arange(0, 4.3, 0.1), alpha=0.4, label=\"select method 3\")\n",
    "weights7 = np.ones_like(optimal_final)/float(len(optimal_final))\n",
    "plt.hist(optimal_final, weights=weights7, bins=np.arange(0.0, 6, 0.15), alpha=1, label=\"overall best\")\n",
    "plt.legend(loc='upper left')"
   ]
  },
  {
   "cell_type": "code",
   "execution_count": 8,
   "metadata": {},
   "outputs": [
    {
     "data": {
      "text/plain": [
       "<BarContainer object of 5 artists>"
      ]
     },
     "execution_count": 8,
     "metadata": {},
     "output_type": "execute_result"
    },
    {
     "data": {
      "image/png": "[encoded data removed]",
      "text/plain": [
       "<Figure size 432x288 with 1 Axes>"
      ]
     },
     "metadata": {},
     "output_type": "display_data"
    }
   ],
   "source": [
    "means = (np.mean(baseline), np.mean(select), np.mean(select2), np.mean(boundary_shear), np.mean(select3))\n",
    "std = (np.std(baseline), np.std(select), np.std(select2), np.std(boundary_shear), np.std(select3))\n",
    "\n",
    "plt.bar((10, 20, 30, 40, 50), means, yerr=std, width=4)"
   ]
  },
  {
   "cell_type": "code",
   "execution_count": 59,
   "metadata": {},
   "outputs": [
    {
     "data": {
      "text/plain": [
       "[3.4803709162526038,\n",
       " 2.5904953379527482,\n",
       " 2.8832818069163064,\n",
       " 2.3735707087095728,\n",
       " 3.2613471795554663,\n",
       " 3.078430791720898,\n",
       " 3.3846519003818902,\n",
       " 2.825752942474735,\n",
       " 3.0580974672906023,\n",
       " 1.871140373098,\n",
       " 3.2973860983026793,\n",
       " 3.0822951527154654,\n",
       " 2.911603030013348,\n",
       " 2.4179444822358187,\n",
       " 2.9321246634379357,\n",
       " 3.3751689181655515,\n",
       " 2.9621917329004877,\n",
       " 3.0105809721013532,\n",
       " 2.3833127194337043,\n",
       " 2.6177541495150396,\n",
       " 3.051447870415969,\n",
       " 2.9840495038402786,\n",
       " 2.9896317072043637,\n",
       " 2.661312729841899,\n",
       " 2.854280509173412,\n",
       " 3.146643238885549,\n",
       " 2.7304949043926436,\n",
       " 2.686111256292209,\n",
       " 2.9539883211563263,\n",
       " 3.3699186051216174,\n",
       " 2.9440701712687343,\n",
       " 2.936101253206998,\n",
       " 2.606593009784925,\n",
       " 2.943029592400107,\n",
       " 2.4895479587617406,\n",
       " 2.5193198825982175,\n",
       " 3.230262027383575,\n",
       " 2.955772971094871,\n",
       " 2.9903584362762468,\n",
       " 2.9032049057597327,\n",
       " 4.102591366731234,\n",
       " 3.193559819134904,\n",
       " 3.3298874663490343,\n",
       " 3.093082264583038,\n",
       " 3.084153775550745,\n",
       " 3.1777924942300713,\n",
       " 3.05063440591083,\n",
       " 3.4760794856769257,\n",
       " 3.13390544134286,\n",
       " 2.8234535681486967,\n",
       " 3.2208280877524498,\n",
       " 3.3947385500257057,\n",
       " 3.466363584193175,\n",
       " 2.875618583684208,\n",
       " 2.775295560079131,\n",
       " 3.008353797570329,\n",
       " 2.285054390126132,\n",
       " 3.001838519593929,\n",
       " 3.0374853664344674,\n",
       " 2.4839789592291455,\n",
       " 2.9327290857486124,\n",
       " 2.8799488686707475,\n",
       " 2.5415053199850073,\n",
       " 3.1105447631970247,\n",
       " 2.51203317334748,\n",
       " 2.39858290475624,\n",
       " 2.61372530157154,\n",
       " 3.1100565487023717,\n",
       " 3.108911571731566,\n",
       " 2.2343889567326904,\n",
       " 2.5658168821598832,\n",
       " 3.0904325584862162,\n",
       " 3.1410058733937465,\n",
       " 3.175695268516864,\n",
       " 3.3147839320975887,\n",
       " 3.3848393339218577,\n",
       " 2.6948690635262738,\n",
       " 2.9125065919582083,\n",
       " 2.5300896713817402]"
      ]
     },
     "execution_count": 59,
     "metadata": {},
     "output_type": "execute_result"
    }
   ],
   "source": [
    "baseline_best = {}\n",
    "for filename in os.listdir(\"comparison_all/baseline\"):\n",
    "    try:\n",
    "        if len(filename.split(\".\"))!=2 or filename.split(\".\")[1]!=\"json\":\n",
    "            continue\n",
    "        with open(\"comparison_all/baseline/\"+filename, 'r') as f:\n",
    "            dic = json.load(f)\n",
    "        key = filename.split(\"_\")[0]\n",
    "        if not key in baseline_best.keys():\n",
    "            baseline_best[key] = dic['mean separation after push'] - dic['mean separation before push']\n",
    "        elif baseline_best[key] < dic['mean separation after push'] - dic['mean separation before push']:\n",
    "            baseline_best[key] = dic['mean separation after push'] - dic['mean separation before push']\n",
    "    except:\n",
    "        continue\n",
    "baseline_final = [baseline_best[key] for key in baseline_best.keys()]\n",
    "baseline_final"
   ]
  },
  {
   "cell_type": "code",
   "execution_count": 61,
   "metadata": {},
   "outputs": [],
   "source": [
    "selected_best = {}\n",
    "for filename in os.listdir(\"comparison_all/selected\"):\n",
    "    try:\n",
    "        if len(filename.split(\".\"))!=2 or filename.split(\".\")[1]!=\"json\":\n",
    "            continue\n",
    "        with open(\"comparison_all/selected/\"+filename, 'r') as f:\n",
    "            dic = json.load(f)\n",
    "        key = filename.split(\"_\")[0]\n",
    "        if not key in selected_best.keys():\n",
    "            selected_best[key] = dic['mean separation after push'] - dic['mean separation before push']\n",
    "        elif selected_best[key] < dic['mean separation after push'] - dic['mean separation before push']:\n",
    "            selected_best[key] = dic['mean separation after push'] - dic['mean separation before push']\n",
    "    except:\n",
    "        continue\n",
    "        \n",
    "selected_final = [selected_best[key] for key in selected_best.keys()]"
   ]
  },
  {
   "cell_type": "code",
   "execution_count": 62,
   "metadata": {},
   "outputs": [],
   "source": [
    "selected2_best = {}\n",
    "for filename in os.listdir(\"comparison_all/selected2\"):\n",
    "    try:\n",
    "        if len(filename.split(\".\"))!=2 or filename.split(\".\")[1]!=\"json\":\n",
    "            continue\n",
    "        with open(\"comparison_all/selected2/\"+filename, 'r') as f:\n",
    "            dic = json.load(f)\n",
    "        key = filename.split(\"_\")[0]\n",
    "        if not key in selected2_best.keys():\n",
    "            selected2_best[key] = dic['mean separation after push'] - dic['mean separation before push']\n",
    "        elif selected2_best[key] < dic['mean separation after push'] - dic['mean separation before push']:\n",
    "            selected2_best[key] = dic['mean separation after push'] - dic['mean separation before push']\n",
    "    except:\n",
    "        continue\n",
    "        \n",
    "selected2_final = [selected2_best[key] for key in selected2_best.keys()]"
   ]
  },
  {
   "cell_type": "code",
   "execution_count": 63,
   "metadata": {},
   "outputs": [],
   "source": [
    "boundary_shear_all = {}\n",
    "\n",
    "for filename in os.listdir(\"comparison_all/boundary_shear\"):\n",
    "    try:\n",
    "        if len(filename.split(\".\"))!=2 or filename.split(\".\")[1]!=\"json\":\n",
    "            continue\n",
    "        with open(\"comparison_all/boundary_shear/\"+filename, 'r') as f:\n",
    "            dic = json.load(f)\n",
    "        key = filename.split(\"_\")[0]\n",
    "        if not key in boundary_shear_all.keys():\n",
    "            boundary_shear_all[key] = [dic[str(push_object)+\" change of pos\"], dic['mean separation after push'] - dic['mean separation before push'], filename]\n",
    "        elif boundary_shear_all[key][0] < dic[str(push_object)+\" change of pos\"]:\n",
    "            boundary_shear_all[key] = [dic[str(push_object)+\" change of pos\"], dic['mean separation after push'] - dic['mean separation before push'], filename]\n",
    "    except:\n",
    "        continue"
   ]
  },
  {
   "cell_type": "code",
   "execution_count": 66,
   "metadata": {},
   "outputs": [
    {
     "data": {
      "text/plain": [
       "<matplotlib.legend.Legend at 0x11f9b54e0>"
      ]
     },
     "execution_count": 66,
     "metadata": {},
     "output_type": "execute_result"
    },
    {
     "data": {
      "image/png": "[encoded data removed]",
      "text/plain": [
       "<Figure size 432x288 with 1 Axes>"
      ]
     },
     "metadata": {},
     "output_type": "display_data"
    }
   ],
   "source": [
    "weights2 = np.ones_like(baseline_final)/float(len(baseline_final))\n",
    "plt.hist(baseline_final, weights=weights2, bins=np.arange(0.0, 4.5, 0.15), alpha=0.3, label=\"baseline\")\n",
    "weights3 = np.ones_like(selected_final)/float(len(selected_final))\n",
    "plt.hist(selected_final, weights=weights3, bins=np.arange(0.0, 4.5, 0.15), alpha=0.3, label=\"select method 1\")\n",
    "weights4 = np.ones_like(selected2_final)/float(len(selected2_final))\n",
    "plt.hist(selected2_final, weights=weights4, bins=np.arange(0.0, 4.5, 0.15), alpha=0.3, label=\"select method 2\")\n",
    "weights5 = np.ones_like(boundary_shear)/float(len(boundary_shear))\n",
    "plt.hist(boundary_shear, weights=weights5, bins=np.arange(0.0, 4.5, 0.15), alpha=0.3, label=\"method 3\")\n",
    "weights = np.ones_like(select3)/float(len(select3))\n",
    "plt.hist(select3, weights=weights, bins=np.arange(0.0, 4.5, 0.15), alpha=0.3, label=\"boundary shear\")\n",
    "weights6 = np.ones_like(optimal_final)/float(len(optimal_final))\n",
    "plt.hist(optimal_final, weights=weights6, bins=np.arange(0.0, 4.5, 0.15), alpha=1, label=\"overall best\")\n",
    "plt.legend(loc='upper left')"
   ]
  },
  {
   "cell_type": "code",
   "execution_count": 67,
   "metadata": {},
   "outputs": [],
   "source": [
    "overall = {}\n",
    "proposed_method = {}\n",
    "\n",
    "for key in baseline_best.keys():\n",
    "    if not key in overall.keys():\n",
    "        overall[key] = baseline_best[key]\n",
    "    elif overall[key] < baseline_best[key]:\n",
    "        overall[key] = baseline_best[key]\n",
    "    if not key in proposed_method.keys():\n",
    "        proposed_method[key] = baseline_best[key]\n",
    "    elif proposed_method[key][1] < baseline_best[key]:\n",
    "        proposed_method[key] = baseline_best[key]\n",
    "        \n",
    "for key in selected_best.keys():\n",
    "    if not key in overall.keys():\n",
    "        overall[key] = selected_best[key]\n",
    "    elif overall[key] < selected_best[key]:\n",
    "        overall[key] = selected_best[key]\n",
    "        \n",
    "for key in selected2_best.keys():\n",
    "    if not key in overall.keys():\n",
    "        overall[key] = selected2_best[key]\n",
    "    elif overall[key] < selected2_best[key]:\n",
    "        overall[key] = selected2_best[key]\n",
    "\n",
    "for key in boundary_shear_all.keys():\n",
    "    if not key in overall.keys():\n",
    "        overall[key] = boundary_shear_all[key]\n",
    "    elif overall[key] < boundary_shear_all[key][1]:\n",
    "        overall[key] = boundary_shear_all[key]\n",
    "#     if not key in proposed_method.keys():\n",
    "#         proposed_method[key] = boundary_shear_all[key]\n",
    "#     elif proposed_method[key][1] < boundary_shear_all[key][1]:\n",
    "#         proposed_method[key] = boundary_shear_all[key]\n",
    "\n",
    "overall_final = [overall[key] for key in overall.keys()]\n",
    "proposed_final = [proposed_method[key] for key in proposed_method.keys()]"
   ]
  },
  {
   "cell_type": "code",
   "execution_count": 68,
   "metadata": {},
   "outputs": [],
   "source": [
    "optimal = {}\n",
    "for filename in os.listdir(\"comparison_all/distribution\"):\n",
    "    try:\n",
    "        if len(filename.split(\".\"))!=2 or filename.split(\".\")[1]!=\"json\":\n",
    "            continue\n",
    "        with open(\"comparison_all/distribution/\"+filename, 'r') as f:\n",
    "            dic = json.load(f)\n",
    "        key = filename.split(\"_\")[0]\n",
    "        if not key in optimal.keys():\n",
    "            optimal[key] = [dic['mean separation after push'] - dic['mean separation before push'], filename]\n",
    "        elif optimal[key][0] < dic['mean separation after push'] - dic['mean separation before push']:\n",
    "            optimal[key] = [dic['mean separation after push'] - dic['mean separation before push'], filename]\n",
    "    except:\n",
    "        continue\n",
    "optimal_final = [optimal[key][0] for key in optimal.keys()]"
   ]
  },
  {
   "cell_type": "code",
   "execution_count": 76,
   "metadata": {},
   "outputs": [
    {
     "data": {
      "text/plain": [
       "<matplotlib.legend.Legend at 0x120dc0b38>"
      ]
     },
     "execution_count": 76,
     "metadata": {},
     "output_type": "execute_result"
    },
    {
     "data": {
      "image/png": "[encoded data removed]",
      "text/plain": [
       "<Figure size 432x288 with 1 Axes>"
      ]
     },
     "metadata": {},
     "output_type": "display_data"
    }
   ],
   "source": [
    "weights2 = np.ones_like(baseline_final)/float(len(baseline_final))\n",
    "plt.hist(baseline_final, weights=weights2, bins=np.arange(0.0, 6, 0.15), alpha=0.3, label=\"proposed method\")\n",
    "weights3 = np.ones_like(selected_final)/float(len(selected_final))\n",
    "plt.hist(selected_final, weights=weights3, bins=np.arange(0.0, 6, 0.15), alpha=0.3, label=\"select method 1\")\n",
    "weights4 = np.ones_like(selected2_final)/float(len(selected2_final))\n",
    "plt.hist(selected2_final, weights=weights4, bins=np.arange(0.0, 6, 0.15), alpha=0.3, label=\"select method 2\")\n",
    "weights5 = np.ones_like(boundary_shear)/float(len(boundary_shear))\n",
    "plt.hist(boundary_shear, weights=weights5, bins=np.arange(0.0, 6, 0.15), alpha=0.3, label=\"boundary shear\")\n",
    "weights6 = np.ones_like(optimal_final)/float(len(optimal_final))\n",
    "plt.hist(optimal_final, weights=weights6, bins=np.arange(0.0, 6, 0.15), alpha=1, label=\"overall best\")\n",
    "plt.legend(loc='upper left')"
   ]
  },
  {
   "cell_type": "code",
   "execution_count": 77,
   "metadata": {},
   "outputs": [
    {
     "data": {
      "text/plain": [
       "<matplotlib.legend.Legend at 0x120f35a90>"
      ]
     },
     "execution_count": 77,
     "metadata": {},
     "output_type": "execute_result"
    },
    {
     "data": {
      "image/png": "[encoded data removed]",
      "text/plain": [
       "<Figure size 432x288 with 1 Axes>"
      ]
     },
     "metadata": {},
     "output_type": "display_data"
    }
   ],
   "source": [
    "weights5 = np.ones_like(overall_final)/float(len(overall_final))\n",
    "plt.hist(overall_final, weights=weights5, bins=np.arange(1.5, 5.3, 0.1), alpha=0.4, label=\"ensemble\")\n",
    "weights4 = np.ones_like(proposed_final)/float(len(proposed_final))\n",
    "plt.hist(proposed_final, weights=weights4, bins=np.arange(1.5, 5.3, 0.1), alpha=0.4, label=\"proposed\")\n",
    "weights6 = np.ones_like(optimal_final)/float(len(optimal_final))\n",
    "plt.hist(optimal_final, weights=weights6, bins=np.arange(1.5, 5.3, 0.1), alpha=0.4, label=\"optimal over 300\")\n",
    "plt.legend(loc='upper left')"
   ]
  },
  {
   "cell_type": "code",
   "execution_count": 71,
   "metadata": {},
   "outputs": [
    {
     "data": {
      "text/plain": [
       "<matplotlib.legend.Legend at 0x120655d30>"
      ]
     },
     "execution_count": 71,
     "metadata": {},
     "output_type": "execute_result"
    },
    {
     "data": {
      "image/png": "[encoded data removed]",
      "text/plain": [
       "<Figure size 432x288 with 1 Axes>"
      ]
     },
     "metadata": {},
     "output_type": "display_data"
    }
   ],
   "source": [
    "weights = np.ones_like(distribution_two_points)/float(len(distribution_two_points))\n",
    "plt.hist(distribution_two_points, weights=weights, bins=np.arange(-1.3, 5.5, 0.2), alpha=0.4, label=\"overall distribution 2 pts\")\n",
    "weights2 = np.ones_like(select3_min)/float(len(select3_min))\n",
    "plt.hist(select3_min, weights=weights2, bins=np.arange(-1.3, 5.5, 0.2), alpha=0.4, label=\"2 pts minimal contact with other objects\")\n",
    "weights3 = np.ones_like(select3_max)/float(len(select3_max))\n",
    "plt.hist(select3_max, weights=weights3, bins=np.arange(-1.3, 5.5, 0.2), alpha=0.4, label=\"2 pts maximal contact with other objects\")\n",
    "plt.legend(loc='upper left')"
   ]
  },
  {
   "cell_type": "code",
   "execution_count": 72,
   "metadata": {},
   "outputs": [],
   "source": [
    "optimal = {}\n",
    "for filename in os.listdir(\"comparison_all/distribution_multi_pts\"):\n",
    "    try:\n",
    "        if len(filename.split(\".\"))!=2 or filename.split(\".\")[1]!=\"json\":\n",
    "            continue\n",
    "        with open(\"comparison_all/distribution_multi_pts/\"+filename, 'r') as f:\n",
    "            dic = json.load(f)\n",
    "        key = filename.split(\"_\")[0]\n",
    "        if not key in optimal.keys():\n",
    "            optimal[key] = [dic['mean separation after push'] - dic['mean separation before push'], filename]\n",
    "        elif optimal[key][0] < dic['mean separation after push'] - dic['mean separation before push']:\n",
    "            optimal[key] = [dic['mean separation after push'] - dic['mean separation before push'], filename]\n",
    "    except:\n",
    "        continue\n",
    "optimal_final = [optimal[key][0] for key in optimal.keys()]"
   ]
  },
  {
   "cell_type": "code",
   "execution_count": 73,
   "metadata": {},
   "outputs": [
    {
     "data": {
      "text/plain": [
       "<matplotlib.legend.Legend at 0x1205ba080>"
      ]
     },
     "execution_count": 73,
     "metadata": {},
     "output_type": "execute_result"
    },
    {
     "data": {
      "image/png": "[encoded data removed]",
      "text/plain": [
       "<Figure size 432x288 with 1 Axes>"
      ]
     },
     "metadata": {},
     "output_type": "display_data"
    }
   ],
   "source": [
    "weights = np.ones_like(optimal_final)/float(len(optimal_final))\n",
    "plt.hist(optimal_final, weights=weights, bins=np.arange(-1.3, 5.5, 0.2), alpha=0.4, label=\"best 2 pts\")\n",
    "weights2 = np.ones_like(select3_min)/float(len(select3_min))\n",
    "plt.hist(select3_min, weights=weights2, bins=np.arange(-1.3, 5.5, 0.2), alpha=0.4, label=\"2 pts minimal contact with other objects\")\n",
    "weights3 = np.ones_like(select3_max)/float(len(select3_max))\n",
    "plt.hist(select3_max, weights=weights3, bins=np.arange(-1.3, 5.5, 0.2), alpha=0.4, label=\"2 pts maximal contact with other objects\")\n",
    "plt.legend(loc='upper left')"
   ]
  },
  {
   "cell_type": "code",
   "execution_count": null,
   "metadata": {},
   "outputs": [],
   "source": []
  }
 ],
 "metadata": {
  "kernelspec": {
   "display_name": "Python 3",
   "language": "python",
   "name": "python3"
  },
  "language_info": {
   "codemirror_mode": {
    "name": "ipython",
    "version": 3
   },
   "file_extension": ".py",
   "mimetype": "text/x-python",
   "name": "python",
   "nbconvert_exporter": "python",
   "pygments_lexer": "ipython3",
   "version": "3.6.6"
  }
 },
 "nbformat": 4,
 "nbformat_minor": 2
}
