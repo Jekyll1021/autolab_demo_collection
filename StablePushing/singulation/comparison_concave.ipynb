{
 "cells": [
  {
   "cell_type": "code",
   "execution_count": 1,
   "metadata": {},
   "outputs": [],
   "source": [
    "%matplotlib inline\n",
    "\n",
    "import json\n",
    "import numpy as np\n",
    "import matplotlib.pyplot as plt\n",
    "import os\n",
    "\n",
    "from helper import *"
   ]
  },
  {
   "cell_type": "code",
   "execution_count": 2,
   "metadata": {},
   "outputs": [],
   "source": [
    "baseline = []\n",
    "select = []\n",
    "select2 = []\n",
    "distribution = []\n",
    "boundary_shear = []\n",
    "# non_slip = []\n",
    "\n",
    "for filename in os.listdir(\"comparison_concave/baseline\"):\n",
    "    if len(filename.split(\".\"))!=2 or filename.split(\".\")[1]!=\"json\":\n",
    "        continue\n",
    "    with open(\"comparison_concave/baseline/\"+filename, 'r') as f:\n",
    "        dic = json.load(f)\n",
    "    baseline.append(dic['mean separation after push'] - dic['mean separation before push'])\n",
    "\n",
    "for filename in os.listdir(\"comparison_concave/selected\"):\n",
    "    if len(filename.split(\".\"))!=2 or filename.split(\".\")[1]!=\"json\":\n",
    "        continue\n",
    "    with open(\"comparison_concave/selected/\"+filename, 'r') as f:\n",
    "        dic = json.load(f)\n",
    "    select.append(dic['mean separation after push'] - dic['mean separation before push'])\n",
    "\n",
    "for filename in os.listdir(\"comparison_concave/selected2\"):\n",
    "    if len(filename.split(\".\"))!=2 or filename.split(\".\")[1]!=\"json\":\n",
    "        continue\n",
    "    with open(\"comparison_concave/selected2/\"+filename, 'r') as f:\n",
    "        dic = json.load(f)\n",
    "    select2.append(dic['mean separation after push'] - dic['mean separation before push'])\n",
    "\n",
    "for filename in os.listdir(\"comparison_concave/distribution\"):\n",
    "    if len(filename.split(\".\"))!=2 or filename.split(\".\")[1]!=\"json\":\n",
    "        continue\n",
    "    with open(\"comparison_concave/distribution/\"+filename, 'r') as f:\n",
    "        dic = json.load(f)\n",
    "#     if dic['first contact object'] != -1:\n",
    "#         non_slip.append(dic['mean separation after push'] - dic['mean separation before push'])\n",
    "    distribution.append(dic['mean separation after push'] - dic['mean separation before push'])\n",
    "\n",
    "for filename in os.listdir(\"comparison_concave/boundary_shear\"):\n",
    "    if len(filename.split(\".\"))!=2 or filename.split(\".\")[1]!=\"json\":\n",
    "        continue\n",
    "    with open(\"comparison_concave/boundary_shear/\"+filename, 'r') as f:\n",
    "        dic = json.load(f)\n",
    "    boundary_shear.append(dic['mean separation after push'] - dic['mean separation before push'])"
   ]
  },
  {
   "cell_type": "code",
   "execution_count": 3,
   "metadata": {},
   "outputs": [
    {
     "data": {
      "text/plain": [
       "<matplotlib.legend.Legend at 0x110300550>"
      ]
     },
     "execution_count": 3,
     "metadata": {},
     "output_type": "execute_result"
    },
    {
     "data": {
      "image/png": "[encoded data removed]",
      "text/plain": [
       "<Figure size 432x288 with 1 Axes>"
      ]
     },
     "metadata": {},
     "output_type": "display_data"
    }
   ],
   "source": [
    "weights = np.ones_like(distribution)/float(len(distribution))\n",
    "plt.hist(distribution, weights=weights, bins=np.arange(-1.3, 4.3, 0.2), alpha=0.4, label=\"overall distribution\")\n",
    "weights2 = np.ones_like(baseline)/float(len(baseline))\n",
    "plt.hist(baseline, weights=weights2, bins=np.arange(-1.3, 4.3, 0.2), alpha=0.4, label=\"baseline\")\n",
    "weights3 = np.ones_like(select)/float(len(select))\n",
    "plt.hist(select, weights=weights3, bins=np.arange(-1.3, 4.3, 0.2), alpha=0.4, label=\"select method 1\")\n",
    "weights4 = np.ones_like(select2)/float(len(select2))\n",
    "plt.hist(select2, weights=weights4, bins=np.arange(-1.3, 4.3, 0.2), alpha=0.4, label=\"select method 2\")\n",
    "weights1 = np.ones_like(boundary_shear)/float(len(boundary_shear))\n",
    "plt.hist(boundary_shear, weights=weights1, bins=np.arange(-1.3, 4.3, 0.2), alpha=0.4, label=\"boundary shear\")\n",
    "plt.legend(loc='upper left')"
   ]
  },
  {
   "cell_type": "code",
   "execution_count": 4,
   "metadata": {},
   "outputs": [
    {
     "data": {
      "text/plain": [
       "<BarContainer object of 5 artists>"
      ]
     },
     "execution_count": 4,
     "metadata": {},
     "output_type": "execute_result"
    },
    {
     "data": {
      "image/png": "[encoded data removed]",
      "text/plain": [
       "<Figure size 432x288 with 1 Axes>"
      ]
     },
     "metadata": {},
     "output_type": "display_data"
    }
   ],
   "source": [
    "means = (np.mean(baseline), np.mean(select), np.mean(select2), np.mean(boundary_shear), np.mean(distribution))\n",
    "std = (np.std(baseline), np.std(select), np.std(select2), np.std(boundary_shear), np.std(distribution))\n",
    "\n",
    "plt.bar((10, 20, 30, 40, 50), means, yerr=std, width=4)"
   ]
  },
  {
   "cell_type": "code",
   "execution_count": 5,
   "metadata": {},
   "outputs": [],
   "source": [
    "baseline_best = {}\n",
    "for filename in os.listdir(\"comparison_concave/baseline\"):\n",
    "    if len(filename.split(\".\"))!=2 or filename.split(\".\")[1]!=\"json\":\n",
    "        continue\n",
    "    with open(\"comparison_concave/baseline/\"+filename, 'r') as f:\n",
    "        dic = json.load(f)\n",
    "    push_object = -1\n",
    "    max_dist = 0\n",
    "    for obj_ind in range(2):\n",
    "        for obj_ind_2 in range(1, 3):\n",
    "            if euclidean_dist(dic[str(obj_ind)+\" original pos\"], dic[str(obj_ind_2)+\" original pos\"]) > max_dist:\n",
    "                max_dist = euclidean_dist(dic[str(obj_ind)+\" original pos\"], dic[str(obj_ind_2)+\" original pos\"])\n",
    "                push_object = 3 - obj_ind - obj_ind_2\n",
    "    if push_object == -1 or push_object != dic[\"first contact object\"]:\n",
    "        continue\n",
    "    key = filename.split(\"_\")[0]\n",
    "    if not key in baseline_best.keys():\n",
    "        baseline_best[key] = [dic[str(push_object)+\" change of pos\"], dic['mean separation after push'] - dic['mean separation before push'], filename]\n",
    "    elif baseline_best[key][0] < dic[str(push_object)+\" change of pos\"]:\n",
    "        baseline_best[key] = [dic[str(push_object)+\" change of pos\"], dic['mean separation after push'] - dic['mean separation before push'], filename]\n",
    "\n",
    "        \n",
    "baseline_final = [baseline_best[key][1] for key in baseline_best.keys()]"
   ]
  },
  {
   "cell_type": "code",
   "execution_count": 6,
   "metadata": {},
   "outputs": [],
   "source": [
    "selected_best = {}\n",
    "for filename in os.listdir(\"comparison_concave/selected\"):\n",
    "    if len(filename.split(\".\"))!=2 or filename.split(\".\")[1]!=\"json\":\n",
    "        continue\n",
    "    with open(\"comparison_concave/selected/\"+filename, 'r') as f:\n",
    "        dic = json.load(f)\n",
    "    push_object = -1\n",
    "    max_dist = 0\n",
    "    for obj_ind in range(2):\n",
    "        for obj_ind_2 in range(1, 3):\n",
    "            if euclidean_dist(dic[str(obj_ind)+\" original pos\"], dic[str(obj_ind_2)+\" original pos\"]) > max_dist:\n",
    "                max_dist = euclidean_dist(dic[str(obj_ind)+\" original pos\"], dic[str(obj_ind_2)+\" original pos\"])\n",
    "                push_object = 3 - obj_ind - obj_ind_2\n",
    "    if push_object == -1 or push_object != dic[\"first contact object\"]:\n",
    "        continue\n",
    "    key = filename.split(\"_\")[0]\n",
    "    if not key in selected_best.keys():\n",
    "        selected_best[key] = [dic[str(push_object)+\" change of pos\"], dic['mean separation after push'] - dic['mean separation before push'], filename]\n",
    "    elif selected_best[key][0] < dic[str(push_object)+\" change of pos\"]:\n",
    "        selected_best[key] = [dic[str(push_object)+\" change of pos\"], dic['mean separation after push'] - dic['mean separation before push'], filename]\n",
    "\n",
    "        \n",
    "selected_final = [selected_best[key][1] for key in selected_best.keys()]"
   ]
  },
  {
   "cell_type": "code",
   "execution_count": 7,
   "metadata": {},
   "outputs": [],
   "source": [
    "selected2_best = {}\n",
    "for filename in os.listdir(\"comparison_concave/selected2\"):\n",
    "    if len(filename.split(\".\"))!=2 or filename.split(\".\")[1]!=\"json\":\n",
    "        continue\n",
    "    with open(\"comparison_concave/selected2/\"+filename, 'r') as f:\n",
    "        dic = json.load(f)\n",
    "    push_object = -1\n",
    "    max_dist = 0\n",
    "    for obj_ind in range(2):\n",
    "        for obj_ind_2 in range(1, 3):\n",
    "            if euclidean_dist(dic[str(obj_ind)+\" original pos\"], dic[str(obj_ind_2)+\" original pos\"]) > max_dist:\n",
    "                max_dist = euclidean_dist(dic[str(obj_ind)+\" original pos\"], dic[str(obj_ind_2)+\" original pos\"])\n",
    "                push_object = 3 - obj_ind - obj_ind_2\n",
    "    if push_object == -1 or push_object != dic[\"first contact object\"]:\n",
    "        continue\n",
    "    key = filename.split(\"_\")[0]\n",
    "    if not key in selected2_best.keys():\n",
    "        selected2_best[key] = [dic[str(push_object)+\" change of pos\"], dic['mean separation after push'] - dic['mean separation before push'], filename]\n",
    "    elif selected2_best[key][0] < dic[str(push_object)+\" change of pos\"]:\n",
    "        selected2_best[key] = [dic[str(push_object)+\" change of pos\"], dic['mean separation after push'] - dic['mean separation before push'], filename]\n",
    "\n",
    "        \n",
    "selected2_final = [selected2_best[key][1] for key in selected2_best.keys()]"
   ]
  },
  {
   "cell_type": "code",
   "execution_count": 8,
   "metadata": {},
   "outputs": [],
   "source": [
    "boundary_shear_all = {}\n",
    "for filename in os.listdir(\"comparison_concave/boundary_shear\"):\n",
    "    if len(filename.split(\".\"))!=2 or filename.split(\".\")[1]!=\"json\":\n",
    "        continue\n",
    "    with open(\"comparison_concave/boundary_shear/\"+filename, 'r') as f:\n",
    "        dic = json.load(f)\n",
    "    key = filename.split(\"_\")[0]\n",
    "    if not key in boundary_shear_all.keys():\n",
    "        boundary_shear_all[key] = [dic[str(push_object)+\" change of pos\"], dic['mean separation after push'] - dic['mean separation before push'], filename]\n",
    "    elif boundary_shear_all[key][0] < dic[str(push_object)+\" change of pos\"]:\n",
    "        boundary_shear_all[key] = [dic[str(push_object)+\" change of pos\"], dic['mean separation after push'] - dic['mean separation before push'], filename]\n",
    "\n"
   ]
  },
  {
   "cell_type": "code",
   "execution_count": 40,
   "metadata": {},
   "outputs": [
    {
     "data": {
      "text/plain": [
       "<matplotlib.legend.Legend at 0x11d44ee80>"
      ]
     },
     "execution_count": 40,
     "metadata": {},
     "output_type": "execute_result"
    },
    {
     "data": {
      "image/png": "[encoded data removed]",
      "text/plain": [
       "<Figure size 432x288 with 1 Axes>"
      ]
     },
     "metadata": {},
     "output_type": "display_data"
    }
   ],
   "source": [
    "weights2 = np.ones_like(baseline_final)/float(len(baseline_final))\n",
    "plt.hist(baseline_final, weights=weights2, bins=np.arange(-1, 4.5, 0.15), alpha=0.3, label=\"baseline\")\n",
    "weights3 = np.ones_like(selected_final)/float(len(selected_final))\n",
    "plt.hist(selected_final, weights=weights3, bins=np.arange(-1, 4.5, 0.15), alpha=0.3, label=\"select method 1\")\n",
    "weights4 = np.ones_like(selected2_final)/float(len(selected2_final))\n",
    "plt.hist(selected2_final, weights=weights4, bins=np.arange(-1, 4.5, 0.15), alpha=0.3, label=\"select method 2\")\n",
    "weights5 = np.ones_like(boundary_shear)/float(len(boundary_shear))\n",
    "plt.hist(boundary_shear, weights=weights5, bins=np.arange(-1, 4.5, 0.15), alpha=0.3, label=\"boundary shear\")\n",
    "plt.legend(loc='upper left')"
   ]
  },
  {
   "cell_type": "code",
   "execution_count": 10,
   "metadata": {},
   "outputs": [
    {
     "data": {
      "text/plain": [
       "<BarContainer object of 5 artists>"
      ]
     },
     "execution_count": 10,
     "metadata": {},
     "output_type": "execute_result"
    },
    {
     "data": {
      "image/png": "[encoded data removed]",
      "text/plain": [
       "<Figure size 432x288 with 1 Axes>"
      ]
     },
     "metadata": {},
     "output_type": "display_data"
    }
   ],
   "source": [
    "plt.bar((10, 20, 30, 40, 50), means, yerr=std, width=4)\n",
    "means = (np.mean(baseline_final), np.mean(selected_final), np.mean(selected2_final), np.mean(boundary_shear), np.mean(distribution))\n",
    "std = (np.std(baseline_final), np.std(selected_final), np.std(selected2_final), np.std(boundary_shear), np.std(distribution))\n",
    "\n",
    "plt.bar((10, 20, 30, 40, 50), means, yerr=std, width=4)"
   ]
  },
  {
   "cell_type": "code",
   "execution_count": 11,
   "metadata": {},
   "outputs": [],
   "source": [
    "overall = {}\n",
    "\n",
    "for key in baseline_best.keys():\n",
    "    if not key in overall.keys():\n",
    "        overall[key] = baseline_best[key]\n",
    "    elif overall[key][1] < baseline_best[key][1]:\n",
    "        overall[key] = baseline_best[key]\n",
    "        \n",
    "for key in selected_best.keys():\n",
    "    if not key in overall.keys():\n",
    "        overall[key] = selected_best[key]\n",
    "    elif overall[key][1] < selected_best[key][1]:\n",
    "        overall[key] = selected_best[key]\n",
    "        \n",
    "for key in selected2_best.keys():\n",
    "    if not key in overall.keys():\n",
    "        overall[key] = selected2_best[key]\n",
    "    elif overall[key][1] < selected2_best[key][1]:\n",
    "        overall[key] = selected2_best[key]\n",
    "\n",
    "for key in boundary_shear_all.keys():\n",
    "    if not key in overall.keys():\n",
    "        overall[key] = boundary_shear_all[key]\n",
    "    elif overall[key][1] < boundary_shear_all[key][1]:\n",
    "        overall[key] = boundary_shear_all[key]\n",
    "\n",
    "overall_final = [overall[key][1] for key in overall.keys()]"
   ]
  },
  {
   "cell_type": "code",
   "execution_count": 12,
   "metadata": {},
   "outputs": [
    {
     "data": {
      "text/plain": [
       "(array([ 0.        ,  0.        ,  0.        ,  0.        ,  0.        ,\n",
       "         0.        ,  0.        ,  0.        ,  0.        ,  0.        ,\n",
       "         0.        ,  0.        ,  0.        ,  0.        ,  0.        ,\n",
       "         0.01315789,  0.05263158,  0.02631579,  0.        ,  0.01315789,\n",
       "         0.05263158,  0.02631579,  0.05263158,  0.05263158,  0.03947368,\n",
       "         0.06578947,  0.07894737,  0.05263158,  0.14473684,  0.09210526,\n",
       "         0.07894737,  0.02631579,  0.05263158,  0.01315789,  0.02631579]),\n",
       " array([ 0. ,  0.1,  0.2,  0.3,  0.4,  0.5,  0.6,  0.7,  0.8,  0.9,  1. ,\n",
       "         1.1,  1.2,  1.3,  1.4,  1.5,  1.6,  1.7,  1.8,  1.9,  2. ,  2.1,\n",
       "         2.2,  2.3,  2.4,  2.5,  2.6,  2.7,  2.8,  2.9,  3. ,  3.1,  3.2,\n",
       "         3.3,  3.4,  3.5]),\n",
       " <a list of 35 Patch objects>)"
      ]
     },
     "execution_count": 12,
     "metadata": {},
     "output_type": "execute_result"
    },
    {
     "data": {
      "image/png": "[encoded data removed]",
      "text/plain": [
       "<Figure size 432x288 with 1 Axes>"
      ]
     },
     "metadata": {},
     "output_type": "display_data"
    }
   ],
   "source": [
    "weights5 = np.ones_like(overall_final)/float(len(overall_final))\n",
    "plt.hist(overall_final, weights=weights5, bins=np.arange(0.0, 3.6, 0.1), label=\"overall best\")"
   ]
  },
  {
   "cell_type": "code",
   "execution_count": 13,
   "metadata": {},
   "outputs": [],
   "source": [
    "optimal = {}\n",
    "for filename in os.listdir(\"comparison_concave/distribution\"):\n",
    "    if len(filename.split(\".\"))!=2 or filename.split(\".\")[1]!=\"json\":\n",
    "        continue\n",
    "    with open(\"comparison_concave/distribution/\"+filename, 'r') as f:\n",
    "        dic = json.load(f)\n",
    "    key = filename.split(\"_\")[0]\n",
    "    if not key in optimal.keys():\n",
    "        optimal[key] = [dic['mean separation after push'] - dic['mean separation before push'], filename]\n",
    "    elif optimal[key][0] < dic['mean separation after push'] - dic['mean separation before push']:\n",
    "        optimal[key] = [dic['mean separation after push'] - dic['mean separation before push'], filename]"
   ]
  },
  {
   "cell_type": "code",
   "execution_count": 14,
   "metadata": {},
   "outputs": [],
   "source": [
    "optimal_final = [optimal[key][0] for key in optimal.keys()]"
   ]
  },
  {
   "cell_type": "code",
   "execution_count": 42,
   "metadata": {},
   "outputs": [
    {
     "data": {
      "text/plain": [
       "<matplotlib.legend.Legend at 0x11da238d0>"
      ]
     },
     "execution_count": 42,
     "metadata": {},
     "output_type": "execute_result"
    },
    {
     "data": {
      "image/png": "[encoded data removed]",
      "text/plain": [
       "<Figure size 432x288 with 1 Axes>"
      ]
     },
     "metadata": {},
     "output_type": "display_data"
    }
   ],
   "source": [
    "weights2 = np.ones_like(baseline_final)/float(len(baseline_final))\n",
    "plt.hist(baseline_final, weights=weights2, bins=np.arange(-1, 4.5, 0.15), alpha=0.3, label=\"baseline\")\n",
    "weights3 = np.ones_like(selected_final)/float(len(selected_final))\n",
    "plt.hist(selected_final, weights=weights3, bins=np.arange(-1, 4.5, 0.15), alpha=0.3, label=\"select method 1\")\n",
    "weights4 = np.ones_like(selected2_final)/float(len(selected2_final))\n",
    "plt.hist(selected2_final, weights=weights4, bins=np.arange(-1, 4.5, 0.15), alpha=0.3, label=\"select method 2\")\n",
    "weights5 = np.ones_like(boundary_shear)/float(len(boundary_shear))\n",
    "plt.hist(boundary_shear, weights=weights5, bins=np.arange(-1, 4.5, 0.15), alpha=0.3, label=\"boundary shear\")\n",
    "weights6 = np.ones_like(optimal_final)/float(len(optimal_final))\n",
    "plt.hist(optimal_final, weights=weights6, bins=np.arange(-1, 4.5, 0.15), alpha=1, label=\"optimal over 300\")\n",
    "plt.legend(loc='upper left')"
   ]
  },
  {
   "cell_type": "code",
   "execution_count": 45,
   "metadata": {},
   "outputs": [
    {
     "data": {
      "text/plain": [
       "<matplotlib.legend.Legend at 0x11dddec88>"
      ]
     },
     "execution_count": 45,
     "metadata": {},
     "output_type": "execute_result"
    },
    {
     "data": {
      "image/png": "[encoded data removed]",
      "text/plain": [
       "<Figure size 432x288 with 1 Axes>"
      ]
     },
     "metadata": {},
     "output_type": "display_data"
    }
   ],
   "source": [
    "weights5 = np.ones_like(overall_final)/float(len(overall_final))\n",
    "plt.hist(overall_final, weights=weights5, bins=np.arange(1.3, 4.3, 0.1), alpha=0.4, label=\"best proposed\")\n",
    "weights6 = np.ones_like(optimal_final)/float(len(optimal_final))\n",
    "plt.hist(optimal_final, weights=weights6, bins=np.arange(1.3, 4.3, 0.1), alpha=0.4, label=\"optimal over 300\")\n",
    "plt.legend(loc='upper left')"
   ]
  },
  {
   "cell_type": "code",
   "execution_count": 18,
   "metadata": {},
   "outputs": [],
   "source": [
    "a = {}\n",
    "for key in optimal.keys():\n",
    "    slips = []\n",
    "    if key in selected_best.keys():\n",
    "        slips.append(selected_best[key][1])\n",
    "    if key in selected2_best.keys():\n",
    "        slips.append(selected2_best[key][1])\n",
    "    if key in baseline_best.keys():\n",
    "        slips.append(baseline_best[key][1])\n",
    "    if len(slips) != 0:\n",
    "        optimal_slip = max(slips)\n",
    "        a[key] = (optimal_slip / optimal[key][0])"
   ]
  },
  {
   "cell_type": "code",
   "execution_count": 19,
   "metadata": {},
   "outputs": [],
   "source": [
    "slip_env = [a[key] for key in a.keys()]"
   ]
  },
  {
   "cell_type": "code",
   "execution_count": 22,
   "metadata": {},
   "outputs": [
    {
     "data": {
      "text/plain": [
       "(array([ 0.01315789,  0.        ,  0.01315789,  0.        ,  0.03947368,\n",
       "         0.        ,  0.        ,  0.06578947,  0.02631579,  0.01315789,\n",
       "         0.01315789,  0.05263158,  0.09210526,  0.01315789,  0.03947368,\n",
       "         0.03947368,  0.06578947,  0.06578947,  0.09210526,  0.07894737,\n",
       "         0.06578947,  0.07894737,  0.05263158,  0.06578947,  0.01315789,  0.        ]),\n",
       " array([ 0.3 ,  0.33,  0.36,  0.39,  0.42,  0.45,  0.48,  0.51,  0.54,\n",
       "         0.57,  0.6 ,  0.63,  0.66,  0.69,  0.72,  0.75,  0.78,  0.81,\n",
       "         0.84,  0.87,  0.9 ,  0.93,  0.96,  0.99,  1.02,  1.05,  1.08]),\n",
       " <a list of 26 Patch objects>)"
      ]
     },
     "execution_count": 22,
     "metadata": {},
     "output_type": "execute_result"
    },
    {
     "data": {
      "image/png": "[encoded data removed]",
      "text/plain": [
       "<Figure size 432x288 with 1 Axes>"
      ]
     },
     "metadata": {},
     "output_type": "display_data"
    }
   ],
   "source": [
    "weights6 = np.ones_like(slip_env)/float(len(slip_env))\n",
    "plt.hist(slip_env, weights=weights6, bins=np.arange(0.3, 1.1, 0.03), alpha=1, label=\"optimal over 300\")"
   ]
  },
  {
   "cell_type": "code",
   "execution_count": 23,
   "metadata": {},
   "outputs": [],
   "source": [
    "b = {}\n",
    "for key in optimal.keys():\n",
    "    if key in boundary_shear_all.keys():\n",
    "        mean_sep = boundary_shear_all[key][1]\n",
    "        b[key] = (mean_sep / optimal[key][0])"
   ]
  },
  {
   "cell_type": "code",
   "execution_count": 25,
   "metadata": {},
   "outputs": [
    {
     "data": {
      "text/plain": [
       "(array([ 0.        ,  0.01315789,  0.01315789,  0.        ,  0.        ,\n",
       "         0.        ,  0.02631579,  0.02631579,  0.03947368,  0.03947368,\n",
       "         0.03947368,  0.02631579,  0.03947368,  0.07894737,  0.02631579,\n",
       "         0.02631579,  0.02631579,  0.05263158,  0.06578947,  0.03947368,\n",
       "         0.01315789,  0.05263158,  0.01315789,  0.06578947,  0.10526316,\n",
       "         0.06578947,  0.02631579,  0.        ,  0.01315789,  0.01315789,\n",
       "         0.        ,  0.        ,  0.        ]),\n",
       " array([ 0.1 ,  0.13,  0.16,  0.19,  0.22,  0.25,  0.28,  0.31,  0.34,\n",
       "         0.37,  0.4 ,  0.43,  0.46,  0.49,  0.52,  0.55,  0.58,  0.61,\n",
       "         0.64,  0.67,  0.7 ,  0.73,  0.76,  0.79,  0.82,  0.85,  0.88,\n",
       "         0.91,  0.94,  0.97,  1.  ,  1.03,  1.06,  1.09]),\n",
       " <a list of 33 Patch objects>)"
      ]
     },
     "execution_count": 25,
     "metadata": {},
     "output_type": "execute_result"
    },
    {
     "data": {
      "image/png": "[encoded data removed]",
      "text/plain": [
       "<Figure size 432x288 with 1 Axes>"
      ]
     },
     "metadata": {},
     "output_type": "display_data"
    }
   ],
   "source": [
    "single_sep_env = [b[key] for key in b.keys()]\n",
    "weights6 = np.ones_like(single_sep_env)/float(len(single_sep_env))\n",
    "plt.hist(single_sep_env, weights=weights6, bins=np.arange(0.1, 1.1, 0.03), alpha=1, label=\"optimal over 300\")"
   ]
  },
  {
   "cell_type": "code",
   "execution_count": 26,
   "metadata": {},
   "outputs": [],
   "source": [
    "overall_ratio = {}\n",
    "for key in optimal.keys():\n",
    "    optimal_ratio = 0\n",
    "    if key in a.keys():\n",
    "        optimal_ratio = a[key]\n",
    "    if key in b.keys():\n",
    "        optimal_ratio = max(optimal_ratio, b[key])\n",
    "    overall_ratio[key] = optimal_ratio"
   ]
  },
  {
   "cell_type": "code",
   "execution_count": 29,
   "metadata": {},
   "outputs": [
    {
     "data": {
      "text/plain": [
       "(array([ 0.        ,  0.01315789,  0.        ,  0.02631579,  0.03947368,\n",
       "         0.02631579,  0.        ,  0.03947368,  0.05263158,  0.05263158,\n",
       "         0.02631579,  0.06578947,  0.05263158,  0.03947368,  0.14473684,\n",
       "         0.09210526,  0.06578947,  0.06578947,  0.07894737,  0.06578947,\n",
       "         0.05263158,  0.        ,  0.        ]),\n",
       " array([ 0.4 ,  0.43,  0.46,  0.49,  0.52,  0.55,  0.58,  0.61,  0.64,\n",
       "         0.67,  0.7 ,  0.73,  0.76,  0.79,  0.82,  0.85,  0.88,  0.91,\n",
       "         0.94,  0.97,  1.  ,  1.03,  1.06,  1.09]),\n",
       " <a list of 23 Patch objects>)"
      ]
     },
     "execution_count": 29,
     "metadata": {},
     "output_type": "execute_result"
    },
    {
     "data": {
      "image/png": "[encoded data removed]",
      "text/plain": [
       "<Figure size 432x288 with 1 Axes>"
      ]
     },
     "metadata": {},
     "output_type": "display_data"
    }
   ],
   "source": [
    "overall_ratio_distri = [overall_ratio[key] for key in overall_ratio.keys()]\n",
    "weights7 = np.ones_like(overall_ratio_distri)/float(len(overall_ratio_distri))\n",
    "plt.hist(overall_ratio_distri, weights=weights7, bins=np.arange(0.4, 1.1, 0.03), alpha=1, label=\"optimal over 300\")"
   ]
  },
  {
   "cell_type": "code",
   "execution_count": 31,
   "metadata": {},
   "outputs": [
    {
     "name": "stdout",
     "output_type": "stream",
     "text": [
      "71\n"
     ]
    }
   ],
   "source": [
    "for key in overall_ratio.keys():\n",
    "    if overall_ratio[key] < 0.5:\n",
    "        print(key)"
   ]
  },
  {
   "cell_type": "code",
   "execution_count": 32,
   "metadata": {},
   "outputs": [],
   "source": [
    "slip_better_then_declutter = {}\n",
    "slip_worse_then_declutter = {}\n",
    "for key in optimal.keys():\n",
    "    if key in a.keys() and key in b.keys():\n",
    "        if a[key] > b[key]:\n",
    "            slip_better_then_declutter[key] = a[key] - b[key]\n",
    "        else:\n",
    "            slip_worse_then_declutter[key] = b[key] - a[key]"
   ]
  },
  {
   "cell_type": "code",
   "execution_count": 35,
   "metadata": {},
   "outputs": [
    {
     "name": "stdout",
     "output_type": "stream",
     "text": [
      "79\n"
     ]
    }
   ],
   "source": [
    "for key in slip_better_then_declutter.keys():\n",
    "    if slip_better_then_declutter[key] > 0.8:\n",
    "        print(key)"
   ]
  },
  {
   "cell_type": "code",
   "execution_count": 38,
   "metadata": {},
   "outputs": [
    {
     "name": "stdout",
     "output_type": "stream",
     "text": [
      "74\n",
      "93\n"
     ]
    }
   ],
   "source": [
    "for key in slip_worse_then_declutter.keys():\n",
    "    if slip_worse_then_declutter[key] > 0.4:\n",
    "        print(key)"
   ]
  },
  {
   "cell_type": "code",
   "execution_count": null,
   "metadata": {},
   "outputs": [],
   "source": []
  }
 ],
 "metadata": {
  "kernelspec": {
   "display_name": "Python 3",
   "language": "python",
   "name": "python3"
  },
  "language_info": {
   "codemirror_mode": {
    "name": "ipython",
    "version": 3
   },
   "file_extension": ".py",
   "mimetype": "text/x-python",
   "name": "python",
   "nbconvert_exporter": "python",
   "pygments_lexer": "ipython3",
   "version": "3.6.5"
  }
 },
 "nbformat": 4,
 "nbformat_minor": 2
}
